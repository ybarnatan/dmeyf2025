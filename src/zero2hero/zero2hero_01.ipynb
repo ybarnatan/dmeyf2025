{
  "cells": [
    {
      "cell_type": "markdown",
      "metadata": {
        "id": "AkjDf14H3gEK"
      },
      "source": [
        "# Zero to Hero"
      ]
    },
    {
      "cell_type": "markdown",
      "source": [
        "### Seteo del ambiente en Google Colab"
      ],
      "metadata": {
        "id": "kmLygy1TYPfg"
      }
    },
    {
      "cell_type": "markdown",
      "source": [
        "Esta parte se debe correr con el runtime en Python3\n",
        "<br>Ir al menu, Runtime -> Change Runtime Tipe -> Runtime type ->  **Python 3**"
      ],
      "metadata": {
        "id": "OikOm5K2YU3X"
      }
    },
    {
      "cell_type": "markdown",
      "source": [
        "Conectar la virtual machine donde esta corriendo Google Colab con el  Google Drive, para poder tener persistencia de archivos"
      ],
      "metadata": {
        "id": "4fmV5LyZdFyI"
      }
    },
    {
      "cell_type": "code",
      "source": [
        "# primero establecer el Runtime de Python 3\n",
        "from google.colab import drive\n",
        "drive.mount('/content/.drive')"
      ],
      "metadata": {
        "id": "ilEZ-bE2VybW"
      },
      "execution_count": null,
      "outputs": []
    },
    {
      "cell_type": "markdown",
      "source": [
        "<br>los siguientes comando estan en shell script de Linux\n",
        "*   Crear las carpetas en el Google Drive\n",
        "*   Bajar el  **competencia_01_crudo**  al  Google Drive  y tambien al disco local de la virtual machine que esta corriendo Google Colab\n",
        "\n"
      ],
      "metadata": {
        "id": "ilaKtqWldeWg"
      }
    },
    {
      "cell_type": "code",
      "source": [
        "%%shell\n",
        "\n",
        "mkdir -p \"/content/.drive/My Drive/dmeyf\"\n",
        "mkdir -p \"/content/buckets\"\n",
        "ln -s \"/content/.drive/My Drive/dmeyf\" /content/buckets/b1\n",
        "\n",
        "\n",
        "mkdir -p /content/buckets/b1/exp\n",
        "mkdir -p /content/buckets/b1/datasets\n",
        "mkdir -p /content/datasets\n",
        "\n",
        "\n",
        "\n",
        "archivo_origen=\"https://storage.googleapis.com/open-courses/dmeyf2025-e4a2/competencia_01_crudo.csv\"\n",
        "archivo_destino=\"/content/datasets/competencia_01_crudo.csv\"\n",
        "archivo_destino_bucket=\"/content/buckets/b1/datasets/competencia_01_crudo.csv\"\n",
        "\n",
        "if ! test -f $archivo_destino_bucket; then\n",
        "  wget  $archivo_origen  -O $archivo_destino_bucket\n",
        "fi\n",
        "\n",
        "\n",
        "if ! test -f $archivo_destino; then\n",
        "  cp  $archivo_destino_bucket  $archivo_destino\n",
        "fi\n"
      ],
      "metadata": {
        "id": "W8dQFI5QYCFa"
      },
      "execution_count": null,
      "outputs": []
    },
    {
      "cell_type": "markdown",
      "source": [
        "## Generacion de la clase_ternaria"
      ],
      "metadata": {
        "id": "dseB4qb9RqUb"
      }
    },
    {
      "cell_type": "markdown",
      "source": [
        "Esta parte se debe correr con el runtime en lenguaje **R** Ir al menu, Runtime -> Change Runtime Tipe -> Runtime type -> R"
      ],
      "metadata": {
        "id": "LCEnE_02RuIQ"
      }
    },
    {
      "cell_type": "code",
      "source": [
        "require( \"data.table\" )\n",
        "\n",
        "# leo el dataset\n",
        "dataset <- fread(\"/content/datasets/competencia_01_crudo.csv\" )\n",
        "\n",
        "# calculo el periodo0 consecutivo\n",
        "dsimple <- dataset[, list(\n",
        "    \"pos\" = .I,\n",
        "    numero_de_cliente,\n",
        "    periodo0 = as.integer(foto_mes/100)*12 +  foto_mes%%100 ) ]\n",
        "\n",
        "\n",
        "# ordeno\n",
        "setorder( dsimple, numero_de_cliente, periodo0 )\n",
        "\n",
        "# calculo topes\n",
        "periodo_ultimo <- dsimple[, max(periodo0) ]\n",
        "periodo_anteultimo <- periodo_ultimo - 1\n",
        "\n",
        "\n",
        "# calculo los leads de orden 1 y 2\n",
        "dsimple[, c(\"periodo1\", \"periodo2\") :=\n",
        "    shift(periodo0, n=1:2, fill=NA, type=\"lead\"),  numero_de_cliente ]\n",
        "\n",
        "# assign most common class values = \"CONTINUA\"\n",
        "dsimple[ periodo0 < periodo_anteultimo, clase_ternaria := \"CONTINUA\" ]\n",
        "\n",
        "# calculo BAJA+1\n",
        "dsimple[ periodo0 < periodo_ultimo &\n",
        "    ( is.na(periodo1) | periodo0 + 1 < periodo1 ),\n",
        "    clase_ternaria := \"BAJA+1\" ]\n",
        "\n",
        "# calculo BAJA+2\n",
        "dsimple[ periodo0 < periodo_anteultimo & (periodo0+1 == periodo1 )\n",
        "    & ( is.na(periodo2) | periodo0 + 2 < periodo2 ),\n",
        "    clase_ternaria := \"BAJA+2\" ]\n",
        "\n",
        "\n",
        "# pego el resultado en el dataset original y grabo\n",
        "setorder( dsimple, pos )\n",
        "dataset[, clase_ternaria := dsimple$clase_ternaria ]\n",
        "\n",
        "fwrite( dataset,\n",
        "    file =  \"/content/datasets/competencia_01.csv.gz\",\n",
        "    sep = \",\"\n",
        ")"
      ],
      "metadata": {
        "id": "P863YZB9R1Ua"
      },
      "execution_count": null,
      "outputs": []
    },
    {
      "cell_type": "code",
      "source": [
        "setorder( dataset, foto_mes, clase_ternaria, numero_de_cliente)\n",
        "dataset[, .N, list(foto_mes, clase_ternaria)]"
      ],
      "metadata": {
        "id": "S3hL7tv8W4rn"
      },
      "execution_count": null,
      "outputs": []
    },
    {
      "cell_type": "markdown",
      "metadata": {
        "id": "b7JOTTPM3gEP"
      },
      "source": [
        "# 1 Arranque rápido"
      ]
    },
    {
      "cell_type": "markdown",
      "metadata": {
        "id": "eJn8h8uu3gEQ"
      },
      "source": [
        "En el capítulo 1 se hará un recorrido por las principales componentes del lenguaje R mínimos necesarios para resolver el problema de la asignatura, justificando las elecciones tomadas.\n",
        "<br>\n",
        "No es la idea de estos notebooks ser un manual del lenguaje R ni tampoco de los paquetes."
      ]
    },
    {
      "cell_type": "markdown",
      "metadata": {
        "id": "7BODdrMo3gER"
      },
      "source": [
        "## 1.01  Lectura del dataset"
      ]
    },
    {
      "cell_type": "markdown",
      "metadata": {
        "id": "KWx7iM313gES"
      },
      "source": [
        "Trata sobre la motivacion de utilizar  data.table"
      ]
    },
    {
      "cell_type": "markdown",
      "metadata": {
        "id": "kVEbd6hU3gES"
      },
      "source": [
        "Trata sobre la motivacion de utilizar data.table Simplemente se carga el dataset y se mide el tiempo que demora, el que es extremadamente alto e inexplicable."
      ]
    },
    {
      "cell_type": "code",
      "execution_count": null,
      "metadata": {
        "tags": [],
        "vscode": {
          "languageId": "r"
        },
        "id": "xTj3wVjG3gET"
      },
      "outputs": [],
      "source": [
        "setwd(\"/content/buckets/b1/exp\") # Establezco el Working Directory\n"
      ]
    },
    {
      "cell_type": "markdown",
      "metadata": {
        "id": "k_BthGB93gEW"
      },
      "source": [
        "Ahora vamos a cargar el dataframe como en R Base, tradicional, pero vamos a medir el tiempo\n",
        "para conocer la hora actual utilizo la fucion de R  Sys.time\n",
        "y para calcular la diferencia utilizo as.numeric(  t1 - t0, units = \"secs\")  convirtiéndolo a segundos"
      ]
    },
    {
      "cell_type": "markdown",
      "metadata": {
        "id": "l2jcCyMA3gEX"
      },
      "source": [
        "Primero veo que hace la funcion  Sys.time()"
      ]
    },
    {
      "cell_type": "code",
      "execution_count": null,
      "metadata": {
        "tags": [],
        "vscode": {
          "languageId": "r"
        },
        "id": "e-GwwEjf3gEX"
      },
      "outputs": [],
      "source": [
        "Sys.time()\n"
      ]
    },
    {
      "cell_type": "markdown",
      "metadata": {
        "id": "rxcn-KfL3gEY"
      },
      "source": [
        "devuelve fecha, hora  y huso horario  ( -03 para el caso de Argentina)\n",
        "<br>\n",
        "Leyendo la documentación  en  https://www.rdocumentation.org/packages/base/versions/3.6.2/topics/Sys.time    veo que la precisión es de 1/60 segundos,  lo cual para el tipo de medidas que tomaremos es más que suficiente."
      ]
    },
    {
      "cell_type": "code",
      "execution_count": null,
      "metadata": {
        "tags": [],
        "vscode": {
          "languageId": "r"
        },
        "id": "QwRT1fTY3gEZ"
      },
      "outputs": [],
      "source": [
        "t0 <- Sys.time()\n",
        "dataset <- read.csv(\"/content/datasets/competencia_01.csv.gz\")\n",
        "t1 <- Sys.time()\n",
        "delta <- as.numeric(t1 - t0, units = \"secs\") # calculo la diferencia de tiempos\n",
        "print(delta) # imprimo\n"
      ]
    },
    {
      "cell_type": "markdown",
      "metadata": {
        "id": "ah8OTv4v3gEZ"
      },
      "source": [
        "#### la primer corrida da, 92 segundos !\n",
        "¿Qué tenebrosos cálculos estará haciendo para demorar 92 segundos?\n",
        "A lo sumo tiene que leer el archivo dos veces, para determinar si un campo es numerico o character."
      ]
    },
    {
      "cell_type": "markdown",
      "metadata": {
        "id": "LykrXPpn3gEa"
      },
      "source": [
        "vuelvo a correr lo mismo, quizas hubo un problema de acceso al disco, y hasta quizas esta segunda vez el archivo ya esté en la memoria del sistema operativo"
      ]
    },
    {
      "cell_type": "code",
      "execution_count": null,
      "metadata": {
        "tags": [],
        "vscode": {
          "languageId": "r"
        },
        "id": "-TTzxKxR3gEa"
      },
      "outputs": [],
      "source": [
        "t0 <- Sys.time()\n",
        "dataset <- read.csv(\"/content/datasets/competencia_01.csv.gz\")\n",
        "t1 <- Sys.time()\n",
        "delta <- as.numeric(t1 - t0, units = \"secs\") # calculo la diferencia de tiempos\n",
        "print(delta) # imprimo\n"
      ]
    },
    {
      "cell_type": "markdown",
      "metadata": {
        "id": "U2FdvgK63gEb"
      },
      "source": [
        "### la segunda corrida da  81 segundos !"
      ]
    },
    {
      "cell_type": "markdown",
      "metadata": {
        "id": "9AgyHeZF3gEb"
      },
      "source": [
        "Se busca bibliografía sobre que alternativa hay al manejo de dataframes del R Base\n",
        "<br>\n",
        "Aparecen varias alternativas, benchmarks muestran la superioridad de data.table\n",
        "<br>\n",
        "Pasamos a probar la libreria  data.table a ver si los becnmarks están en lo cierto, o es solo marketing\n",
        "<br>\n",
        "Si no se tiene instalada la libreria,  instalarla primero con  **install.packages( \"data.table\", dependencies=TRUE )**"
      ]
    },
    {
      "cell_type": "code",
      "execution_count": null,
      "metadata": {
        "tags": [],
        "vscode": {
          "languageId": "r"
        },
        "id": "q25t9Yut3gEc"
      },
      "outputs": [],
      "source": [
        "library(\"data.table\") # cargo la libreria  data.table\n",
        "\n",
        "if(!require(\"R.utils\")) install.packages(\"R.utils\")\n",
        "require(\"R.utils\")"
      ]
    },
    {
      "cell_type": "code",
      "execution_count": null,
      "metadata": {
        "tags": [],
        "vscode": {
          "languageId": "r"
        },
        "id": "evHVtH_C3gEc"
      },
      "outputs": [],
      "source": [
        "t0 <- Sys.time()\n",
        "dataset <- fread(\"/content/datasets/competencia_01.csv.gz\")\n",
        "t1 <- Sys.time()\n",
        "delta <- as.numeric(t1 - t0, units = \"secs\") # calculo la diferencia de tiempos\n",
        "print(delta) # imprimo\n"
      ]
    },
    {
      "cell_type": "markdown",
      "metadata": {
        "id": "kj8el4gY3gEd"
      },
      "source": [
        "###### la primer corrida da  17 segundos"
      ]
    },
    {
      "cell_type": "markdown",
      "metadata": {
        "id": "Xn3rTI6m3gEd"
      },
      "source": [
        "Hagamos una segunda corrida"
      ]
    },
    {
      "cell_type": "code",
      "execution_count": null,
      "metadata": {
        "tags": [],
        "vscode": {
          "languageId": "r"
        },
        "id": "Nvlvc4Lh3gEe"
      },
      "outputs": [],
      "source": [
        "t0 <- Sys.time()\n",
        "dataset <- fread(\"/content/datasets/competencia_01.csv.gz\")\n",
        "t1 <- Sys.time()\n",
        "delta <- as.numeric(t1 - t0, units = \"secs\") # calculo la diferencia de tiempos\n",
        "print(delta) # imprimo\n"
      ]
    },
    {
      "cell_type": "markdown",
      "metadata": {
        "id": "npv1HtVL3gEe"
      },
      "source": [
        "# la segunda corrida da  13 segundos"
      ]
    },
    {
      "cell_type": "markdown",
      "metadata": {
        "id": "IY-DGntN3gEe"
      },
      "source": [
        "Ciertamente leer un dataset es una tarea que se hace unicamente al comienzo de los programas, pero se lee en la bibligrafía que data.table funciona más rápido para *todas* las operaciones sobre datasets, lo que se confirmará en los siguientes capítulos."
      ]
    },
    {
      "cell_type": "markdown",
      "metadata": {
        "id": "QWrPC0uo3gEf"
      },
      "source": [
        "Es una verdadera pena que los fans de tidyverse no exploren data.table, así como en Python que Pandas sea tan servilmente aceptada."
      ]
    },
    {
      "cell_type": "markdown",
      "source": [
        "\n",
        "\n",
        "---\n",
        "\n"
      ],
      "metadata": {
        "id": "x7SebtV2lpHQ"
      }
    },
    {
      "cell_type": "markdown",
      "metadata": {
        "id": "05fMFge55ioW"
      },
      "source": [
        "\\## 1.02  Operaciones básicas"
      ]
    },
    {
      "cell_type": "markdown",
      "metadata": {
        "id": "ghquz7dJ5ioX"
      },
      "source": [
        "Se muestra una alternativa a cargar el dataset directamente desde la nube, que funciona desde Kaggle, Google Colab\n",
        "<br>\n",
        "Si se está corriendo desde la PC local, siempre es preferible cargar el archivo del disco local."
      ]
    },
    {
      "cell_type": "markdown",
      "source": [
        "limpio el ambiente de R"
      ],
      "metadata": {
        "id": "SE94XRhWsxkX"
      }
    },
    {
      "cell_type": "code",
      "source": [
        "# limpio la memoria\n",
        "rm(list=ls(all.names=TRUE)) # remove all objects\n",
        "gc(full=TRUE, verbose=FALSE) # garbage collection"
      ],
      "metadata": {
        "id": "oZG_4br6szlT"
      },
      "execution_count": null,
      "outputs": []
    },
    {
      "cell_type": "code",
      "execution_count": null,
      "metadata": {
        "tags": [],
        "vscode": {
          "languageId": "r"
        },
        "id": "Uv2mIdz-5ioY"
      },
      "outputs": [],
      "source": [
        "library(\"data.table\") # cargo la libreria  data.table\n",
        "\n",
        "if(!require(\"R.utils\")) install.packages(\"R.utils\")\n",
        "require(\"R.utils\")"
      ]
    },
    {
      "cell_type": "code",
      "execution_count": null,
      "metadata": {
        "tags": [],
        "vscode": {
          "languageId": "r"
        },
        "id": "jCDwkPMH5iob"
      },
      "outputs": [],
      "source": [
        "dataset <- fread(\"/content/datasets/competencia_01.csv.gz\")\n"
      ]
    },
    {
      "cell_type": "markdown",
      "metadata": {
        "id": "bim8Zm9J5iod"
      },
      "source": [
        "### Ahora, algunas operaciones básicas con el dataset"
      ]
    },
    {
      "cell_type": "markdown",
      "metadata": {
        "id": "g2h1MCZ15ioe"
      },
      "source": [
        "cantidad de registros y columnas"
      ]
    },
    {
      "cell_type": "code",
      "execution_count": null,
      "metadata": {
        "tags": [],
        "vscode": {
          "languageId": "r"
        },
        "id": "aQZOSNHd5ioe"
      },
      "outputs": [],
      "source": [
        "nrow(dataset)\n",
        "ncol(dataset)\n"
      ]
    },
    {
      "cell_type": "markdown",
      "metadata": {
        "id": "mQkslcw_5iof"
      },
      "source": [
        "Otra forma de ver la cantidad de registros del dataset, al  *estilo data table*\n",
        "<br>\n",
        "El .N  es la cantidad de registros y va en la segunda poscion  dataset[ 1, 2, 3 ]"
      ]
    },
    {
      "cell_type": "code",
      "execution_count": null,
      "metadata": {
        "tags": [],
        "vscode": {
          "languageId": "r"
        },
        "id": "tjku-rnt5iog"
      },
      "outputs": [],
      "source": [
        "dataset[, .N]\n"
      ]
    },
    {
      "cell_type": "markdown",
      "metadata": {
        "id": "zvjfJO865iog"
      },
      "source": [
        "Ahora hacemos la apertura por el periodo, el campo  foto_mes"
      ]
    },
    {
      "cell_type": "code",
      "execution_count": null,
      "metadata": {
        "tags": [],
        "vscode": {
          "languageId": "r"
        },
        "id": "hX2d3baY5ioh"
      },
      "outputs": [],
      "source": [
        "dataset[, .N, foto_mes]\n"
      ]
    },
    {
      "cell_type": "markdown",
      "metadata": {
        "id": "_r9-E8VB5ioh"
      },
      "source": [
        "nombre de las columnas del dataset"
      ]
    },
    {
      "cell_type": "code",
      "execution_count": null,
      "metadata": {
        "tags": [],
        "vscode": {
          "languageId": "r"
        },
        "id": "k8s49HVO5ioh"
      },
      "outputs": [],
      "source": [
        "colnames(dataset)\n"
      ]
    },
    {
      "cell_type": "markdown",
      "metadata": {
        "id": "HHg4kw2R5ioi"
      },
      "source": [
        "Exploración de clase_ternaria."
      ]
    },
    {
      "cell_type": "code",
      "execution_count": null,
      "metadata": {
        "tags": [],
        "vscode": {
          "languageId": "r"
        },
        "id": "89Ibo96f5ioi"
      },
      "outputs": [],
      "source": [
        "dataset[, .N, list(foto_mes, clase_ternaria)]\n"
      ]
    },
    {
      "cell_type": "markdown",
      "metadata": {
        "id": "hPvRfLzW5ioj"
      },
      "source": [
        "###  varias formas de contar los BAJA+2"
      ]
    },
    {
      "cell_type": "markdown",
      "metadata": {
        "id": "8_OzZZs85ioj"
      },
      "source": [
        "todas las formas dan el mismo resultado"
      ]
    },
    {
      "cell_type": "code",
      "execution_count": null,
      "metadata": {
        "tags": [],
        "vscode": {
          "languageId": "r"
        },
        "id": "fwR49gJx5ioj"
      },
      "outputs": [],
      "source": [
        "nrow(dataset[clase_ternaria == \"BAJA+2\"])\n"
      ]
    },
    {
      "cell_type": "code",
      "execution_count": null,
      "metadata": {
        "tags": [],
        "vscode": {
          "languageId": "r"
        },
        "id": "BtkQ-jPL5iok"
      },
      "outputs": [],
      "source": [
        "dataset[clase_ternaria == \"BAJA+2\", .N] # el autentico estilo data.table\n"
      ]
    },
    {
      "cell_type": "code",
      "execution_count": null,
      "metadata": {
        "tags": [],
        "vscode": {
          "languageId": "r"
        },
        "id": "gwTfH4fo5iok"
      },
      "outputs": [],
      "source": [
        "dataset[, sum(clase_ternaria == \"BAJA+2\")]\n"
      ]
    },
    {
      "cell_type": "markdown",
      "metadata": {
        "id": "NhMKOYin5iol"
      },
      "source": [
        "### Conteo de proporcion de BAJA+2 en el dataset"
      ]
    },
    {
      "cell_type": "code",
      "execution_count": null,
      "metadata": {
        "tags": [],
        "vscode": {
          "languageId": "r"
        },
        "id": "syka703A5iol"
      },
      "outputs": [],
      "source": [
        "dataset[foto_mes == 202104, sum(clase_ternaria == \"BAJA+2\") / .N]\n"
      ]
    },
    {
      "cell_type": "markdown",
      "metadata": {
        "id": "hOOdzZ975iol"
      },
      "source": [
        "Conteo de la proporcion de BAJA+2 en un predicado"
      ]
    },
    {
      "cell_type": "code",
      "execution_count": null,
      "metadata": {
        "tags": [],
        "vscode": {
          "languageId": "r"
        },
        "id": "Xvzu5CiJ5iom"
      },
      "outputs": [],
      "source": [
        "dataset[foto_mes == 202104 & ctrx_quarter < 20, sum(clase_ternaria == \"BAJA+2\") / .N]\n"
      ]
    },
    {
      "cell_type": "markdown",
      "metadata": {
        "id": "O_PFbzJS5iom"
      },
      "source": [
        "### Lift del predicado  ctrx_quarter  vs el universo"
      ]
    },
    {
      "cell_type": "markdown",
      "metadata": {
        "id": "5OyBvtTJ5iom"
      },
      "source": [
        "forma brutal de calcularlo"
      ]
    },
    {
      "cell_type": "code",
      "execution_count": null,
      "metadata": {
        "tags": [],
        "vscode": {
          "languageId": "r"
        },
        "id": "mulriI8t5iom"
      },
      "outputs": [],
      "source": [
        "dataset[foto_mes == 202104 & ctrx_quarter < 20, sum(clase_ternaria == \"BAJA+2\") / .N] / dataset[foto_mes == 202104, sum(clase_ternaria == \"BAJA+2\") / .N]\n"
      ]
    },
    {
      "cell_type": "markdown",
      "metadata": {
        "id": "-xtSwBhT5ion"
      },
      "source": [
        "### Ganancias del dataset"
      ]
    },
    {
      "cell_type": "markdown",
      "metadata": {
        "id": "YVNKmLfz5ion"
      },
      "source": [
        "Agregado de la columna ganancia al dataset"
      ]
    },
    {
      "cell_type": "markdown",
      "metadata": {
        "id": "t0XS9CAs5ion"
      },
      "source": [
        "Primero le asigno a TODOS los registros el valor de  -20000\n",
        "<br>\n",
        "la asignacion se hace con el  :="
      ]
    },
    {
      "cell_type": "code",
      "execution_count": null,
      "metadata": {
        "tags": [],
        "vscode": {
          "languageId": "r"
        },
        "id": "f1vvFv7z5ioo"
      },
      "outputs": [],
      "source": [
        "dataset[foto_mes == 202104, ganancia := -20000]\n"
      ]
    },
    {
      "cell_type": "markdown",
      "metadata": {
        "id": "UhVn_Y0z5ioo"
      },
      "source": [
        "y finalmente a los  BAJA+2 les asigno 780000"
      ]
    },
    {
      "cell_type": "code",
      "execution_count": null,
      "metadata": {
        "tags": [],
        "vscode": {
          "languageId": "r"
        },
        "id": "DsU4w5Oy5ioo"
      },
      "outputs": [],
      "source": [
        "dataset[foto_mes == 202104 & clase_ternaria == \"BAJA+2\", ganancia := 780000]\n"
      ]
    },
    {
      "cell_type": "markdown",
      "metadata": {
        "id": "ImBIUJxy5iop"
      },
      "source": [
        "Calculo la ganancia que tendria una campaña en donde envío estímulo a TODOS los clientes"
      ]
    },
    {
      "cell_type": "code",
      "execution_count": null,
      "metadata": {
        "tags": [],
        "vscode": {
          "languageId": "r"
        },
        "id": "zoYNkOTl5iop"
      },
      "outputs": [],
      "source": [
        "dataset[foto_mes == 202104, sum(ganancia)]\n"
      ]
    },
    {
      "cell_type": "markdown",
      "metadata": {
        "id": "nbE7GCng5iop"
      },
      "source": [
        "Si le enviara estímulo a todos, se **pierden**  2364 millones de pesos"
      ]
    },
    {
      "cell_type": "markdown",
      "metadata": {
        "id": "IqRoKL745io3"
      },
      "source": [
        "### Ganancias de predicados univariados"
      ]
    },
    {
      "cell_type": "markdown",
      "metadata": {
        "id": "Qr_crAu25io3"
      },
      "source": [
        "Calculo la ganancia de un predicado simple\n",
        "ctrx_quarter < 20"
      ]
    },
    {
      "cell_type": "code",
      "execution_count": null,
      "metadata": {
        "tags": [],
        "vscode": {
          "languageId": "r"
        },
        "id": "Xrx55MYt5io4"
      },
      "outputs": [],
      "source": [
        "dataset[foto_mes == 202104 & ctrx_quarter < 20, sum(ganancia)]\n"
      ]
    },
    {
      "cell_type": "markdown",
      "metadata": {
        "id": "SO1Qm_Py5io4"
      },
      "source": [
        "Ahora  la ganancia de  *ctrx_quarter < 4 *"
      ]
    },
    {
      "cell_type": "code",
      "execution_count": null,
      "metadata": {
        "tags": [],
        "vscode": {
          "languageId": "r"
        },
        "id": "iDbkgVdr5io4"
      },
      "outputs": [],
      "source": [
        "dataset[foto_mes == 202104 & ctrx_quarter < 4, sum(ganancia)]\n"
      ]
    },
    {
      "cell_type": "markdown",
      "metadata": {
        "id": "xPguJkHj5io5"
      },
      "source": [
        "Ahora, en forma brutal e ineficiente, busco donde esta el mejor corte de  ctrx_quarter\n",
        "<br>\n",
        "Ya resolveremos esto en forma inteligente más adelante"
      ]
    },
    {
      "cell_type": "code",
      "execution_count": null,
      "metadata": {
        "tags": [],
        "vscode": {
          "languageId": "r"
        },
        "id": "ILbXrHmY5io5"
      },
      "outputs": [],
      "source": [
        "for (transacciones in 0:32)\n",
        "{\n",
        "   cat(transacciones, dataset[foto_mes == 202104 & ctrx_quarter < transacciones, sum(ganancia)], \"\\n\")\n",
        "}\n"
      ]
    },
    {
      "cell_type": "markdown",
      "metadata": {
        "id": "0aCXFTYy5io5"
      },
      "source": [
        "#### para que   ctrx_quarter se obtiene la mayor ganancia ?"
      ]
    },
    {
      "cell_type": "markdown",
      "metadata": {
        "id": "QL1p1wPG5io6"
      },
      "source": [
        "# Enhorabuena ! hemos alcanzado los 236.6 M de ganancia con apenas una simplisima regla"
      ]
    },
    {
      "cell_type": "markdown",
      "metadata": {
        "id": "uTkfPNZ95io6"
      },
      "source": [
        "### Ganancias de predicado complejo"
      ]
    },
    {
      "cell_type": "code",
      "execution_count": null,
      "metadata": {
        "tags": [],
        "vscode": {
          "languageId": "r"
        },
        "id": "SnJW47jl5io7"
      },
      "outputs": [],
      "source": [
        "dataset[foto_mes == 202104 & ctrx_quarter < 18 & mpasivos_margen < 29.8, sum(ganancia)]\n"
      ]
    },
    {
      "cell_type": "markdown",
      "metadata": {
        "id": "e75-oVRH5io7"
      },
      "source": [
        "### gráficos de densidades"
      ]
    },
    {
      "cell_type": "markdown",
      "metadata": {
        "id": "mrYE6qfp5io7"
      },
      "source": [
        "Visualización de la densidad de una variable versus clase_ternaria"
      ]
    },
    {
      "cell_type": "code",
      "execution_count": null,
      "metadata": {
        "tags": [],
        "vscode": {
          "languageId": "r"
        },
        "id": "qXKzAPMh5io7"
      },
      "outputs": [],
      "source": [
        "library(\"ggplot2\") # cargo la libreria ggplot2\n"
      ]
    },
    {
      "cell_type": "code",
      "execution_count": null,
      "metadata": {
        "tags": [],
        "vscode": {
          "languageId": "r"
        },
        "id": "MB9nOD6S5io8"
      },
      "outputs": [],
      "source": [
        "campo <- \"cliente_antiguedad\"\n",
        "ggplot(dataset[foto_mes == 202104], aes(x = .data[[campo]])) +\n",
        "    geom_density(trim = TRUE, na.rm = TRUE) +\n",
        "    facet_grid(\"clase_ternaria~ .\")\n"
      ]
    },
    {
      "cell_type": "markdown",
      "metadata": {
        "id": "xKbXQjZ75io8"
      },
      "source": [
        "los gráficos salen muy pequeños, busco la documentacion https://blog.revolutionanalytics.com/2015/09/resizing-plots-in-the-r-kernel-for-jupyter-notebooks.html  y agrando los graficos"
      ]
    },
    {
      "cell_type": "code",
      "execution_count": null,
      "metadata": {
        "tags": [],
        "vscode": {
          "languageId": "r"
        },
        "id": "cY4UDhaw5io8"
      },
      "outputs": [],
      "source": [
        "options(repr.plot.width = 15, repr.plot.height = 15)\n"
      ]
    },
    {
      "cell_type": "code",
      "execution_count": null,
      "metadata": {
        "tags": [],
        "vscode": {
          "languageId": "r"
        },
        "id": "8fV3CuGX5io9"
      },
      "outputs": [],
      "source": [
        "campo <- \"cliente_antiguedad\"\n",
        "ggplot(dataset[foto_mes == 202104], aes(x = .data[[campo]])) +\n",
        "    geom_density(trim = TRUE, na.rm = TRUE) +\n",
        "    facet_grid(\"clase_ternaria~ .\")\n"
      ]
    },
    {
      "cell_type": "markdown",
      "source": [
        "\n",
        "\n",
        "---\n",
        "\n"
      ],
      "metadata": {
        "id": "-xItLSrb7RR9"
      }
    },
    {
      "cell_type": "markdown",
      "metadata": {
        "id": "wizKbFhu7JZF"
      },
      "source": [
        "## 1.03  Construyendo un arbol"
      ]
    },
    {
      "cell_type": "markdown",
      "metadata": {
        "id": "J160bBFz7JZG"
      },
      "source": [
        "Se construye un arbol de decisión, se ven distintas formas de pasar los parámetros y distintas formas de dibujarlo.\n",
        "<br>\n",
        "Se muestran funcionalidades básicas de0la libreria  *data.table*"
      ]
    },
    {
      "cell_type": "code",
      "source": [
        "# limpio la memoria\n",
        "rm(list=ls(all.names=TRUE)) # remove all objects\n",
        "gc(full=TRUE, verbose=FALSE) # garbage collection"
      ],
      "metadata": {
        "id": "M5wM9LG97kBt"
      },
      "execution_count": null,
      "outputs": []
    },
    {
      "cell_type": "code",
      "execution_count": null,
      "metadata": {
        "tags": [],
        "vscode": {
          "languageId": "r"
        },
        "id": "Ussrrq8g7JZH"
      },
      "outputs": [],
      "source": [
        "library(\"data.table\") # cargo la libreria  data.table\n",
        "library(\"rpart\") # cargo la libreria  rpart\n"
      ]
    },
    {
      "cell_type": "code",
      "execution_count": null,
      "metadata": {
        "tags": [],
        "vscode": {
          "languageId": "r"
        },
        "id": "m0dgipcz7JZK"
      },
      "outputs": [],
      "source": [
        "options(repr.plot.width = 25, repr.plot.height = 25) # para que los gráficos me salgan legibles\n"
      ]
    },
    {
      "cell_type": "code",
      "execution_count": null,
      "metadata": {
        "tags": [],
        "vscode": {
          "languageId": "r"
        },
        "id": "zf_nVnR77JZK"
      },
      "outputs": [],
      "source": [
        "setwd(\"/content/buckets/b1/exp\") # Establezco el Working Directory\n"
      ]
    },
    {
      "cell_type": "code",
      "execution_count": null,
      "metadata": {
        "tags": [],
        "vscode": {
          "languageId": "r"
        },
        "id": "6nK-tZVS7JZL"
      },
      "outputs": [],
      "source": [
        "dataset <- fread(\"/content/datasets/competencia_01.csv.gz\")\n"
      ]
    },
    {
      "cell_type": "markdown",
      "metadata": {
        "id": "2hcHCB4v7JZM"
      },
      "source": [
        "Ahora entreno un arbol de decision\n",
        "<br>\n",
        "\"clase_ternaria ~ .\"  significa predecir clase_ternaria utilizando *todo el resto* de las variables del dataset"
      ]
    },
    {
      "cell_type": "code",
      "execution_count": null,
      "metadata": {
        "tags": [],
        "vscode": {
          "languageId": "r"
        },
        "id": "fkwSUQxT7JZN"
      },
      "outputs": [],
      "source": [
        "modelo <- rpart(\n",
        "    formula = \"clase_ternaria ~ .\",\n",
        "    data = dataset[foto_mes == 202104]\n",
        ")\n"
      ]
    },
    {
      "cell_type": "markdown",
      "metadata": {
        "id": "78wpNXfv7JZN"
      },
      "source": [
        "Imprimo el modelo con la muy básica funcion print() de la libreria rpart"
      ]
    },
    {
      "cell_type": "code",
      "execution_count": null,
      "metadata": {
        "tags": [],
        "vscode": {
          "languageId": "r"
        },
        "id": "jRUJ7XCE7JZO"
      },
      "outputs": [],
      "source": [
        "print(modelo)\n"
      ]
    },
    {
      "cell_type": "markdown",
      "metadata": {
        "id": "MB3AIBGq7JZP"
      },
      "source": [
        "Esta impresión no es gráfica. No me sirve.\n",
        "<br>\n",
        "a pesar que no me sirve, he encontrado una piedra en el camino, me está generando un arbol con un solo nodo, con solo la raiz"
      ]
    },
    {
      "cell_type": "markdown",
      "metadata": {
        "id": "zCnmRs9h7JZP"
      },
      "source": [
        "Busco bibliografía y encuentro que existe la libreria  **rpart.plot** que grafica arboles generados con la libreria  *rpart*"
      ]
    },
    {
      "cell_type": "code",
      "execution_count": null,
      "metadata": {
        "tags": [],
        "vscode": {
          "languageId": "r"
        },
        "id": "HCa7XoWU7JZQ"
      },
      "outputs": [],
      "source": [
        "if (!require(\"rpart.plot\")) install.packages(\"rpart.plot\")\n",
        "require(\"rpart.plot\")\n"
      ]
    },
    {
      "cell_type": "code",
      "execution_count": null,
      "metadata": {
        "tags": [],
        "vscode": {
          "languageId": "r"
        },
        "id": "61BM-KQG7JZQ"
      },
      "outputs": [],
      "source": [
        "rpart.plot::prp(modelo)\n"
      ]
    },
    {
      "cell_type": "markdown",
      "metadata": {
        "id": "-s7ROA827JZR"
      },
      "source": [
        "Me ha salido una impresión del arbol, que es un solo nodo, pero solo dice continua.\n",
        "<br>\n",
        "leo la documentacion de la librería rpart.plot   https://cran.r-project.org/web/packages/rpart.plot/rpart.plot.pdf"
      ]
    },
    {
      "cell_type": "code",
      "execution_count": null,
      "metadata": {
        "tags": [],
        "vscode": {
          "languageId": "r"
        },
        "id": "TN0plO5h7JZR"
      },
      "outputs": [],
      "source": [
        "prp(modelo, extra = 101, digits = -5, branch = 1, type = 4, varlen = 0, faclen = 0, tweak = 1.3)\n"
      ]
    },
    {
      "cell_type": "markdown",
      "metadata": {
        "id": "0yrvhvb97JZR"
      },
      "source": [
        "Ha salido solo la raiz del arbol\n",
        "<br>\n",
        "Los tres numeros que muestra en el nodo con la cantidad de BAJA+1, BAJA+2 y CONTINUA, en ese orden, alfabetico.\n",
        "<br>\n",
        "la cantidad de CONTINUA   la está mostrando en notacion científica"
      ]
    },
    {
      "cell_type": "markdown",
      "metadata": {
        "id": "s5NbrDtB7JZS"
      },
      "source": [
        "### cambio hiperparámetros del arbol para salga algo mas que un solo nodo"
      ]
    },
    {
      "cell_type": "markdown",
      "metadata": {
        "id": "wQA4r4uu7JZS"
      },
      "source": [
        "El hiperparámetro cp  *complexity*   limita el split de los nodos.\n",
        "<br>\n",
        "El default es  cp=0.05\n",
        "<br>\n",
        "Pruebo con cp=0.0  a ver si \"se abre el arbol\""
      ]
    },
    {
      "cell_type": "markdown",
      "metadata": {
        "id": "pp220pgW7JZT"
      },
      "source": [
        "Leo la documentación de la libreria rpart  https://cran.r-project.org/web/packages/rpart/rpart.pdf   y veo que existe un hiperparámetro de la funcion rpart  llamado **xval** que es para hacer cross validation, que por default viene seteado en xval=10 .   No me interesa en este momento que haga cross validation, para evitarlo voy a poner  *xval=0*"
      ]
    },
    {
      "cell_type": "code",
      "execution_count": null,
      "metadata": {
        "tags": [],
        "vscode": {
          "languageId": "r"
        },
        "id": "W6BssdaM7JZT"
      },
      "outputs": [],
      "source": [
        "# genero el modelo\n",
        "modelo <- rpart(\n",
        "    formula = \"clase_ternaria ~ .\",\n",
        "    data = dataset[foto_mes == 202104],\n",
        "    xval = 0,\n",
        "    cp = 0.0\n",
        ")\n",
        "\n",
        "# imprimo el modelo graficamente\n",
        "prp(modelo, extra = 101, digits = -5, branch = 1, type = 4, varlen = 0, faclen = 0, tweak = 1.3)\n"
      ]
    },
    {
      "cell_type": "markdown",
      "metadata": {
        "id": "VIO-kVwE7JZU"
      },
      "source": [
        "sale un arbol de gran profundidad  que ni se puede visualizar\n",
        "<br>\n",
        "el mensaje  \"\"labs do not fit even at cex 0.15, there may be some overplotting\"\" me dice que no pudo dibujarlo correctamente\n",
        "<br>\n",
        "lamentablemente me doy cuenta la libreria rpart.plot es mala\n",
        "<br>\n",
        "establezco  maxdepth=2 para poder apreciarlo"
      ]
    },
    {
      "cell_type": "code",
      "execution_count": null,
      "metadata": {
        "tags": [],
        "vscode": {
          "languageId": "r"
        },
        "id": "94f5C35O7JZU"
      },
      "outputs": [],
      "source": [
        "# genero el modelo\n",
        "modelo <- rpart(\n",
        "    formula = \"clase_ternaria ~ .\",\n",
        "    data = dataset[foto_mes == 202104],\n",
        "    xval = 0,\n",
        "    cp = 0.0,\n",
        "    maxdepth = 2\n",
        ")\n",
        "\n",
        "# imprimo el modelo graficamente\n",
        "prp(modelo, extra = 101, digits = -5, branch = 1, type = 4, varlen = 0, faclen = 0, tweak = 1.3, cex = 1.2)\n"
      ]
    },
    {
      "cell_type": "markdown",
      "metadata": {
        "id": "Sx_5VQ5m7JZV"
      },
      "source": [
        "Esperaba ver un albol de profundidad 2 sin embargo, por alguna misteriosa razón, se ha generado un arbol con un solo nodo.\n",
        "<br>\n",
        "Corto por lo sano,  y establezco  cp=-1  para que siempre se abra el arbol"
      ]
    },
    {
      "cell_type": "markdown",
      "metadata": {
        "id": "EqsfmFW97JZV"
      },
      "source": [
        "#genero el modelo\n",
        "modelo < -rpart(formula=\"clase_ternaria ~ .\",\n",
        "    data=dataset1,\n",
        "    xval=0,\n",
        "    cp=-1,\n",
        "    maxdepth=3)\n",
        "\n",
        "#imprimo el modelo graficamente\n",
        "prp(modelo, extra=101, digits=5, branch=1, type=4, varlen=0, faclen=0, tweak=1.3)"
      ]
    },
    {
      "cell_type": "code",
      "execution_count": null,
      "metadata": {
        "tags": [],
        "vscode": {
          "languageId": "r"
        },
        "id": "CWHGHokc7JZV"
      },
      "outputs": [],
      "source": [
        "# genero el modelo\n",
        "modelo <- rpart(\n",
        "    formula = \"clase_ternaria ~ .\",\n",
        "    data = dataset[foto_mes == 202104],\n",
        "    xval = 0,\n",
        "    cp = -1,\n",
        "    maxdepth = 3\n",
        ")\n",
        "\n",
        "# imprimo el modelo graficamente\n",
        "options(repr.plot.width = 40, repr.plot.height = 20)\n",
        "prp(modelo, extra = 101, digits = -5, branch = 1, type = 4, varlen = 0, faclen = 0, tweak = 1.1, cex = 1.2)\n"
      ]
    },
    {
      "cell_type": "code",
      "execution_count": null,
      "metadata": {
        "tags": [],
        "vscode": {
          "languageId": "r"
        },
        "id": "Ky__BoDK7JZW"
      },
      "outputs": [],
      "source": [
        "# genero el modelo\n",
        "dataset2 <- copy(dataset)\n",
        "abril <- copy(dataset[foto_mes == 202104])\n",
        "dataset2[foto_mes == 202106, clase_ternaria := \"Z01\"]\n",
        "abril[, clase_ternaria := \"Z01\"]\n",
        "dataset2 <- rbind(dataset2, abril)\n",
        "dataset2[, foto_mes := NULL]\n",
        "setorder(dataset2, clase_ternaria)\n",
        "\n",
        "modelo <- rpart(\n",
        "    formula = \"clase_ternaria ~ . -Master_fultimo_cierre -Visa_fultimo_cierre -mcomisiones_mantenimiento\",\n",
        "    data = dataset2,\n",
        "    xval = 0,\n",
        "    cp = -1,\n",
        "    maxdepth = 3\n",
        ")\n",
        "\n",
        "# imprimo el modelo graficamente\n",
        "options(repr.plot.width = 40, repr.plot.height = 20)\n",
        "prp(modelo, extra = 101, digits = -5, branch = 1, type = 4, varlen = 0, faclen = 0, tweak = 1.1, cex = 1.2)\n"
      ]
    },
    {
      "cell_type": "code",
      "execution_count": null,
      "metadata": {
        "tags": [],
        "vscode": {
          "languageId": "r"
        },
        "id": "oTLAMai87JZW"
      },
      "outputs": [],
      "source": [
        "modelo$splits\n"
      ]
    },
    {
      "cell_type": "markdown",
      "metadata": {
        "id": "rVG9Va4j7JZW"
      },
      "source": [
        "### Disgresión : aprendo a borrar la memoria"
      ]
    },
    {
      "cell_type": "markdown",
      "metadata": {
        "id": "Hl_Hq9-a7JZX"
      },
      "source": [
        "Listo los objetos que estan en la memoria de R en este momento"
      ]
    },
    {
      "cell_type": "code",
      "execution_count": null,
      "metadata": {
        "tags": [],
        "vscode": {
          "languageId": "r"
        },
        "id": "wJlgF9gu7JZX"
      },
      "outputs": [],
      "source": [
        "ls()\n"
      ]
    },
    {
      "cell_type": "markdown",
      "metadata": {
        "id": "6F1rsP7m7JZX"
      },
      "source": [
        "creo una variable a ver que sucede"
      ]
    },
    {
      "cell_type": "code",
      "execution_count": null,
      "metadata": {
        "tags": [],
        "vscode": {
          "languageId": "r"
        },
        "id": "-Fq0bIZf7JZY"
      },
      "outputs": [],
      "source": [
        "a <- 1\n"
      ]
    },
    {
      "cell_type": "markdown",
      "metadata": {
        "id": "HhonFvHZ7JZY"
      },
      "source": [
        "me vuelvo a fijar que objtetos estan en la memoria, deberia aparecer la nueva variable **a**"
      ]
    },
    {
      "cell_type": "code",
      "execution_count": null,
      "metadata": {
        "tags": [],
        "vscode": {
          "languageId": "r"
        },
        "id": "EjL_MTb07JZY"
      },
      "outputs": [],
      "source": [
        "ls()\n"
      ]
    },
    {
      "cell_type": "markdown",
      "metadata": {
        "id": "Shh4TtAv7JZY"
      },
      "source": [
        "tal cual esperaba, aparece el nuevo objeto, la variable  **a**"
      ]
    },
    {
      "cell_type": "markdown",
      "metadata": {
        "id": "rq0yMSjY7JZZ"
      },
      "source": [
        "Me fijo cuanta memoria esta disponible"
      ]
    },
    {
      "cell_type": "code",
      "execution_count": null,
      "metadata": {
        "tags": [],
        "vscode": {
          "languageId": "r"
        },
        "id": "jqZIQzUG7JZZ"
      },
      "outputs": [],
      "source": [
        "gc()\n"
      ]
    },
    {
      "cell_type": "markdown",
      "metadata": {
        "id": "zxzlX_627JZo"
      },
      "source": [
        "Borro **TODOS** los objetos que estan en la memoria de R"
      ]
    },
    {
      "cell_type": "code",
      "execution_count": null,
      "metadata": {
        "tags": [],
        "vscode": {
          "languageId": "r"
        },
        "id": "NjRt6S857JZo"
      },
      "outputs": [],
      "source": [
        "rm(list = ls())\n"
      ]
    },
    {
      "cell_type": "markdown",
      "metadata": {
        "id": "PEKizF3n7JZo"
      },
      "source": [
        "Me vuelvo a fijar cuanta memoria hay disponible"
      ]
    },
    {
      "cell_type": "code",
      "execution_count": null,
      "metadata": {
        "tags": [],
        "vscode": {
          "languageId": "r"
        },
        "id": "2hz63YtB7JZp"
      },
      "outputs": [],
      "source": [
        "gc()\n"
      ]
    },
    {
      "cell_type": "markdown",
      "metadata": {
        "id": "7Ij6ajRw7JZp"
      },
      "source": [
        "llama a **gc()** garbaje collection, que me va a liberar mas aún la memoria\n",
        "<br>\n",
        "https://cran.r-project.org/web/packages/profmem/vignettes/profmem.html"
      ]
    },
    {
      "cell_type": "markdown",
      "metadata": {
        "id": "mKLL_kX27JZp"
      },
      "source": [
        "Ahora si, limpie bore todos los objetos de R y limpie la memoria"
      ]
    },
    {
      "cell_type": "markdown",
      "source": [
        "\n",
        "\n",
        "---\n",
        "\n"
      ],
      "metadata": {
        "id": "jLsxoeKi86aE"
      }
    },
    {
      "cell_type": "markdown",
      "metadata": {
        "id": "cf1MpYm68_SV"
      },
      "source": [
        "## 1.04 Transformado (innecesariamente) las variables"
      ]
    },
    {
      "cell_type": "markdown",
      "metadata": {
        "id": "q7gQLCpk8_SW"
      },
      "source": [
        "El objetivo de esta sección es analizar el efecto que tiene sobre el arbol de decision\n",
        "* Variables Colineales\n",
        "* Normalizacion de Variables\n",
        "* Transformada logarítmica\n",
        "* Outliers"
      ]
    },
    {
      "cell_type": "code",
      "source": [
        "# limpio la memoria\n",
        "rm(list=ls(all.names=TRUE)) # remove all objects\n",
        "gc(full=TRUE, verbose=FALSE) # garbage collection"
      ],
      "metadata": {
        "id": "aCbFm_sb_-zP"
      },
      "execution_count": null,
      "outputs": []
    },
    {
      "cell_type": "code",
      "execution_count": null,
      "metadata": {
        "tags": [],
        "vscode": {
          "languageId": "r"
        },
        "id": "hk0MS9dK8_SX"
      },
      "outputs": [],
      "source": [
        "library(\"data.table\") # cargo la libreria  data.table\n",
        "library(\"rpart\") # cargo la libreria  rpart\n",
        "if (!require(\"rpart.plot\")) install.packages(\"rpart.plot\")\n",
        "require(\"rpart.plot\")\n",
        "\n",
        "options(repr.plot.width = 20, repr.plot.height = 10)"
      ]
    },
    {
      "cell_type": "code",
      "source": [
        "setwd(\"/content/buckets/b1/exp\") # Establezco el Working Directory"
      ],
      "metadata": {
        "id": "4QuVfwK0AXqX"
      },
      "execution_count": null,
      "outputs": []
    },
    {
      "cell_type": "code",
      "execution_count": null,
      "metadata": {
        "tags": [],
        "vscode": {
          "languageId": "r"
        },
        "id": "O-tIUnIU8_Sa"
      },
      "outputs": [],
      "source": [
        "dataset <- fread(\"/content/datasets/competencia_01.csv.gz\") # cargo el dataset\n"
      ]
    },
    {
      "cell_type": "code",
      "execution_count": null,
      "metadata": {
        "tags": [],
        "vscode": {
          "languageId": "r"
        },
        "id": "rW43QD2q8_Sb"
      },
      "outputs": [],
      "source": [
        "# genero el modelo\n",
        "modelo <- rpart(\n",
        "    formula = \"clase_ternaria ~ .\",\n",
        "    data = dataset[foto_mes == 202104],\n",
        "    xval = 0,\n",
        "    cp = -1,\n",
        "    maxdepth = 2\n",
        ")\n",
        "\n",
        "# imprimo el modelo graficamente\n",
        "prp(modelo, extra = 101, digits = -5, branch = 1, type = 4, varlen = 0, faclen = 0, tweak = 1.1, cex = 1.2)\n"
      ]
    },
    {
      "cell_type": "markdown",
      "metadata": {
        "id": "5CikxCKy8_Sc"
      },
      "source": [
        "La variable mas importante que aparece es **ctrx_quarter**"
      ]
    },
    {
      "cell_type": "markdown",
      "metadata": {
        "id": "t0aQYOxY8_Sc"
      },
      "source": [
        "### variables colineales"
      ]
    },
    {
      "cell_type": "markdown",
      "metadata": {
        "id": "d0Jjg1cs8_Sd"
      },
      "source": [
        "agrego al dataset tres variables colineales  con ctrx_quarter"
      ]
    },
    {
      "cell_type": "code",
      "execution_count": null,
      "metadata": {
        "tags": [],
        "vscode": {
          "languageId": "r"
        },
        "id": "AFT90qfa8_Se"
      },
      "outputs": [],
      "source": [
        "dataset[foto_mes == 202104, ctrx_quarter_dos := 2 * ctrx_quarter]\n",
        "dataset[foto_mes == 202104, ctrx_quarter_tres := 3 * ctrx_quarter]\n",
        "dataset[foto_mes == 202104, ctrx_quarter_cuatro := 4 * ctrx_quarter]\n"
      ]
    },
    {
      "cell_type": "markdown",
      "metadata": {
        "id": "yS5PKfKT8_Sf"
      },
      "source": [
        "y vuelvo a correr el arbol de decision"
      ]
    },
    {
      "cell_type": "code",
      "execution_count": null,
      "metadata": {
        "tags": [],
        "vscode": {
          "languageId": "r"
        },
        "id": "DTjK6fgo8_Sf"
      },
      "outputs": [],
      "source": [
        "# genero el modelo\n",
        "modelo <- rpart(\n",
        "    formula = \"clase_ternaria ~ .\",\n",
        "    data = dataset[foto_mes == 202104],\n",
        "    xval = 0,\n",
        "    cp = -1,\n",
        "    maxdepth = 2\n",
        ")\n",
        "\n",
        "# imprimo el modelo graficamente\n",
        "prp(modelo, extra = 101, digits = -5, branch = 1, type = 4, varlen = 0, faclen = 0, tweak = 1.1, cex = 1.2)\n"
      ]
    },
    {
      "cell_type": "markdown",
      "metadata": {
        "id": "y-q3o2Lx8_Sg"
      },
      "source": [
        "**SORPRENDENTE , el arbol de decision es inmune a las colinearidad de variables**\n",
        "<br>\n",
        "El arbol de decisión no ha cambiado. Su forma es exactamente igual, las cantidades en los nodos idéntica al arbol original."
      ]
    },
    {
      "cell_type": "markdown",
      "metadata": {
        "id": "XwldVm1T8_Sh"
      },
      "source": [
        "###  Normalizacion de variables"
      ]
    },
    {
      "cell_type": "markdown",
      "metadata": {
        "id": "yHgkBe3n8_Sh"
      },
      "source": [
        "Analizo la variable  ctrx_quarter"
      ]
    },
    {
      "cell_type": "code",
      "execution_count": null,
      "metadata": {
        "tags": [],
        "vscode": {
          "languageId": "r"
        },
        "id": "nwpz_ggk8_Sh"
      },
      "outputs": [],
      "source": [
        "min(dataset[foto_mes == 202104, ctrx_quarter])\n"
      ]
    },
    {
      "cell_type": "code",
      "execution_count": null,
      "metadata": {
        "tags": [],
        "vscode": {
          "languageId": "r"
        },
        "id": "U4G73B2t8_Si"
      },
      "outputs": [],
      "source": [
        "max(dataset[foto_mes == 202104, ctrx_quarter])\n"
      ]
    },
    {
      "cell_type": "code",
      "execution_count": null,
      "metadata": {
        "tags": [],
        "vscode": {
          "languageId": "r"
        },
        "id": "-fkGoU8f8_Si"
      },
      "outputs": [],
      "source": [
        "boxplot(dataset[foto_mes == 202104, ctrx_quarter])\n"
      ]
    },
    {
      "cell_type": "code",
      "execution_count": null,
      "metadata": {
        "tags": [],
        "vscode": {
          "languageId": "r"
        },
        "id": "zxmJ8IFZ8_Sj"
      },
      "outputs": [],
      "source": [
        "hist(dataset[foto_mes == 202104, ctrx_quarter])\n"
      ]
    },
    {
      "cell_type": "code",
      "execution_count": null,
      "metadata": {
        "tags": [],
        "vscode": {
          "languageId": "r"
        },
        "id": "V2iGQ5yx8_Sj"
      },
      "outputs": [],
      "source": [
        "plot(density(dataset[foto_mes == 202104, ctrx_quarter]))\n"
      ]
    },
    {
      "cell_type": "markdown",
      "metadata": {
        "id": "DkyC5gT18_Sk"
      },
      "source": [
        "Normailzo  ctrx_quarter"
      ]
    },
    {
      "cell_type": "code",
      "execution_count": null,
      "metadata": {
        "tags": [],
        "vscode": {
          "languageId": "r"
        },
        "id": "NEaC9ppD8_Sk"
      },
      "outputs": [],
      "source": [
        "dataset[foto_mes == 202104, ctrx_quarter_normalizado := scale(ctrx_quarter)]\n"
      ]
    },
    {
      "cell_type": "markdown",
      "metadata": {
        "id": "oDfJxRhQ8_Sk"
      },
      "source": [
        "confirmo que me quedó normalizada"
      ]
    },
    {
      "cell_type": "code",
      "execution_count": null,
      "metadata": {
        "tags": [],
        "vscode": {
          "languageId": "r"
        },
        "id": "lWASP-1R8_Sl"
      },
      "outputs": [],
      "source": [
        "plot(density(dataset[foto_mes == 202104, ctrx_quarter_normalizado]))\n"
      ]
    },
    {
      "cell_type": "markdown",
      "metadata": {
        "id": "OCL80upD8_Sl"
      },
      "source": [
        "Confirmado, la variable está normalizada, ahora corremos nuevamente el arbol de decision"
      ]
    },
    {
      "cell_type": "code",
      "execution_count": null,
      "metadata": {
        "tags": [],
        "vscode": {
          "languageId": "r"
        },
        "id": "MJRWrIW88_Sm"
      },
      "outputs": [],
      "source": [
        "# genero el modelo\n",
        "modelo <- rpart(\n",
        "    formula = \"clase_ternaria ~ .\",\n",
        "    data = dataset[foto_mes == 202104],\n",
        "    xval = 0,\n",
        "    cp = -1,\n",
        "    maxdepth = 2\n",
        ")\n",
        "\n",
        "# imprimo el modelo graficamente\n",
        "prp(modelo, extra = 101, digits = -5, branch = 1, type = 4, varlen = 0, faclen = 0, tweak = 1.1, cex = 1.2)\n"
      ]
    },
    {
      "cell_type": "markdown",
      "metadata": {
        "id": "ZQKdQGya8_Sm"
      },
      "source": [
        "**SORPRENDENTE , el arbol de decision es inmune a las normalizacion de variables**\n",
        "<br>\n",
        "El arbol de decisión no ha cambiado. Su forma es exactamente igual, las cantidades en los nodos idéntica al arbol original.\n",
        "<br>"
      ]
    },
    {
      "cell_type": "markdown",
      "metadata": {
        "id": "8hbSSz1I8_Sm"
      },
      "source": [
        "### Transformación  logaritmica"
      ]
    },
    {
      "cell_type": "markdown",
      "metadata": {
        "id": "FBTBfR1s8_Sn"
      },
      "source": [
        "Primero vuelvo a cargar el dataset"
      ]
    },
    {
      "cell_type": "code",
      "execution_count": null,
      "metadata": {
        "tags": [],
        "vscode": {
          "languageId": "r"
        },
        "id": "kCnvH_PZ8_Sn"
      },
      "outputs": [],
      "source": [
        "dataset <- fread(\"/content/datasets/competencia_01.csv.gz\") # cargo el dataset\n"
      ]
    },
    {
      "cell_type": "markdown",
      "metadata": {
        "id": "m2RzbbUy8_Sn"
      },
      "source": [
        "hago la transformación logarítmica"
      ]
    },
    {
      "cell_type": "code",
      "execution_count": null,
      "metadata": {
        "tags": [],
        "vscode": {
          "languageId": "r"
        },
        "id": "CxbbGICj8_Sn"
      },
      "outputs": [],
      "source": [
        "dataset[foto_mes == 202104, ctrx_quarter_log := log(ctrx_quarter + 1)] # sumo el uno porque no quiero infinitos\n"
      ]
    },
    {
      "cell_type": "markdown",
      "metadata": {
        "id": "eLRU6HKg8_So"
      },
      "source": [
        "Ahora veo el boxplot"
      ]
    },
    {
      "cell_type": "code",
      "execution_count": null,
      "metadata": {
        "tags": [],
        "vscode": {
          "languageId": "r"
        },
        "id": "CCWbm4rk8_So"
      },
      "outputs": [],
      "source": [
        "boxplot(dataset[foto_mes == 202104, ctrx_quarter_log])\n"
      ]
    },
    {
      "cell_type": "code",
      "execution_count": null,
      "metadata": {
        "tags": [],
        "vscode": {
          "languageId": "r"
        },
        "id": "urUV3nrx8_So"
      },
      "outputs": [],
      "source": [
        "plot(density(dataset[foto_mes == 202104, ctrx_quarter_log]))\n"
      ]
    },
    {
      "cell_type": "markdown",
      "metadata": {
        "id": "7JeBj-Bd8_Sp"
      },
      "source": [
        "Finalmente, el arbol de decision"
      ]
    },
    {
      "cell_type": "markdown",
      "metadata": {
        "id": "CpmxKQZW8_Sp"
      },
      "source": [
        "Pero antes, ELIMINO del dataset la variable  ctrx_quarter , para que solo juegue  ctrx_quarter_log"
      ]
    },
    {
      "cell_type": "code",
      "execution_count": null,
      "metadata": {
        "tags": [],
        "vscode": {
          "languageId": "r"
        },
        "id": "ZG5XRXu08_Sp"
      },
      "outputs": [],
      "source": [
        "dataset[, ctrx_quarter := NULL]\n"
      ]
    },
    {
      "cell_type": "code",
      "execution_count": null,
      "metadata": {
        "tags": [],
        "vscode": {
          "languageId": "r"
        },
        "id": "axZUZS1v8_Sp"
      },
      "outputs": [],
      "source": [
        "# genero el modelo\n",
        "modelo <- rpart(\n",
        "    formula = \"clase_ternaria ~ .\",\n",
        "    data = dataset[foto_mes == 202104],\n",
        "    xval = 0,\n",
        "    cp = -1,\n",
        "    maxdepth = 2\n",
        ")\n",
        "\n",
        "# imprimo el modelo graficamente\n",
        "prp(modelo, extra = 101, digits = -5, branch = 1, type = 4, varlen = 0, faclen = 0, tweak = 1.1, cex = 1.2)\n"
      ]
    },
    {
      "cell_type": "markdown",
      "metadata": {
        "id": "oemoqoWh8_S4"
      },
      "source": [
        "**SORPRENDENTE , el arbol de decision es inmune a la transformada logaritmica**\n",
        "<br>\n",
        "El arbol de decisión no ha cambiado. Su forma es exactamente igual, las cantidades en los nodos idéntica al arbol original.\n",
        "<br>\n",
        "Por supuesto, el arbol original cortaba en  ctrx_quarter < 10 y ahora corta en ctrx_quarter < 2.35 porque obviamente alteré esa variable, pero en realidad está cortando en el mismo punto."
      ]
    },
    {
      "cell_type": "markdown",
      "metadata": {
        "id": "zQxIQJ7y8_S4"
      },
      "source": [
        "### Outliers"
      ]
    },
    {
      "cell_type": "markdown",
      "metadata": {
        "id": "oi8BJj3s8_S5"
      },
      "source": [
        "Ahora fabrico outliers y veo como se comporta el arbol"
      ]
    },
    {
      "cell_type": "markdown",
      "metadata": {
        "id": "X9-N7pfy8_S5"
      },
      "source": [
        "Primero vuelvo a cargar el dataset"
      ]
    },
    {
      "cell_type": "code",
      "execution_count": null,
      "metadata": {
        "tags": [],
        "vscode": {
          "languageId": "r"
        },
        "id": "H_-ClO2e8_S5"
      },
      "outputs": [],
      "source": [
        "dataset <- fread(\"/content/datasets/competencia_01.csv.gz\") # cargo el dataset\n"
      ]
    },
    {
      "cell_type": "markdown",
      "metadata": {
        "id": "7Lvd37V38_S6"
      },
      "source": [
        "el boxplot original"
      ]
    },
    {
      "cell_type": "code",
      "execution_count": null,
      "metadata": {
        "tags": [],
        "vscode": {
          "languageId": "r"
        },
        "id": "SsykZAsZ8_S6"
      },
      "outputs": [],
      "source": [
        "boxplot(dataset[foto_mes == 202104, ctrx_quarter])\n"
      ]
    },
    {
      "cell_type": "markdown",
      "metadata": {
        "id": "jc68EqrT8_S6"
      },
      "source": [
        "cuento cuantos registros hay con ctrx_quarter > 1500"
      ]
    },
    {
      "cell_type": "code",
      "execution_count": null,
      "metadata": {
        "tags": [],
        "vscode": {
          "languageId": "r"
        },
        "id": "89ccH-KZ8_S7"
      },
      "outputs": [],
      "source": [
        "dataset[foto_mes == 202104 & ctrx_quarter > 1500, .N]\n"
      ]
    },
    {
      "cell_type": "markdown",
      "metadata": {
        "id": "NQCc1GrQ8_S7"
      },
      "source": [
        "## Ahora, a esos valores los transformo en outliers extremos"
      ]
    },
    {
      "cell_type": "code",
      "execution_count": null,
      "metadata": {
        "tags": [],
        "vscode": {
          "languageId": "r"
        },
        "id": "muCZAUUF8_S7"
      },
      "outputs": [],
      "source": [
        "dataset[foto_mes == 202104 & ctrx_quarter > 1500, ctrx_quarter := ctrx_quarter * 1000]\n"
      ]
    },
    {
      "cell_type": "markdown",
      "metadata": {
        "id": "61A0TnIO8_S8"
      },
      "source": [
        "compruebo que sean outliers extremos"
      ]
    },
    {
      "cell_type": "code",
      "execution_count": null,
      "metadata": {
        "tags": [],
        "vscode": {
          "languageId": "r"
        },
        "id": "8gbHzTSJ8_S8"
      },
      "outputs": [],
      "source": [
        "boxplot(dataset[foto_mes == 202104, ctrx_quarter])\n"
      ]
    },
    {
      "cell_type": "markdown",
      "metadata": {
        "id": "_hioldRk8_S8"
      },
      "source": [
        "Finalmente, nuevamente arbol de decision"
      ]
    },
    {
      "cell_type": "code",
      "execution_count": null,
      "metadata": {
        "tags": [],
        "vscode": {
          "languageId": "r"
        },
        "id": "wHYsi2b98_S9"
      },
      "outputs": [],
      "source": [
        "# genero el modelo\n",
        "modelo <- rpart(\n",
        "    formula = \"clase_ternaria ~ .\",\n",
        "    data = dataset[foto_mes == 202104],\n",
        "    xval = 0,\n",
        "    cp = -1,\n",
        "    maxdepth = 2\n",
        ")\n",
        "\n",
        "# imprimo el modelo graficamente\n",
        "prp(modelo, extra = 101, digits = -5, branch = 1, type = 4, varlen = 0, faclen = 0, tweak = 1.1, cex = 1.2)\n"
      ]
    },
    {
      "cell_type": "markdown",
      "metadata": {
        "id": "oj7MGlzS8_S9"
      },
      "source": [
        "**SORPRENDENTE, el arbol de decision es inmune a los outliers**\n",
        "<br>\n",
        "El arbol de decisión no ha cambiado. Su forma es exactamente igual, las cantidades en los nodos idéntica al arbol original.\n",
        "<br>"
      ]
    },
    {
      "cell_type": "markdown",
      "metadata": {
        "id": "_lnMBLqx8_S9"
      },
      "source": [
        "### Si usted considera que fueron muy conservador convertir en outliers a tan solo 19 registros a que sean outliers, pruebe con  ctrx_quarter > 1000"
      ]
    },
    {
      "cell_type": "markdown",
      "source": [
        "\n",
        "\n",
        "---\n",
        "\n"
      ],
      "metadata": {
        "id": "NNXcoS6M9RaE"
      }
    },
    {
      "cell_type": "markdown",
      "metadata": {
        "id": "CgJ0XYC1Bg1b"
      },
      "source": [
        "## 1.05 Creando un data.table a partir de las columnas"
      ]
    },
    {
      "cell_type": "markdown",
      "metadata": {
        "id": "i3937SJ6Bg1c"
      },
      "source": [
        "Hasta ahora, para crear una data.table estamos leyendo un archivo del disco ( o bajándolo de internet)\n",
        "<bv>\n",
        " Ahora veremos como crearla a partir de dos vectores   "
      ]
    },
    {
      "cell_type": "markdown",
      "metadata": {
        "id": "86yu_7TrB7DF"
      },
      "source": [
        "El objetivo de esta sección es analizar el efecto que tiene sobre el arbol de decision\n",
        "* Variables Colineales\n",
        "* Normalizacion de Variables\n",
        "* Transformada logarítmica\n",
        "* Outliers"
      ]
    },
    {
      "cell_type": "code",
      "source": [
        "# limpio la memoria\n",
        "rm(list=ls(all.names=TRUE)) # remove all objects\n",
        "gc(full=TRUE, verbose=FALSE) # garbage collection"
      ],
      "metadata": {
        "id": "BrTK8K0eB7EH"
      },
      "execution_count": null,
      "outputs": []
    },
    {
      "cell_type": "code",
      "execution_count": null,
      "metadata": {
        "tags": [],
        "vscode": {
          "languageId": "r"
        },
        "id": "nKirseo8B7EI"
      },
      "outputs": [],
      "source": [
        "library(\"data.table\") # cargo la libreria  data.table\n",
        "\n",
        "options(repr.plot.width = 20, repr.plot.height = 10)"
      ]
    },
    {
      "cell_type": "code",
      "source": [
        "setwd(\"/content/buckets/b1/exp\") # Establezco el Working Directory"
      ],
      "metadata": {
        "id": "hZ6rIu4HB7EJ"
      },
      "execution_count": null,
      "outputs": []
    },
    {
      "cell_type": "markdown",
      "metadata": {
        "id": "J4eRuV0cBg1g"
      },
      "source": [
        "Supongamos que tengo dos vectores, uno con *numero_de_clente*  y otro con la decision de si a ese registro le envio o no estímulo\n",
        "<br>\n",
        "Importante :  ambos vectores tienen la misma longitud"
      ]
    },
    {
      "cell_type": "code",
      "execution_count": null,
      "metadata": {
        "tags": [],
        "vscode": {
          "languageId": "r"
        },
        "id": "PfHG_a-HBg1h"
      },
      "outputs": [],
      "source": [
        "vector_ids <- c(107, 228, 351, 468, 579)\n"
      ]
    },
    {
      "cell_type": "code",
      "execution_count": null,
      "metadata": {
        "tags": [],
        "vscode": {
          "languageId": "r"
        },
        "id": "31xYT6AfBg1i"
      },
      "outputs": [],
      "source": [
        "vector_ids\n"
      ]
    },
    {
      "cell_type": "code",
      "execution_count": null,
      "metadata": {
        "tags": [],
        "vscode": {
          "languageId": "r"
        },
        "id": "j_N8mksfBg1i"
      },
      "outputs": [],
      "source": [
        "vector_enviar <- c(0, 1, 1, 0, 1)\n"
      ]
    },
    {
      "cell_type": "code",
      "execution_count": null,
      "metadata": {
        "tags": [],
        "vscode": {
          "languageId": "r"
        },
        "id": "BEvXIzOGBg1j"
      },
      "outputs": [],
      "source": [
        "vector_ids\n"
      ]
    },
    {
      "cell_type": "markdown",
      "metadata": {
        "id": "5eh3W48ZBg1k"
      },
      "source": [
        "finalmente creo un dataset a partir de las dos columnas\n",
        "<br>\n",
        "a la primer columna la voy a llamar  \"numero_de_cliente\"\n",
        "<bv>\n",
        "a la segunda columna la voy a llamar  \"Predicted\""
      ]
    },
    {
      "cell_type": "markdown",
      "metadata": {
        "id": "Y9HSGY0dBg1k"
      },
      "source": [
        "En el lenguaje R, un dataframe o data.table es una lista de columnas\n",
        "<br>\n",
        "es una lsita y no un vector, porque los vectores necesitan que todos los valores sean del mismo tipo de datos\n",
        "<br>\n",
        "pero un dataset puede tener columnas que sean vectores de numeros, vectores de cadenas de caracters (string)\n",
        "<br>\n",
        "en R,  exista el tipo  **list**  , para meter en  *una bolsa de gatos* objetos de distinto tipo"
      ]
    },
    {
      "cell_type": "code",
      "execution_count": null,
      "metadata": {
        "tags": [],
        "vscode": {
          "languageId": "r"
        },
        "id": "vQCFPLZQBg1l"
      },
      "outputs": [],
      "source": [
        "tabla_final <- as.data.table(list(\n",
        "    \"numero_de_cliente\" = vector_ids,\n",
        "    \"Predicted\" = vector_enviar\n",
        "))\n"
      ]
    },
    {
      "cell_type": "markdown",
      "metadata": {
        "id": "hYqeWvn_Bg1m"
      },
      "source": [
        "veo como qyuedó la nueva data.table"
      ]
    },
    {
      "cell_type": "code",
      "execution_count": null,
      "metadata": {
        "tags": [],
        "vscode": {
          "languageId": "r"
        },
        "id": "lEBFYChPBg1m"
      },
      "outputs": [],
      "source": [
        "tabla_final\n"
      ]
    },
    {
      "cell_type": "markdown",
      "metadata": {
        "id": "pkwc8-W3Bg1n"
      },
      "source": [
        "Finalmente,  grabo ese archivo con la instruccion  **fwrite**  que pertenece a la libreria  **data.table"
      ]
    },
    {
      "cell_type": "markdown",
      "metadata": {
        "id": "hJUfqTlfBg1n"
      },
      "source": [
        "Cuando utilizamos la instruccion **fread** para leer una data.table , ella tiene la inteligencia de darse cuenta cual es el separador de campos\n",
        "<br>\n",
        "pero para grabar, necesitamos nosotros especificarle cual queremos que sea el separador de campos"
      ]
    },
    {
      "cell_type": "code",
      "execution_count": null,
      "metadata": {
        "tags": [],
        "vscode": {
          "languageId": "r"
        },
        "id": "ZXAzmb_tBg1n"
      },
      "outputs": [],
      "source": [
        "# genero el archivo para Kaggle\n",
        "# creo la carpeta donde va el experimento\n",
        "dir.create(\"./ZH2015/\", showWarnings = FALSE)\n",
        "\n",
        "fwrite(tabla_final,\n",
        "    file = \"./ZH2015/entrega_de_juguete.csv\",\n",
        "    sep = \",\"\n",
        ")\n"
      ]
    },
    {
      "cell_type": "markdown",
      "metadata": {
        "id": "YjbkkK46Bg1o"
      },
      "source": [
        "Revisar ahora que hay en la carpeta **/exp/ZH2015/** , editar el archvo  entrega_de juguete.txt\n",
        "<br>\n",
        "Este archivo de juguete dará error si se sube a Kaggle, fue solo de ejemplo"
      ]
    },
    {
      "cell_type": "markdown",
      "source": [
        "\n",
        "\n",
        "---\n",
        "\n"
      ],
      "metadata": {
        "id": "ydMOIq7ICNgM"
      }
    },
    {
      "cell_type": "markdown",
      "source": [
        "## 1.06 (capítulo eliminado en año 2025 )"
      ],
      "metadata": {
        "id": "xmWygotVTzy4"
      }
    },
    {
      "cell_type": "markdown",
      "metadata": {
        "id": "pwLpmyhnEoQP"
      },
      "source": [
        "## 1.07 Aplicando el arbol"
      ]
    },
    {
      "cell_type": "markdown",
      "metadata": {
        "id": "4QO3EteBEoQQ"
      },
      "source": [
        "Se aplicará el modelo generado por rpart a los datos nuevos y se genera la salida para Kaggle"
      ]
    },
    {
      "cell_type": "code",
      "source": [
        "# limpio la memoria\n",
        "rm(list=ls(all.names=TRUE)) # remove all objects\n",
        "gc(full=TRUE, verbose=FALSE) # garbage collection"
      ],
      "metadata": {
        "id": "o-1qPyedE35N"
      },
      "execution_count": null,
      "outputs": []
    },
    {
      "cell_type": "code",
      "execution_count": null,
      "metadata": {
        "tags": [],
        "vscode": {
          "languageId": "r"
        },
        "id": "zj4ifA3dE35s"
      },
      "outputs": [],
      "source": [
        "library(\"data.table\") # cargo la libreria  data.table\n",
        "library(\"rpart\") # cargo la libreria  rpart\n",
        "if (!require(\"rpart.plot\")) install.packages(\"rpart.plot\")\n",
        "require(\"rpart.plot\")\n",
        "\n",
        "options(repr.plot.width = 20, repr.plot.height = 10)"
      ]
    },
    {
      "cell_type": "code",
      "source": [
        "setwd(\"/content/buckets/b1/exp\") # Establezco el Working Directory\n",
        "dir.create(\"./ZH2017/\", showWarnings = FALSE)\n",
        "setwd(\"/content/buckets/b1/exp/ZH2017/\") # Establezco el Working Directory\n"
      ],
      "metadata": {
        "id": "GyoKJv_yE35s"
      },
      "execution_count": null,
      "outputs": []
    },
    {
      "cell_type": "code",
      "execution_count": null,
      "metadata": {
        "tags": [],
        "vscode": {
          "languageId": "r"
        },
        "id": "3CyDSCM7E35t"
      },
      "outputs": [],
      "source": [
        "dataset <- fread(\"/content/datasets/competencia_01.csv.gz\") # cargo el dataset\n"
      ]
    },
    {
      "cell_type": "code",
      "execution_count": null,
      "metadata": {
        "tags": [],
        "vscode": {
          "languageId": "r"
        },
        "id": "--u5up5xEoQV"
      },
      "outputs": [],
      "source": [
        "dtrain <- dataset[foto_mes == 202104]\n",
        "dapply <- dataset[foto_mes == 202106]\n"
      ]
    },
    {
      "cell_type": "code",
      "execution_count": null,
      "metadata": {
        "tags": [],
        "vscode": {
          "languageId": "r"
        },
        "id": "aLgogJBKEoQV"
      },
      "outputs": [],
      "source": [
        "# genero el modelo\n",
        "modelo <- rpart::rpart(\n",
        "    formula = \"clase_ternaria ~ .\",\n",
        "    data = dtrain,\n",
        "    xval = 0,\n",
        "    cp = -1,\n",
        "    maxdepth = 2\n",
        ")\n"
      ]
    },
    {
      "cell_type": "markdown",
      "metadata": {
        "id": "F7wOECD6EoQW"
      },
      "source": [
        "Aplico el modelo a los datos dapply  pidiendo que me devuelva probabildades"
      ]
    },
    {
      "cell_type": "code",
      "execution_count": null,
      "metadata": {
        "tags": [],
        "vscode": {
          "languageId": "r"
        },
        "id": "pX0tECctEoQX"
      },
      "outputs": [],
      "source": [
        "prediccion <- predict(modelo, dapply, type = \"prob\")\n"
      ]
    },
    {
      "cell_type": "markdown",
      "metadata": {
        "id": "RCD04XVcEoQY"
      },
      "source": [
        "Analizo que queda en prediccion"
      ]
    },
    {
      "cell_type": "code",
      "execution_count": null,
      "metadata": {
        "tags": [],
        "vscode": {
          "languageId": "r"
        },
        "id": "yWo3zV19EoQY"
      },
      "outputs": [],
      "source": [
        "head(prediccion)\n"
      ]
    },
    {
      "cell_type": "markdown",
      "metadata": {
        "id": "TUgNcPEbEoQZ"
      },
      "source": [
        "Prediccion es una matriz; me interesa la columna \"BAJA+2\"  que es la probabilidad que modelo asigna a cada registro de dapply"
      ]
    },
    {
      "cell_type": "code",
      "execution_count": null,
      "metadata": {
        "tags": [],
        "vscode": {
          "languageId": "r"
        },
        "id": "ioFkykkjEoQZ"
      },
      "outputs": [],
      "source": [
        "prob_baja2 <- prediccion[, \"BAJA+2\"]\n"
      ]
    },
    {
      "cell_type": "code",
      "execution_count": null,
      "metadata": {
        "tags": [],
        "vscode": {
          "languageId": "r"
        },
        "id": "FTyCxSuWEoQa"
      },
      "outputs": [],
      "source": [
        "head(prob_baja2)\n"
      ]
    },
    {
      "cell_type": "markdown",
      "metadata": {
        "id": "2RKrNqCfEoQa"
      },
      "source": [
        "prob_baja2 es el vector de probabilidades"
      ]
    },
    {
      "cell_type": "code",
      "execution_count": null,
      "metadata": {
        "tags": [],
        "vscode": {
          "languageId": "r"
        },
        "id": "HVgr4HY9EoQb"
      },
      "outputs": [],
      "source": [
        "length(prob_baja2)\n",
        "nrow(dapply)\n"
      ]
    },
    {
      "cell_type": "markdown",
      "metadata": {
        "id": "gYH2CXMfEoQb"
      },
      "source": [
        "Ahora decido si envio el estimulo o no\n",
        "<br>\n",
        "si prob( BAJA+2) > 0.025  envio  el estímulo"
      ]
    },
    {
      "cell_type": "code",
      "execution_count": null,
      "metadata": {
        "tags": [],
        "vscode": {
          "languageId": "r"
        },
        "id": "QpLEC74HEoQc"
      },
      "outputs": [],
      "source": [
        "Predicted <- ifelse(prob_baja2 > 0.025, 1, 0)\n"
      ]
    },
    {
      "cell_type": "code",
      "execution_count": null,
      "metadata": {
        "tags": [],
        "vscode": {
          "languageId": "r"
        },
        "id": "TXwAYk5GEoQc"
      },
      "outputs": [],
      "source": [
        "head(Predicted)\n"
      ]
    },
    {
      "cell_type": "code",
      "execution_count": null,
      "metadata": {
        "tags": [],
        "vscode": {
          "languageId": "r"
        },
        "id": "QN4boaADEoQc"
      },
      "outputs": [],
      "source": [
        "hist(Predicted)\n"
      ]
    },
    {
      "cell_type": "markdown",
      "metadata": {
        "id": "fFO2DCIqEoQd"
      },
      "source": [
        "creo una tabla con  lo que voy a enviar a Kaggle"
      ]
    },
    {
      "cell_type": "code",
      "execution_count": null,
      "metadata": {
        "tags": [],
        "vscode": {
          "languageId": "r"
        },
        "id": "YEToG5CREoQd"
      },
      "outputs": [],
      "source": [
        "tb_prediccion <- as.data.table(list(\"numero_de_cliente\" = dapply$numero_de_cliente, \"Predicted\" = Predicted))\n"
      ]
    },
    {
      "cell_type": "code",
      "execution_count": null,
      "metadata": {
        "tags": [],
        "vscode": {
          "languageId": "r"
        },
        "id": "8b_VfktUEoQe"
      },
      "outputs": [],
      "source": [
        "head(tb_prediccion)\n"
      ]
    },
    {
      "cell_type": "code",
      "execution_count": null,
      "metadata": {
        "tags": [],
        "vscode": {
          "languageId": "r"
        },
        "id": "7t3UOETgEoQe"
      },
      "outputs": [],
      "source": [
        "tb_prediccion[, .N, Predicted]\n"
      ]
    },
    {
      "cell_type": "markdown",
      "metadata": {
        "id": "2YNUcv-AEoQe"
      },
      "source": [
        "Esto significa que se enviaran 8080 estímulos"
      ]
    },
    {
      "cell_type": "code",
      "execution_count": null,
      "metadata": {
        "tags": [],
        "vscode": {
          "languageId": "r"
        },
        "id": "c6-KWRXVEoQf"
      },
      "outputs": [],
      "source": [
        "# genero el archivo para Kaggle\n",
        "# creo la carpeta donde va el experimento\n",
        "\n",
        "fwrite(tb_prediccion,\n",
        "        file = \"para_Kaggle_0107.csv\",\n",
        "        sep = \",\"\n",
        ")\n"
      ]
    },
    {
      "cell_type": "markdown",
      "source": [
        "\n",
        "\n",
        "---\n",
        "\n"
      ],
      "metadata": {
        "id": "mP7toly5Fmt3"
      }
    },
    {
      "cell_type": "markdown",
      "metadata": {
        "id": "QCU-wVs6GY2F"
      },
      "source": [
        "## 1.08 Unos buenos hiperparametros"
      ]
    },
    {
      "cell_type": "markdown",
      "metadata": {
        "id": "fNXAgw_kGY2G"
      },
      "source": [
        "Se aplicará el modelo generado por rpart a los datos nuevos y se genera la salida para Kaggle"
      ]
    },
    {
      "cell_type": "code",
      "source": [
        "# limpio la memoria\n",
        "rm(list=ls(all.names=TRUE)) # remove all objects\n",
        "gc(full=TRUE, verbose=FALSE) # garbage collection"
      ],
      "metadata": {
        "id": "phnF_U8iGmOi"
      },
      "execution_count": null,
      "outputs": []
    },
    {
      "cell_type": "code",
      "execution_count": null,
      "metadata": {
        "tags": [],
        "vscode": {
          "languageId": "r"
        },
        "id": "chtpg9PJGmOx"
      },
      "outputs": [],
      "source": [
        "library(\"data.table\") # cargo la libreria  data.table\n",
        "library(\"rpart\") # cargo la libreria  rpart\n",
        "if (!require(\"rpart.plot\")) install.packages(\"rpart.plot\")\n",
        "require(\"rpart.plot\")\n",
        "\n",
        "options(repr.plot.width = 20, repr.plot.height = 10)"
      ]
    },
    {
      "cell_type": "code",
      "source": [
        "setwd(\"/content/buckets/b1/exp\") # Establezco el Working Directory\n",
        "dir.create(\"./ZH2018/\", showWarnings = FALSE)\n",
        "setwd(\"/content/buckets/b1/exp/ZH2018/\") # Establezco el Working Directory\n"
      ],
      "metadata": {
        "id": "3DQRHSLRGmOx"
      },
      "execution_count": null,
      "outputs": []
    },
    {
      "cell_type": "code",
      "execution_count": null,
      "metadata": {
        "tags": [],
        "vscode": {
          "languageId": "r"
        },
        "id": "F4lhnwgkGmOx"
      },
      "outputs": [],
      "source": [
        "dataset <- fread(\"/content/datasets/competencia_01.csv.gz\") # cargo el dataset\n"
      ]
    },
    {
      "cell_type": "code",
      "execution_count": null,
      "metadata": {
        "tags": [],
        "vscode": {
          "languageId": "r"
        },
        "id": "DlR_UrZvGY2J"
      },
      "outputs": [],
      "source": [
        "dtrain <- dataset[foto_mes == 202104]\n",
        "dapply <- dataset[foto_mes == 202106]\n"
      ]
    },
    {
      "cell_type": "markdown",
      "metadata": {
        "id": "BTDxjyMxGY2K"
      },
      "source": [
        "defino unos parametros interesantes\n",
        "<br>\n",
        "los hiperparametros van en una lista\n",
        "<br>\n",
        "notar la forma en que esos parametros se pasan a la funcion rpart"
      ]
    },
    {
      "cell_type": "code",
      "execution_count": null,
      "metadata": {
        "tags": [],
        "vscode": {
          "languageId": "r"
        },
        "id": "rpaoyP1uGY2L"
      },
      "outputs": [],
      "source": [
        "param <- list(\n",
        "    \"cp\" = -0.5,\n",
        "    \"minsplit\" = 900,\n",
        "    \"minbucket\" = 440,\n",
        "    \"maxdepth\" = 5\n",
        ")\n"
      ]
    },
    {
      "cell_type": "code",
      "execution_count": null,
      "metadata": {
        "tags": [],
        "vscode": {
          "languageId": "r"
        },
        "id": "1UFesaH2GY2M"
      },
      "outputs": [],
      "source": [
        "# genero el modelo\n",
        "modelo <- rpart::rpart(\n",
        "    formula = \"clase_ternaria ~ .\",\n",
        "    data = dtrain,\n",
        "    xval = 0,\n",
        "    control = param\n",
        ")\n"
      ]
    },
    {
      "cell_type": "markdown",
      "metadata": {
        "id": "jKMy5qcGGY2N"
      },
      "source": [
        "Aplico el modelo a los datos dapply  pidiendo que me devuelva probabildades"
      ]
    },
    {
      "cell_type": "code",
      "execution_count": null,
      "metadata": {
        "tags": [],
        "vscode": {
          "languageId": "r"
        },
        "id": "DPz5KkDuGY2N"
      },
      "outputs": [],
      "source": [
        "prediccion <- predict(modelo, dapply, type = \"prob\")\n"
      ]
    },
    {
      "cell_type": "markdown",
      "metadata": {
        "id": "YmvfUcywGY2O"
      },
      "source": [
        "Genero la salida"
      ]
    },
    {
      "cell_type": "code",
      "execution_count": null,
      "metadata": {
        "tags": [],
        "vscode": {
          "languageId": "r"
        },
        "id": "sQRhbXH9GY2P"
      },
      "outputs": [],
      "source": [
        "prob_baja2 <- prediccion[, \"BAJA+2\"]\n",
        "Predicted <- ifelse(prob_baja2 > 0.025, 1, 0) # 0.025 es la probabilidad de corte\n",
        "\n",
        "entrega <- as.data.table(list(\"numero_de_cliente\" = dapply$numero_de_cliente, \"Predicted\" = Predicted))\n",
        "\n",
        "# creo la carpeta donde va el experimento\n",
        "dir.create(\"./exp/\", showWarnings = FALSE)\n",
        "dir.create(\"./exp/ZH2018/\", showWarnings = FALSE)\n",
        "\n",
        "# genero el archivo para Kaggle\n",
        "fwrite(entrega,\n",
        "        file = \"para_Kaggle_0108.csv\",\n",
        "        sep = \",\"\n",
        ")\n"
      ]
    },
    {
      "cell_type": "markdown",
      "metadata": {
        "id": "k-IuAnwSGY2P"
      },
      "source": [
        "¿Qué aparece en el Public Leaderboard?"
      ]
    },
    {
      "cell_type": "markdown",
      "source": [
        "\n",
        "\n",
        "---\n",
        "\n"
      ],
      "metadata": {
        "id": "XaHVW9RbG_QP"
      }
    },
    {
      "cell_type": "markdown",
      "metadata": {
        "id": "oAkRnDkZHntX"
      },
      "source": [
        "## 1.09 Dividir en Training y Testing\n",
        "## version libreria caret"
      ]
    },
    {
      "cell_type": "markdown",
      "metadata": {
        "id": "5hScV5xLHntY"
      },
      "source": [
        "El objetivo es hacer una division del dataset en training/testing que sea estratificada en la clase\n",
        "<br>\n",
        "https://es.wikipedia.org/wiki/Muestreo_estratificado"
      ]
    },
    {
      "cell_type": "code",
      "source": [
        "# limpio la memoria\n",
        "rm(list=ls(all.names=TRUE)) # remove all objects\n",
        "gc(full=TRUE, verbose=FALSE) # garbage collection"
      ],
      "metadata": {
        "id": "_B1vHPqEH1rF"
      },
      "execution_count": null,
      "outputs": []
    },
    {
      "cell_type": "code",
      "execution_count": null,
      "metadata": {
        "tags": [],
        "vscode": {
          "languageId": "r"
        },
        "id": "v8b3iGCdH1rk"
      },
      "outputs": [],
      "source": [
        "library(\"data.table\") # cargo la libreria  data.table\n",
        "\n",
        "options(repr.plot.width = 20, repr.plot.height = 10)"
      ]
    },
    {
      "cell_type": "code",
      "source": [
        "setwd(\"/content/buckets/b1/exp\") # Establezco el Working Directory\n",
        "dir.create(\"./ZH2019/\", showWarnings = FALSE)\n",
        "setwd(\"/content/buckets/b1/exp/ZH2019/\") # Establezco el Working Directory\n"
      ],
      "metadata": {
        "id": "FBhUM_d3H1rl"
      },
      "execution_count": null,
      "outputs": []
    },
    {
      "cell_type": "code",
      "execution_count": null,
      "metadata": {
        "tags": [],
        "vscode": {
          "languageId": "r"
        },
        "id": "ZNzterp9H1rm"
      },
      "outputs": [],
      "source": [
        "dataset <- fread(\"/content/datasets/competencia_01.csv.gz\") # cargo el dataset\n"
      ]
    },
    {
      "cell_type": "code",
      "execution_count": null,
      "metadata": {
        "tags": [],
        "vscode": {
          "languageId": "r"
        },
        "id": "SrjgDV0iHntc"
      },
      "outputs": [],
      "source": [
        "dabril <- dataset[foto_mes == 202104]\n"
      ]
    },
    {
      "cell_type": "code",
      "execution_count": null,
      "metadata": {
        "tags": [],
        "vscode": {
          "languageId": "r"
        },
        "id": "HxuyIsrTHntc"
      },
      "outputs": [],
      "source": [
        "if (!require(\"caret\")) install.packages(\"caret\")\n",
        "require(\"caret\")"
      ]
    },
    {
      "cell_type": "markdown",
      "metadata": {
        "id": "LYI7JEKzHntd"
      },
      "source": [
        "https://www.rdocumentation.org/packages/caret/versions/6.0-88/topics/createDataPartition\n",
        "<br>\n",
        "la funcion  **createDataPartition** devolverá un vector de posiciones, las que cumplen con la particion indicada\n",
        "<br>\n",
        "*p= 0.5* significa que queremos el 50% de los registros\n",
        "<br>\n",
        "*dataset$clase_ternaria*   es el vector con la clase ternaria, que es por donde se estratificará\n",
        "<br>"
      ]
    },
    {
      "cell_type": "code",
      "execution_count": null,
      "metadata": {
        "tags": [],
        "vscode": {
          "languageId": "r"
        },
        "id": "Sz35_7_GHnte"
      },
      "outputs": [],
      "source": [
        "train_rows <- createDataPartition(dabril$clase_ternaria, p = 0.50, list = FALSE)\n"
      ]
    },
    {
      "cell_type": "markdown",
      "metadata": {
        "id": "8b7nRpv1Hntf"
      },
      "source": [
        "veamos que ha quedado en  los primeros registros del vector **train_rows**"
      ]
    },
    {
      "cell_type": "code",
      "execution_count": null,
      "metadata": {
        "tags": [],
        "vscode": {
          "languageId": "r"
        },
        "id": "nRjjOn5SHntg"
      },
      "outputs": [],
      "source": [
        "head(train_rows)\n"
      ]
    },
    {
      "cell_type": "markdown",
      "metadata": {
        "id": "6YCAdqUNHntg"
      },
      "source": [
        "Aqui ya vemos que la particion tiene un suconjunto de los registros"
      ]
    },
    {
      "cell_type": "markdown",
      "metadata": {
        "id": "Qel0Ln0BHnth"
      },
      "source": [
        "ahora creamos los datasets de training y testing"
      ]
    },
    {
      "cell_type": "code",
      "execution_count": null,
      "metadata": {
        "tags": [],
        "vscode": {
          "languageId": "r"
        },
        "id": "_i0zd0tkHnth"
      },
      "outputs": [],
      "source": [
        "dtrain <- dabril[train_rows]\n"
      ]
    },
    {
      "cell_type": "markdown",
      "metadata": {
        "id": "TQPO340JHnti"
      },
      "source": [
        "-train_rows  significa el complemento  (no confundir con numeros negativos)"
      ]
    },
    {
      "cell_type": "code",
      "execution_count": null,
      "metadata": {
        "tags": [],
        "vscode": {
          "languageId": "r"
        },
        "id": "CvTNt3ErHnti"
      },
      "outputs": [],
      "source": [
        "dtest <- dabril[-train_rows]\n"
      ]
    },
    {
      "cell_type": "markdown",
      "metadata": {
        "id": "AecPdOcfHntj"
      },
      "source": [
        "Compruebo la division"
      ]
    },
    {
      "cell_type": "code",
      "execution_count": null,
      "metadata": {
        "tags": [],
        "vscode": {
          "languageId": "r"
        },
        "id": "eqFwr702Hntj"
      },
      "outputs": [],
      "source": [
        "nrow(dtrain)\n",
        "nrow(dtest)\n",
        "nrow(dtrain) + nrow(dtest)\n",
        "nrow(dabril)\n"
      ]
    },
    {
      "cell_type": "markdown",
      "metadata": {
        "id": "dBjlsgu_Hntj"
      },
      "source": [
        "Compruebo que la particion es estratificada"
      ]
    },
    {
      "cell_type": "code",
      "execution_count": null,
      "metadata": {
        "tags": [],
        "vscode": {
          "languageId": "r"
        },
        "id": "_Gr5BYz0Hntk"
      },
      "outputs": [],
      "source": [
        "dabril[, .N, clase_ternaria]\n",
        "dtrain[, .N, clase_ternaria]\n",
        "dtest[, .N, clase_ternaria]\n"
      ]
    },
    {
      "cell_type": "markdown",
      "metadata": {
        "id": "gqmCSM7EHntk"
      },
      "source": [
        "La division se ha construido en forma perfectamente estratificada !"
      ]
    },
    {
      "cell_type": "markdown",
      "source": [
        "\n",
        "\n",
        "---\n",
        "\n"
      ],
      "metadata": {
        "id": "9K5FUPESH4OV"
      }
    },
    {
      "cell_type": "markdown",
      "metadata": {
        "id": "qHuPhfXEIw6n"
      },
      "source": [
        "## 1.10 Experimentos con azar Replicables\n",
        "## set.seed()"
      ]
    },
    {
      "cell_type": "markdown",
      "metadata": {
        "id": "iS2WMQ-IIw6o"
      },
      "source": [
        "El objetivo es hacer una division del dataset en training/testing que sea estratificada en la clase\n",
        "<br>\n",
        "https://es.wikipedia.org/wiki/Muestreo_estratificado"
      ]
    },
    {
      "cell_type": "code",
      "source": [
        "# limpio la memoria\n",
        "rm(list=ls(all.names=TRUE)) # remove all objects\n",
        "gc(full=TRUE, verbose=FALSE) # garbage collection"
      ],
      "metadata": {
        "id": "91uDZ4jsJCs3"
      },
      "execution_count": null,
      "outputs": []
    },
    {
      "cell_type": "code",
      "execution_count": null,
      "metadata": {
        "tags": [],
        "vscode": {
          "languageId": "r"
        },
        "id": "GxRWECBBJCs4"
      },
      "outputs": [],
      "source": [
        "library(\"data.table\") # cargo la libreria  data.table\n",
        "library(\"rpart\") # cargo la libreria  data.table\n",
        "if (!require(\"rpart.plot\")) install.packages(\"rpart.plot\")\n",
        "require(\"rpart.plot\")\n",
        "if (!require(\"caret\")) install.packages(\"caret\")\n",
        "require(\"caret\")\n",
        "\n",
        "options(repr.plot.width = 20, repr.plot.height = 10)"
      ]
    },
    {
      "cell_type": "code",
      "source": [
        "setwd(\"/content/buckets/b1/exp\") # Establezco el Working Directory\n",
        "dir.create(\"./ZH2020/\", showWarnings = FALSE)\n",
        "setwd(\"/content/buckets/b1/exp/ZH2020/\") # Establezco el Working Directory\n"
      ],
      "metadata": {
        "id": "3fwc3Pl-JCs5"
      },
      "execution_count": null,
      "outputs": []
    },
    {
      "cell_type": "code",
      "execution_count": null,
      "metadata": {
        "tags": [],
        "vscode": {
          "languageId": "r"
        },
        "id": "yiMZ1JiAJCs5"
      },
      "outputs": [],
      "source": [
        "dataset <- fread(\"/content/datasets/competencia_01.csv.gz\") # cargo el dataset\n"
      ]
    },
    {
      "cell_type": "code",
      "execution_count": null,
      "metadata": {
        "tags": [],
        "vscode": {
          "languageId": "r"
        },
        "id": "1RY5ED-KIw6s"
      },
      "outputs": [],
      "source": [
        "dabril <- dataset[foto_mes == 202104]\n"
      ]
    },
    {
      "cell_type": "code",
      "execution_count": null,
      "metadata": {
        "tags": [],
        "vscode": {
          "languageId": "r"
        },
        "id": "hjgb4G9OIw6t"
      },
      "outputs": [],
      "source": [
        "train_rows <- createDataPartition(dabril$clase_ternaria, p = 0.50, list = FALSE)\n"
      ]
    },
    {
      "cell_type": "code",
      "execution_count": null,
      "metadata": {
        "tags": [],
        "vscode": {
          "languageId": "r"
        },
        "id": "iJ9ch0JYIw6u"
      },
      "outputs": [],
      "source": [
        "head(train_rows)\n"
      ]
    },
    {
      "cell_type": "markdown",
      "metadata": {
        "id": "V91cFRVXIw6v"
      },
      "source": [
        "Volvamos a dividir crear una particion a ver si sale lo mismo"
      ]
    },
    {
      "cell_type": "code",
      "execution_count": null,
      "metadata": {
        "tags": [],
        "vscode": {
          "languageId": "r"
        },
        "id": "M2COWdjOIw6v"
      },
      "outputs": [],
      "source": [
        "train_rows <- createDataPartition(dabril$clase_ternaria, p = 0.50, list = FALSE)\n",
        "head(train_rows)\n"
      ]
    },
    {
      "cell_type": "markdown",
      "metadata": {
        "id": "V7vRR3IBIw6w"
      },
      "source": [
        "Cáspitas !  No ha salido la misma particion.\n",
        "<br>\n",
        "Si yo quiero replicar el mismo experimento, no lo voy a poder hacer, ya que la division entre training y testing va a ser distinta"
      ]
    },
    {
      "cell_type": "markdown",
      "metadata": {
        "id": "2OR0JpTrIw6x"
      },
      "source": [
        "### Ahora la solucion !"
      ]
    },
    {
      "cell_type": "markdown",
      "metadata": {
        "id": "E7GqUSIwIw6x"
      },
      "source": [
        "La solucion es setear la semilla del generador de numeros pseudoaleatorios de R"
      ]
    },
    {
      "cell_type": "code",
      "execution_count": null,
      "metadata": {
        "tags": [],
        "vscode": {
          "languageId": "r"
        },
        "id": "QS1TlW5sIw6y"
      },
      "outputs": [],
      "source": [
        "set.seed(13)\n"
      ]
    },
    {
      "cell_type": "code",
      "execution_count": null,
      "metadata": {
        "tags": [],
        "vscode": {
          "languageId": "r"
        },
        "id": "UOchKVz9Iw6y"
      },
      "outputs": [],
      "source": [
        "train_rows <- createDataPartition(dabril$clase_ternaria, p = 0.50, list = FALSE)\n",
        "head(train_rows)\n"
      ]
    },
    {
      "cell_type": "markdown",
      "metadata": {
        "id": "MM9hNTSrIw6z"
      },
      "source": [
        "Y ahora nuevamente"
      ]
    },
    {
      "cell_type": "code",
      "execution_count": null,
      "metadata": {
        "tags": [],
        "vscode": {
          "languageId": "r"
        },
        "id": "fKfvf9XjIw6z"
      },
      "outputs": [],
      "source": [
        "set.seed(13) # uso la misma semilla que antes\n",
        "train_rows <- createDataPartition(dabril$clase_ternaria, p = 0.50, list = FALSE)\n",
        "head(train_rows)\n"
      ]
    },
    {
      "cell_type": "markdown",
      "metadata": {
        "id": "beMYSMy4Iw6z"
      },
      "source": [
        "Enhorabuena !  la particion es exactamente la misma\n",
        "<br>\n",
        "el set.seed() me permitirá replicar experimentos con exactitud"
      ]
    },
    {
      "cell_type": "markdown",
      "source": [
        "\n",
        "\n",
        "---\n",
        "\n"
      ],
      "metadata": {
        "id": "l5kezv7QI5Mz"
      }
    },
    {
      "cell_type": "markdown",
      "metadata": {
        "id": "9K6NQ843KuNh"
      },
      "source": [
        "## 1.11 Arbol training/testing"
      ]
    },
    {
      "cell_type": "markdown",
      "metadata": {
        "id": "UaXNh3OrKuNi"
      },
      "source": [
        "El objetivo es calcular la ganancia en testing de un arbol de decision"
      ]
    },
    {
      "cell_type": "code",
      "source": [
        "# limpio la memoria\n",
        "rm(list=ls(all.names=TRUE)) # remove all objects\n",
        "gc(full=TRUE, verbose=FALSE) # garbage collection"
      ],
      "metadata": {
        "id": "R3jeY0pQLJbk"
      },
      "execution_count": null,
      "outputs": []
    },
    {
      "cell_type": "code",
      "execution_count": null,
      "metadata": {
        "tags": [],
        "vscode": {
          "languageId": "r"
        },
        "id": "firG-lW3LJbl"
      },
      "outputs": [],
      "source": [
        "library(\"data.table\") # cargo la libreria  data.table\n",
        "library(\"rpart\") # cargo la libreria  rpart\n",
        "if (!require(\"rpart.plot\")) install.packages(\"rpart.plot\")\n",
        "require(\"rpart.plot\")\n",
        "if (!require(\"caret\")) install.packages(\"caret\")\n",
        "require(\"caret\")\n",
        "\n",
        "\n",
        "options(repr.plot.width = 20, repr.plot.height = 10)"
      ]
    },
    {
      "cell_type": "code",
      "source": [
        "setwd(\"/content/buckets/b1/exp\") # Establezco el Working Directory\n",
        "dir.create(\"./ZH2021/\", showWarnings = FALSE)\n",
        "setwd(\"/content/buckets/b1/exp/ZH2021/\") # Establezco el Working Directory\n"
      ],
      "metadata": {
        "id": "TZI8eZYhLJbm"
      },
      "execution_count": null,
      "outputs": []
    },
    {
      "cell_type": "code",
      "execution_count": null,
      "metadata": {
        "tags": [],
        "vscode": {
          "languageId": "r"
        },
        "id": "JNG2g0tgLJbm"
      },
      "outputs": [],
      "source": [
        "dataset <- fread(\"/content/datasets/competencia_01.csv.gz\") # cargo el dataset\n"
      ]
    },
    {
      "cell_type": "code",
      "execution_count": null,
      "metadata": {
        "tags": [],
        "vscode": {
          "languageId": "r"
        },
        "id": "Ui-bk6KlKuNm"
      },
      "outputs": [],
      "source": [
        "\n",
        "dataset <- dataset[foto_mes == 202104] # me quedo solo con el periodo 202104\n"
      ]
    },
    {
      "cell_type": "code",
      "execution_count": null,
      "metadata": {
        "tags": [],
        "vscode": {
          "languageId": "r"
        },
        "id": "7VUBcpl_KuNn"
      },
      "outputs": [],
      "source": [
        "# creo training con 70%  y testing con 30%\n",
        "set.seed(13)\n",
        "train_rows <- createDataPartition(dataset$clase_ternaria, p = 0.70, list = FALSE)\n",
        "dtrain <- dataset[train_rows]\n",
        "dtest <- dataset[-train_rows]\n"
      ]
    },
    {
      "cell_type": "markdown",
      "metadata": {
        "id": "-R8GB0euKuNn"
      },
      "source": [
        "Entreno el modelo en los datos de training"
      ]
    },
    {
      "cell_type": "code",
      "execution_count": null,
      "metadata": {
        "tags": [],
        "vscode": {
          "languageId": "r"
        },
        "id": "jgxxzBnbKuNo"
      },
      "outputs": [],
      "source": [
        "param <- list(\n",
        "    \"cp\" = -0.5,\n",
        "    \"minsplit\" = 900,\n",
        "    \"minbucket\" = 440,\n",
        "    \"maxdepth\" = 5\n",
        ")\n"
      ]
    },
    {
      "cell_type": "markdown",
      "metadata": {
        "id": "b66bFPLUKuNp"
      },
      "source": [
        "Entreno el modelo en los datos de training"
      ]
    },
    {
      "cell_type": "code",
      "execution_count": null,
      "metadata": {
        "tags": [],
        "vscode": {
          "languageId": "r"
        },
        "id": "qYNxGThfKuNq"
      },
      "outputs": [],
      "source": [
        "# genero el modelo\n",
        "modelo <- rpart::rpart(\n",
        "    formula = \"clase_ternaria ~ .\",\n",
        "    data = dtrain,\n",
        "    xval = 0,\n",
        "    control = param\n",
        ")\n"
      ]
    },
    {
      "cell_type": "markdown",
      "metadata": {
        "id": "LhWigj-dKuNq"
      },
      "source": [
        "aplico el modelo a los datos de testing"
      ]
    },
    {
      "cell_type": "code",
      "execution_count": null,
      "metadata": {
        "tags": [],
        "vscode": {
          "languageId": "r"
        },
        "id": "gNTpjbKbKuNr"
      },
      "outputs": [],
      "source": [
        "prediccion <- predict(modelo, dtest, type = \"prob\")\n"
      ]
    },
    {
      "cell_type": "markdown",
      "metadata": {
        "id": "Yau2jdMZKuNr"
      },
      "source": [
        "### Calculo la ganancia del modelo en los datos de testing"
      ]
    },
    {
      "cell_type": "markdown",
      "metadata": {
        "id": "o2M38AA4KuNs"
      },
      "source": [
        "a partir de la prediccion, calculo la probabilidad de BAJA+2 de cada registro de testing  **dtest**"
      ]
    },
    {
      "cell_type": "code",
      "execution_count": null,
      "metadata": {
        "tags": [],
        "vscode": {
          "languageId": "r"
        },
        "id": "O2LGrWImKuNs"
      },
      "outputs": [],
      "source": [
        "prob_baja2 <- prediccion[, \"BAJA+2\"]\n"
      ]
    },
    {
      "cell_type": "markdown",
      "metadata": {
        "id": "RsoVWvH_KuNt"
      },
      "source": [
        "Para el cálculo de la ganancia del modelo aplicado a testing debo tener en cuenta lo siguiente\n",
        "* Solo envio estimulo a los registros que el modelo asigno una probabilidad mayor a 0.025\n",
        "* Si no envio estimulo, no gano ni pierdo, es decir la ganacia es cero\n",
        "* Si el registro al que envio el estímulo es un **BAJA+2**  entonces la ganancia es de +780000\n",
        "* Si el registro al que envio el estímulo es un **BAJA+1**  entonces la ganancia es de  -20000\n",
        "* Si el registro al que envio el estímulo es un **CONTINUA** entonces la ganancia es de  -20000"
      ]
    },
    {
      "cell_type": "markdown",
      "metadata": {
        "id": "2hsW9o_PKuNt"
      },
      "source": [
        "##### A la condición que solo envio a los registros con probabilidad mayor a 1/40 la resuelvo con la condicion lógica  (prob_baja2> 0.025)\n",
        "<br>\n",
        "Esta condicion termina siendo un 0 o un 1\n",
        "<br>\n",
        "vale 1 si y solo si se cumple la condicion, es decir  si prob_baja2 es mayor a 0.025"
      ]
    },
    {
      "cell_type": "markdown",
      "metadata": {
        "id": "w6nos3RPKuNu"
      },
      "source": [
        "### La ganancia de +780000 o -20000 la resuelvo de esta forma ifelse( clase_ternaria==\"BAJA+2\", 780000, -20000)"
      ]
    },
    {
      "cell_type": "markdown",
      "metadata": {
        "id": "601207t6KuNu"
      },
      "source": [
        "Finalmente,  que se cumplan ambas condiciones al mismo tiempo, en este caso, es multiplicarlas, o sea\n",
        "<br>\n",
        "(prob_baja2> 0.025) * ifelse( clase_ternaria==\"BAJA+2\", 780000, -20000)\n",
        "<br>\n",
        "La condicion anterior toma los siguientes valores"
      ]
    },
    {
      "cell_type": "markdown",
      "metadata": {
        "id": "2QwIz8YjKuNv"
      },
      "source": [
        "| prob(BAJA+2) | clase_ternaria | ganancia |\n",
        "| --- | :---: | ---: |\n",
        "| menor o igual a 0.025 | BAJA+1 | 0 |\n",
        "| menor o igual a 0.025 | CONTINUA | 0 |\n",
        "| menor o igual a 0.025 | BAJA+2 | 0 |\n",
        "| mayor a 0.025 | BAJA+1 | -20000 |\n",
        "| mayor a 0.025 | CONTINUA | -20000 |\n",
        "| mayor a 0.025 | BAJA+2 | 780000 |\n"
      ]
    },
    {
      "cell_type": "markdown",
      "metadata": {
        "id": "drRf_ROvKuNv"
      },
      "source": [
        "Finalmente hago el calculo en data.table"
      ]
    },
    {
      "cell_type": "code",
      "execution_count": null,
      "metadata": {
        "tags": [],
        "vscode": {
          "languageId": "r"
        },
        "id": "jr0N5xcLKuNw"
      },
      "outputs": [],
      "source": [
        "ganancia_testing <- dtest[, sum((prob_baja2 > 0.025) * ifelse(clase_ternaria == \"BAJA+2\", 780000, -20000))]\n"
      ]
    },
    {
      "cell_type": "code",
      "execution_count": null,
      "metadata": {
        "tags": [],
        "vscode": {
          "languageId": "r"
        },
        "id": "JFiYIXoqKuNw"
      },
      "outputs": [],
      "source": [
        "ganancia_testing\n"
      ]
    },
    {
      "cell_type": "markdown",
      "metadata": {
        "id": "q40nUPJtKuNx"
      },
      "source": [
        "Es importante que la ganancia esta calculada sobre los datos de testing, que en este caso son apenas el 30%\n",
        "<br>\n",
        "Si quiero extrapolar a todo el dataset, debo hacer el **cociente** de esa ganancia por 0.30   ( coloquialmente, debo dividir por 0.30 )"
      ]
    },
    {
      "cell_type": "code",
      "execution_count": null,
      "metadata": {
        "tags": [],
        "vscode": {
          "languageId": "r"
        },
        "id": "7EJu8ULfKuNx"
      },
      "outputs": [],
      "source": [
        "ganancia_testing_normalizada <- ganancia_testing / 0.3\n"
      ]
    },
    {
      "cell_type": "code",
      "execution_count": null,
      "metadata": {
        "tags": [],
        "vscode": {
          "languageId": "r"
        },
        "id": "XJjxYg6VKuNx"
      },
      "outputs": [],
      "source": [
        "ganancia_testing_normalizada\n"
      ]
    },
    {
      "cell_type": "markdown",
      "source": [
        "\n",
        "\n",
        "---\n",
        "\n"
      ],
      "metadata": {
        "id": "MPZAESTrK6Bl"
      }
    },
    {
      "cell_type": "markdown",
      "metadata": {
        "id": "pgXLi0ewL7iQ"
      },
      "source": [
        "## 1.12 Funcion de Ganancia de Arbol training/testing"
      ]
    },
    {
      "cell_type": "markdown",
      "metadata": {
        "id": "47yxD9YvL7iR"
      },
      "source": [
        "El objetivo es poner el notebook anterior dentro de una funcion, e invocarla con distintas semillas, para maravillarnos ante la dispersion de las ganancias"
      ]
    },
    {
      "cell_type": "code",
      "source": [
        "# limpio la memoria\n",
        "rm(list=ls(all.names=TRUE)) # remove all objects\n",
        "gc(full=TRUE, verbose=FALSE) # garbage collection"
      ],
      "metadata": {
        "id": "YdZQR19RMQIV"
      },
      "execution_count": null,
      "outputs": []
    },
    {
      "cell_type": "code",
      "execution_count": null,
      "metadata": {
        "tags": [],
        "vscode": {
          "languageId": "r"
        },
        "id": "5JK3tGt2MQIY"
      },
      "outputs": [],
      "source": [
        "library(\"data.table\") # cargo la libreria  data.table\n",
        "library(\"rpart\") # cargo la libreria  data.table\n",
        "if (!require(\"rpart.plot\")) install.packages(\"rpart.plot\")\n",
        "require(\"rpart.plot\")\n",
        "if (!require(\"caret\")) install.packages(\"caret\")\n",
        "require(\"caret\")\n",
        "\n",
        "options(repr.plot.width = 20, repr.plot.height = 10)"
      ]
    },
    {
      "cell_type": "code",
      "source": [
        "setwd(\"/content/buckets/b1/exp\") # Establezco el Working Directory\n",
        "dir.create(\"./ZH2022/\", showWarnings = FALSE)\n",
        "setwd(\"/content/buckets/b1/exp/ZH2022/\") # Establezco el Working Directory\n"
      ],
      "metadata": {
        "id": "gf4vs8lYMQIZ"
      },
      "execution_count": null,
      "outputs": []
    },
    {
      "cell_type": "code",
      "execution_count": null,
      "metadata": {
        "tags": [],
        "vscode": {
          "languageId": "r"
        },
        "id": "Liue1mEiMQIb"
      },
      "outputs": [],
      "source": [
        "dataset <- fread(\"/content/datasets/competencia_01.csv.gz\") # cargo el dataset\n",
        "dataset <- dataset[foto_mes == 202104] # me quedo solo con el periodo 202104\n"
      ]
    },
    {
      "cell_type": "code",
      "execution_count": null,
      "metadata": {
        "tags": [],
        "vscode": {
          "languageId": "r"
        },
        "id": "olC5iAzpL7iU"
      },
      "outputs": [],
      "source": [
        "GananciaArbol <- function(semilla, data, x, train = 0.70) {\n",
        "  # establezco la semilla\n",
        "  set.seed(semilla)\n",
        "  train_rows <- createDataPartition(dataset$clase_ternaria, p = 0.70, list = FALSE)\n",
        "\n",
        "  modelo <- rpart::rpart(\n",
        "    formula = \"clase_ternaria ~ .\",\n",
        "    data = data[train_rows], # los datos de training\n",
        "    xval = 0,\n",
        "    control = x\n",
        "  )\n",
        "\n",
        "  # Aplico el modelo a los datos de testing\n",
        "  prediccion <- predict(modelo, data[-train_rows], type = \"prob\")\n",
        "\n",
        "  prob_baja2 <- prediccion[, \"BAJA+2\"]\n",
        "  ganancia_testing <- data[-train_rows, sum((prob_baja2 > 0.025) * ifelse(clase_ternaria == \"BAJA+2\", 780000, -20000))]\n",
        "\n",
        "  return(ganancia_testing)\n",
        "}\n"
      ]
    },
    {
      "cell_type": "markdown",
      "metadata": {
        "id": "OMXC9dLQL7iV"
      },
      "source": [
        "Vale la pena notar que dentro de la funcion no se han creado  dtrain y dtest,  sino que directamente se utilizan:\n",
        "* data[ train_rows]  como training\n",
        "* data[ -train_rows]  como testing\n"
      ]
    },
    {
      "cell_type": "markdown",
      "metadata": {
        "id": "MDnOmvxqL7iW"
      },
      "source": [
        "#Aqui empieza el programa"
      ]
    },
    {
      "cell_type": "code",
      "execution_count": null,
      "metadata": {
        "tags": [],
        "vscode": {
          "languageId": "r"
        },
        "id": "tec8DwNuL7iY"
      },
      "outputs": [],
      "source": [
        "# defino unos buenos hiperparametros\n",
        "param <- list(\n",
        "    \"cp\" = -0.5,\n",
        "    \"minsplit\" = 500,\n",
        "    \"minbucket\" = 10,\n",
        "    \"maxdepth\" = 5\n",
        ")\n"
      ]
    },
    {
      "cell_type": "code",
      "execution_count": null,
      "metadata": {
        "tags": [],
        "vscode": {
          "languageId": "r"
        },
        "id": "n2fT_-FSL7iY"
      },
      "outputs": [],
      "source": [
        "# Ahora hago algunas llamadas a la funcion\n"
      ]
    },
    {
      "cell_type": "code",
      "execution_count": null,
      "metadata": {
        "tags": [],
        "vscode": {
          "languageId": "r"
        },
        "id": "A1YqsQPhL7iZ"
      },
      "outputs": [],
      "source": [
        "GananciaArbol(11, dataset, x = param)\n"
      ]
    },
    {
      "cell_type": "code",
      "execution_count": null,
      "metadata": {
        "tags": [],
        "vscode": {
          "languageId": "r"
        },
        "id": "ODM8klqXL7ia"
      },
      "outputs": [],
      "source": [
        "GananciaArbol(13, dataset, x = param)\n"
      ]
    },
    {
      "cell_type": "code",
      "execution_count": null,
      "metadata": {
        "tags": [],
        "vscode": {
          "languageId": "r"
        },
        "id": "gAohGjy7L7ia"
      },
      "outputs": [],
      "source": [
        "GananciaArbol(17, dataset, x = param)\n"
      ]
    },
    {
      "cell_type": "code",
      "execution_count": null,
      "metadata": {
        "tags": [],
        "vscode": {
          "languageId": "r"
        },
        "id": "T3rZjJiiL7ib"
      },
      "outputs": [],
      "source": [
        "GananciaArbol(19, dataset, x = param)\n"
      ]
    },
    {
      "cell_type": "code",
      "execution_count": null,
      "metadata": {
        "tags": [],
        "vscode": {
          "languageId": "r"
        },
        "id": "I6nANIfML7ib"
      },
      "outputs": [],
      "source": [
        "GananciaArbol(23, dataset, x = param)\n"
      ]
    },
    {
      "cell_type": "markdown",
      "metadata": {
        "id": "IQHAzupoL7ic"
      },
      "source": [
        "Lo primero que se obseva es la variabilidad de la ganancia sin normalizar segun la semilla, hasta un 10%"
      ]
    },
    {
      "cell_type": "markdown",
      "metadata": {
        "id": "JZEdMn4jL7ic"
      },
      "source": [
        "Esta dispersión es **NOTABLE**  ya que el algoritmo es el mismo, con los mismos parámetros.\n",
        "<br>\n",
        "Lo único que cambia es que datos se utilizan para entrenar y testear, pero siempre es 70% / 30%\n",
        "<br>\n",
        "Es más notable aún que se ha tenido cuidado que la partición sea estratificada segun el campo **clase_ternaria**, lo que apriori uno supondria que va a generar particiones muy homogéneas."
      ]
    },
    {
      "cell_type": "markdown",
      "source": [
        "\n",
        "\n",
        "---\n",
        "\n"
      ],
      "metadata": {
        "id": "Vv3tR7UIMEiF"
      }
    },
    {
      "cell_type": "markdown",
      "metadata": {
        "id": "Ec2ebQsLMoJ4"
      },
      "source": [
        "## 1.13  Acumulando resultados en un vector"
      ]
    },
    {
      "cell_type": "markdown",
      "metadata": {
        "id": "SE0dMHkzMoJ5"
      },
      "source": [
        "Este elemental notebook muestra desde cero como acumular resultados en un vector, será un primer paso para luego escribir scripts en donde guardemos los resultados de nuestros procesos en vectores o en un dataset si es necesario."
      ]
    },
    {
      "cell_type": "markdown",
      "metadata": {
        "id": "Xw5AC2ojMoJ6"
      },
      "source": [
        "Partimos primero de un vector, al que queremos agregarle al final un elemento nuevo"
      ]
    },
    {
      "cell_type": "code",
      "execution_count": null,
      "metadata": {
        "tags": [],
        "vscode": {
          "languageId": "r"
        },
        "id": "STdv3vR6MoJ7"
      },
      "outputs": [],
      "source": [
        "vector <- c(1, 2, 3, 4, 5)\n"
      ]
    },
    {
      "cell_type": "code",
      "execution_count": null,
      "metadata": {
        "tags": [],
        "vscode": {
          "languageId": "r"
        },
        "id": "8lGQyh8SMoJ9"
      },
      "outputs": [],
      "source": [
        "vector\n"
      ]
    },
    {
      "cell_type": "markdown",
      "metadata": {
        "id": "99Ga6xl9MoJ-"
      },
      "source": [
        "agregar un elemento al final, a  **vector** , es tan simple como"
      ]
    },
    {
      "cell_type": "code",
      "execution_count": null,
      "metadata": {
        "tags": [],
        "vscode": {
          "languageId": "r"
        },
        "id": "E966L5X8MoJ_"
      },
      "outputs": [],
      "source": [
        "vector <- c(vector, 6)\n"
      ]
    },
    {
      "cell_type": "code",
      "execution_count": null,
      "metadata": {
        "tags": [],
        "vscode": {
          "languageId": "r"
        },
        "id": "k4E-p4ofMoKA"
      },
      "outputs": [],
      "source": [
        "vector\n"
      ]
    },
    {
      "cell_type": "markdown",
      "metadata": {
        "id": "hOF6Hr8RMoKA"
      },
      "source": [
        "Ahora definimos una funcion para ejemplificar"
      ]
    },
    {
      "cell_type": "code",
      "execution_count": null,
      "metadata": {
        "tags": [],
        "vscode": {
          "languageId": "r"
        },
        "id": "pxAVEZ69MoKB"
      },
      "outputs": [],
      "source": [
        "potencia_invertida <- function(x) {\n",
        "    return(1 / 2^x)\n",
        "}\n"
      ]
    },
    {
      "cell_type": "code",
      "execution_count": null,
      "metadata": {
        "tags": [],
        "vscode": {
          "languageId": "r"
        },
        "id": "V7eZ8dGNMoKC"
      },
      "outputs": [],
      "source": [
        "# creo el vector vacio donde voy a acumular\n"
      ]
    },
    {
      "cell_type": "code",
      "execution_count": null,
      "metadata": {
        "tags": [],
        "vscode": {
          "languageId": "r"
        },
        "id": "0YrjI2AsMoKC"
      },
      "outputs": [],
      "source": [
        "resultados <- c()\n"
      ]
    },
    {
      "cell_type": "markdown",
      "metadata": {
        "id": "YDGJqlbjMoKD"
      },
      "source": [
        "Lo siguiente es la instruccion  **for**  \n",
        "<br>\n",
        "Lo razón mas importante de existir de las computadoras es poder computar en donde se pueda repitir algo  **muchas veces**\n",
        "<br>\n",
        "Cuando está fija la cantidad de veces que se va a repetir algo, se utiliza la instruccion **for**"
      ]
    },
    {
      "cell_type": "code",
      "execution_count": null,
      "metadata": {
        "tags": [],
        "vscode": {
          "languageId": "r"
        },
        "id": "PZKDTvL5MoKD"
      },
      "outputs": [],
      "source": [
        "for (x in 1:8){\n",
        "    y <- potencia_invertida(x)\n",
        "    resultados <- c(resultados, y)\n",
        "\n",
        "    cat(resultados, \"\\n\")\n",
        "}\n"
      ]
    },
    {
      "cell_type": "markdown",
      "metadata": {
        "id": "4HL12g0iMoKE"
      },
      "source": [
        "Me fijo que tiene resultados"
      ]
    },
    {
      "cell_type": "markdown",
      "metadata": {
        "id": "ezLz2AOrMoKE"
      },
      "source": [
        "Se observa como va creciendo el vector, agregando a cada paso el nuevo resultado"
      ]
    },
    {
      "cell_type": "code",
      "execution_count": null,
      "metadata": {
        "tags": [],
        "vscode": {
          "languageId": "r"
        },
        "id": "A84wlWq5MoKE"
      },
      "outputs": [],
      "source": [
        "resultados\n"
      ]
    },
    {
      "cell_type": "markdown",
      "metadata": {
        "id": "_tkZ9dhKMoKF"
      },
      "source": [
        "finalmente,  de curiosidad, sumo los primeros 100 terminos"
      ]
    },
    {
      "cell_type": "code",
      "execution_count": null,
      "metadata": {
        "tags": [],
        "vscode": {
          "languageId": "r"
        },
        "id": "7q8dFh62MoKF"
      },
      "outputs": [],
      "source": [
        "resultados <- c()\n"
      ]
    },
    {
      "cell_type": "code",
      "execution_count": null,
      "metadata": {
        "tags": [],
        "vscode": {
          "languageId": "r"
        },
        "id": "BRWCsI7fMoKG"
      },
      "outputs": [],
      "source": [
        "for (x in 1:100)\n",
        "{\n",
        "    y <- potencia_invertida(x)\n",
        "    resultados <- c(resultados, y)\n",
        "}\n"
      ]
    },
    {
      "cell_type": "code",
      "execution_count": null,
      "metadata": {
        "tags": [],
        "vscode": {
          "languageId": "r"
        },
        "id": "XJnI2_LDMoKG"
      },
      "outputs": [],
      "source": [
        "resultados\n"
      ]
    },
    {
      "cell_type": "code",
      "execution_count": null,
      "metadata": {
        "tags": [],
        "vscode": {
          "languageId": "r"
        },
        "id": "qGGWmeMiMoKH"
      },
      "outputs": [],
      "source": [
        "sum(resultados)\n"
      ]
    },
    {
      "cell_type": "markdown",
      "metadata": {
        "id": "tW7mH21hMoKH"
      },
      "source": [
        "El resultado es 1 ,  como se esperaba matematicamente"
      ]
    },
    {
      "cell_type": "markdown",
      "metadata": {
        "id": "7ATIYEz-MoKH"
      },
      "source": [
        "### Otra forma de hacer lo anterior, trabajando con vectores en R es la siguiente  ( este sería el RStyle )"
      ]
    },
    {
      "cell_type": "markdown",
      "metadata": {
        "id": "7TZpf2iqMoKI"
      },
      "source": [
        "defino el vector como la secuencia de numeros del 1 al 100"
      ]
    },
    {
      "cell_type": "code",
      "execution_count": null,
      "metadata": {
        "tags": [],
        "vscode": {
          "languageId": "r"
        },
        "id": "aNUqQwL1MoKI"
      },
      "outputs": [],
      "source": [
        "vector <- 1:100\n"
      ]
    },
    {
      "cell_type": "markdown",
      "metadata": {
        "id": "KdbHFGmTMoKI"
      },
      "source": [
        "verifico que el vector tiene lo que necesito"
      ]
    },
    {
      "cell_type": "code",
      "execution_count": null,
      "metadata": {
        "tags": [],
        "vscode": {
          "languageId": "r"
        },
        "id": "QQrHWCRdMoKJ"
      },
      "outputs": [],
      "source": [
        "vector\n"
      ]
    },
    {
      "cell_type": "markdown",
      "metadata": {
        "id": "g66IgYUVMoKJ"
      },
      "source": [
        "calculo la operacion matematica de 1/(2^x)  pero aplicándola a TODO el vector"
      ]
    },
    {
      "cell_type": "code",
      "execution_count": null,
      "metadata": {
        "tags": [],
        "vscode": {
          "languageId": "r"
        },
        "id": "9tpxRuDLMoKJ"
      },
      "outputs": [],
      "source": [
        "resultados <- 1 / (2^vector)\n"
      ]
    },
    {
      "cell_type": "markdown",
      "metadata": {
        "id": "T14YppUUMoKJ"
      },
      "source": [
        "verifico que hay en resultados"
      ]
    },
    {
      "cell_type": "markdown",
      "metadata": {
        "id": "1XLpFAKgMoKK"
      },
      "source": [
        "calculo la suma de lo que quedó en el vector resultados"
      ]
    },
    {
      "cell_type": "code",
      "execution_count": null,
      "metadata": {
        "tags": [],
        "vscode": {
          "languageId": "r"
        },
        "id": "zTaflRE2MoKK"
      },
      "outputs": [],
      "source": [
        "sum(resultados)\n"
      ]
    },
    {
      "cell_type": "markdown",
      "metadata": {
        "id": "hTgsG1zSMoKK"
      },
      "source": [
        "Efectivamente me da 1, igual que la forma anterior de calcularlo"
      ]
    },
    {
      "cell_type": "markdown",
      "metadata": {
        "id": "4NBL1a8gMoKL"
      },
      "source": [
        "Hemos visto DOS formas de hacer un calculo, el elemental con la instruccion  **for**  y el vectorial de R"
      ]
    },
    {
      "cell_type": "markdown",
      "metadata": {
        "id": "m35CEap5MoKL"
      },
      "source": [
        "Obviamente,  R internamente resuelve el calculo vectorial haciendo un **for**"
      ]
    },
    {
      "cell_type": "markdown",
      "source": [
        "\n",
        "\n",
        "---\n",
        "\n"
      ],
      "metadata": {
        "id": "2o8UxThxMEyF"
      }
    },
    {
      "cell_type": "markdown",
      "metadata": {
        "id": "bR_3uJbGNofo"
      },
      "source": [
        "## 1.14 Montecarlo Estimation, Arbol\n",
        "## con un for loop"
      ]
    },
    {
      "cell_type": "markdown",
      "metadata": {
        "id": "_4X-z2njNofp"
      },
      "source": [
        "El objetivo es implementar con un for loop la estimacion montecarlo, que promedia las ganancias"
      ]
    },
    {
      "cell_type": "code",
      "source": [
        "# limpio la memoria\n",
        "rm(list=ls(all.names=TRUE)) # remove all objects\n",
        "gc(full=TRUE, verbose=FALSE) # garbage collection"
      ],
      "metadata": {
        "id": "GK3dg3fzN-LO"
      },
      "execution_count": null,
      "outputs": []
    },
    {
      "cell_type": "code",
      "execution_count": null,
      "metadata": {
        "tags": [],
        "vscode": {
          "languageId": "r"
        },
        "id": "09V57pM4N-Lw"
      },
      "outputs": [],
      "source": [
        "library(\"data.table\") # cargo la libreria  data.table\n",
        "library(\"rpart\") # cargo la libreria  data.table\n",
        "if (!require(\"rpart.plot\")) install.packages(\"rpart.plot\")\n",
        "require(\"rpart.plot\")\n",
        "if (!require(\"caret\")) install.packages(\"caret\")\n",
        "require(\"caret\")\n",
        "\n",
        "options(repr.plot.width = 20, repr.plot.height = 10)"
      ]
    },
    {
      "cell_type": "code",
      "source": [
        "setwd(\"/content/buckets/b1/exp\") # Establezco el Working Directory\n",
        "dir.create(\"./ZH2024/\", showWarnings = FALSE)\n",
        "setwd(\"/content/buckets/b1/exp/ZH2024/\") # Establezco el Working Directory\n"
      ],
      "metadata": {
        "id": "9eVFH-tJN-Lx"
      },
      "execution_count": null,
      "outputs": []
    },
    {
      "cell_type": "code",
      "execution_count": null,
      "metadata": {
        "tags": [],
        "vscode": {
          "languageId": "r"
        },
        "id": "YVYT7lDiN-Lx"
      },
      "outputs": [],
      "source": [
        "dataset <- fread(\"/content/datasets/competencia_01.csv.gz\") # cargo el dataset\n",
        "dataset <- dataset[foto_mes == 202104] # me quedo solo con el periodo 202104\n"
      ]
    },
    {
      "cell_type": "markdown",
      "metadata": {
        "id": "B-s-q7gsNoft"
      },
      "source": [
        "La funcion que definimos en el notebook anterior"
      ]
    },
    {
      "cell_type": "code",
      "execution_count": null,
      "metadata": {
        "vscode": {
          "languageId": "r"
        },
        "id": "lqlSczCBNofu"
      },
      "outputs": [],
      "source": [
        "GananciaArbol <- function(semilla, data, x, train = 0.70) {\n",
        "  # establezco la semilla\n",
        "  set.seed(semilla)\n",
        "  train_rows <- createDataPartition(dataset$clase_ternaria, p = 0.70, list = FALSE)\n",
        "\n",
        "  modelo <- rpart::rpart(\n",
        "    formula = \"clase_ternaria ~ .\",\n",
        "    data = data[train_rows], # los datos de training\n",
        "    xval = 0,\n",
        "    control = x\n",
        "  )\n",
        "\n",
        "  # Aplico el modelo a los datos de testing\n",
        "  prediccion <- predict(modelo, data[-train_rows], type = \"prob\")\n",
        "\n",
        "  prob_baja2 <- prediccion[, \"BAJA+2\"]\n",
        "  ganancia_testing <- data[-train_rows, sum((prob_baja2 > 0.025) * ifelse(clase_ternaria == \"BAJA+2\", 780000, -20000))]\n",
        "\n",
        "  # normalizo la ganancia\n",
        "  ganancia_testing_normalizada <- ganancia_testing / 0.3\n",
        "\n",
        "  return(ganancia_testing_normalizada)\n",
        "}\n"
      ]
    },
    {
      "cell_type": "code",
      "execution_count": null,
      "metadata": {
        "vscode": {
          "languageId": "r"
        },
        "id": "CGgvm8LvNofv"
      },
      "outputs": [],
      "source": [
        "# defino unos buenos hiperparametros\n",
        "param <- list(\n",
        "    \"cp\" = -0.5,\n",
        "    \"minsplit\" = 900,\n",
        "    \"minbucket\" = 440,\n",
        "    \"maxdepth\" = 5\n",
        ")\n"
      ]
    },
    {
      "cell_type": "code",
      "execution_count": null,
      "metadata": {
        "vscode": {
          "languageId": "r"
        },
        "id": "MPFrdC39Nofw"
      },
      "outputs": [],
      "source": [
        "# defino el vector de semillas\n"
      ]
    },
    {
      "cell_type": "code",
      "execution_count": null,
      "metadata": {
        "vscode": {
          "languageId": "r"
        },
        "id": "C3c0PjrgNofx"
      },
      "outputs": [],
      "source": [
        "ksemillas <- c(102191, 200177, 410551, 552581, 892237) # reemplazar por las propias semillas\n"
      ]
    },
    {
      "cell_type": "code",
      "execution_count": null,
      "metadata": {
        "vscode": {
          "languageId": "r"
        },
        "id": "yHrUiw4hNofx"
      },
      "outputs": [],
      "source": [
        "vector_ganancias <- c() # vector donde voy a ir acumulando las ganancias\n"
      ]
    },
    {
      "cell_type": "code",
      "execution_count": null,
      "metadata": {
        "vscode": {
          "languageId": "r"
        },
        "id": "bS_Hm1cWNofy"
      },
      "outputs": [],
      "source": [
        "for (semilla in ksemillas)\n",
        "{\n",
        "    ganancia <- GananciaArbol(semilla, dataset, x = param, train = 0.70)\n",
        "    vector_ganancias <- c(vector_ganancias, ganancia)\n",
        "}\n"
      ]
    },
    {
      "cell_type": "markdown",
      "metadata": {
        "id": "R4o1XiEcNofz"
      },
      "source": [
        "veo que tiene  vector_ganancias"
      ]
    },
    {
      "cell_type": "code",
      "execution_count": null,
      "metadata": {
        "vscode": {
          "languageId": "r"
        },
        "id": "Y85acM5pNofz"
      },
      "outputs": [],
      "source": [
        "vector_ganancias\n"
      ]
    },
    {
      "cell_type": "markdown",
      "metadata": {
        "id": "rg6BsD_VNofz"
      },
      "source": [
        "Calculo la media de  vector_ganancias"
      ]
    },
    {
      "cell_type": "code",
      "execution_count": null,
      "metadata": {
        "vscode": {
          "languageId": "r"
        },
        "id": "MLGz7PtLNof0"
      },
      "outputs": [],
      "source": [
        "mean(vector_ganancias)\n"
      ]
    },
    {
      "cell_type": "markdown",
      "source": [
        "\n",
        "\n",
        "---\n",
        "\n"
      ],
      "metadata": {
        "id": "azHhh6JQME-m"
      }
    },
    {
      "cell_type": "markdown",
      "metadata": {
        "id": "0P57bP1cOTIs"
      },
      "source": [
        "## 1.15 Montecarlo Estimation, Arbol\n",
        "## En una funcion"
      ]
    },
    {
      "cell_type": "markdown",
      "metadata": {
        "id": "k1nyvlZYOTIt"
      },
      "source": [
        "El objetivo es implementar con un for loop la estimacion montecarlo, que promedia las ganancias"
      ]
    },
    {
      "cell_type": "code",
      "source": [
        "# limpio la memoria\n",
        "rm(list=ls(all.names=TRUE)) # remove all objects\n",
        "gc(full=TRUE, verbose=FALSE) # garbage collection"
      ],
      "metadata": {
        "id": "GR26xfJ3Ohzh"
      },
      "execution_count": null,
      "outputs": []
    },
    {
      "cell_type": "code",
      "execution_count": null,
      "metadata": {
        "tags": [],
        "vscode": {
          "languageId": "r"
        },
        "id": "FELNiB_ROh0A"
      },
      "outputs": [],
      "source": [
        "library(\"data.table\") # cargo la libreria  data.table\n",
        "library(\"rpart\") # cargo la libreria  data.table\n",
        "if (!require(\"rpart.plot\")) install.packages(\"rpart.plot\")\n",
        "require(\"rpart.plot\")\n",
        "if (!require(\"caret\")) install.packages(\"caret\")\n",
        "require(\"caret\")\n",
        "\n",
        "options(repr.plot.width = 20, repr.plot.height = 10)"
      ]
    },
    {
      "cell_type": "code",
      "source": [
        "setwd(\"/content/buckets/b1/exp\") # Establezco el Working Directory\n",
        "dir.create(\"./ZH2025/\", showWarnings = FALSE)\n",
        "setwd(\"/content/buckets/b1/exp/ZH2025/\") # Establezco el Working Directory\n"
      ],
      "metadata": {
        "id": "SifSpOpPOh0B"
      },
      "execution_count": null,
      "outputs": []
    },
    {
      "cell_type": "code",
      "execution_count": null,
      "metadata": {
        "tags": [],
        "vscode": {
          "languageId": "r"
        },
        "id": "OuNnspA8Oh0B"
      },
      "outputs": [],
      "source": [
        "dataset <- fread(\"/content/datasets/competencia_01.csv.gz\") # cargo el dataset\n",
        "dataset <- dataset[foto_mes == 202104] # me quedo solo con el periodo 202104\n"
      ]
    },
    {
      "cell_type": "markdown",
      "metadata": {
        "id": "AVYkH9aeOTIw"
      },
      "source": [
        "La funcion que definimos en el notebook anterior"
      ]
    },
    {
      "cell_type": "code",
      "execution_count": null,
      "metadata": {
        "tags": [],
        "vscode": {
          "languageId": "r"
        },
        "id": "n-Et6VEROTIx"
      },
      "outputs": [],
      "source": [
        "GananciaArbol <- function(semilla, data, x, train = 0.70) {\n",
        "  # establezco la semilla\n",
        "  set.seed(semilla)\n",
        "  train_rows <- createDataPartition(dataset$clase_ternaria, p = 0.70, list = FALSE)\n",
        "\n",
        "  modelo <- rpart::rpart(\n",
        "    formula = \"clase_ternaria ~ .\",\n",
        "    data = data[train_rows], # los datos de training\n",
        "    xval = 0,\n",
        "    control = x\n",
        "  )\n",
        "\n",
        "  # Aplico el modelo a los datos de testing\n",
        "  prediccion <- predict(modelo, data[-train_rows], type = \"prob\")\n",
        "\n",
        "  prob_baja2 <- prediccion[, \"BAJA+2\"]\n",
        "  ganancia_testing <- data[-train_rows, sum((prob_baja2 > 0.025) * ifelse(clase_ternaria == \"BAJA+2\", 780000, -20000))]\n",
        "\n",
        "  # normalizo la ganancia\n",
        "  ganancia_testing_normalizada <- ganancia_testing / 0.3\n",
        "\n",
        "  return(ganancia_testing_normalizada)\n",
        "}\n"
      ]
    },
    {
      "cell_type": "code",
      "execution_count": null,
      "metadata": {
        "tags": [],
        "vscode": {
          "languageId": "r"
        },
        "id": "XrSbUUwZOTIy"
      },
      "outputs": [],
      "source": [
        "ArbolMontecarlo <- function(semillas, data, x, train = 0.70) {\n",
        "  vector_ganancias <- c() # vector donde voy a ir acumulando las ganancias\n",
        "  for (semilla in ksemillas)\n",
        "  {\n",
        "    ganancia <- GananciaArbol(semilla, dataset, x = x, train = 0.70)\n",
        "    vector_ganancias <- c(vector_ganancias, ganancia)\n",
        "  }\n",
        "\n",
        "  return(mean(vector_ganancias))\n",
        "}\n"
      ]
    },
    {
      "cell_type": "code",
      "execution_count": null,
      "metadata": {
        "tags": [],
        "vscode": {
          "languageId": "r"
        },
        "id": "IEmltL_ROTIz"
      },
      "outputs": [],
      "source": [
        "ksemillas <- c(102191, 200177, 410551, 552581, 892237) # reemplazar por las propias semillas\n"
      ]
    },
    {
      "cell_type": "code",
      "execution_count": null,
      "metadata": {
        "tags": [],
        "vscode": {
          "languageId": "r"
        },
        "id": "onxR5NtJOTI0"
      },
      "outputs": [],
      "source": [
        "# defino el primer set de hiperparametros\n",
        "param1 <- list(\n",
        "    \"cp\" = -0.5,\n",
        "    \"minsplit\" = 900,\n",
        "    \"minbucket\" = 440,\n",
        "    \"maxdepth\" = 5\n",
        ")\n"
      ]
    },
    {
      "cell_type": "markdown",
      "metadata": {
        "id": "Xh_z0-4zOTI1"
      },
      "source": [
        "llamo a la fucion  ArbolMontecarlo con las 5 semillas de ksemillas"
      ]
    },
    {
      "cell_type": "code",
      "execution_count": null,
      "metadata": {
        "tags": [],
        "vscode": {
          "languageId": "r"
        },
        "id": "ck2wu7a5OTI1"
      },
      "outputs": [],
      "source": [
        "ganancia_montecarlo1 <- ArbolMontecarlo(ksemillas, dataset, x = param1, train = 0.70)\n"
      ]
    },
    {
      "cell_type": "code",
      "execution_count": null,
      "metadata": {
        "tags": [],
        "vscode": {
          "languageId": "r"
        },
        "id": "UbvMQni7OTI2"
      },
      "outputs": [],
      "source": [
        "# el SEGUNDO set de hiperparametros\n",
        "param2 <- list(\n",
        "    \"cp\" = -0.5,\n",
        "    \"minsplit\" = 1340,\n",
        "    \"minbucket\" = 600,\n",
        "    \"maxdepth\" = 6\n",
        ")\n"
      ]
    },
    {
      "cell_type": "code",
      "execution_count": null,
      "metadata": {
        "tags": [],
        "vscode": {
          "languageId": "r"
        },
        "id": "E-MzgIlbOTI2"
      },
      "outputs": [],
      "source": [
        "ganancia_montecarlo2 <- ArbolMontecarlo(ksemillas, dataset, x = param2, train = 0.70)\n"
      ]
    },
    {
      "cell_type": "code",
      "execution_count": null,
      "metadata": {
        "tags": [],
        "vscode": {
          "languageId": "r"
        },
        "id": "c4To7eMiOTI3"
      },
      "outputs": [],
      "source": [
        "ganancia_montecarlo1\n",
        "ganancia_montecarlo2\n"
      ]
    },
    {
      "cell_type": "markdown",
      "metadata": {
        "id": "uRiiL3b9OTI3"
      },
      "source": [
        "Segun este experimento, el primer juego de hiperparametros es mejor que el primero\n",
        "<br>\n",
        "¿Se cumplirá esto subiendo a Kaggle?\n",
        "<br>\n",
        "¿Qué sucede si en Kaggle funciona bastante mejor el segundo set de hiperparámetros?"
      ]
    },
    {
      "cell_type": "code",
      "source": [
        "Sys.time()"
      ],
      "metadata": {
        "id": "QRTmNYbteoL3"
      },
      "execution_count": null,
      "outputs": []
    },
    {
      "cell_type": "markdown",
      "source": [
        "\n",
        "\n",
        "---\n",
        "\n"
      ],
      "metadata": {
        "id": "35vd5q2yNhzt"
      }
    }
  ],
  "metadata": {
    "kernelspec": {
      "display_name": "R",
      "name": "ir"
    },
    "language_info": {
      "name": "R"
    },
    "colab": {
      "provenance": []
    }
  },
  "nbformat": 4,
  "nbformat_minor": 0
}