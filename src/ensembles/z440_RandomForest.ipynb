{
  "nbformat": 4,
  "nbformat_minor": 0,
  "metadata": {
    "colab": {
      "provenance": []
    },
    "kernelspec": {
      "name": "ir",
      "display_name": "R"
    },
    "language_info": {
      "name": "R"
    }
  },
  "cells": [
    {
      "cell_type": "markdown",
      "source": [
        "# 4. Ensembles de Arboles de Decision"
      ],
      "metadata": {
        "id": "O94qX1svwzoC"
      }
    },
    {
      "cell_type": "markdown",
      "source": [
        "## 4.03 Random Forest"
      ],
      "metadata": {
        "id": "HsJFTcBZw1bE"
      }
    },
    {
      "cell_type": "markdown",
      "source": [
        "*Random Forest* es un algoritmo de ensembles de arboles de decision creado por Leo Brieman en 1995-2006\n",
        "https://link.springer.com/content/pdf/10.1023/a:1010933404324.pdf"
      ],
      "metadata": {
        "id": "nsgvDbemw9Tc"
      }
    },
    {
      "cell_type": "markdown",
      "source": [
        "La página original es:\n",
        "https://www.stat.berkeley.edu/~breiman/RandomForests/cc_home.htm"
      ],
      "metadata": {
        "id": "TcIpXSPvQ_Wy"
      }
    },
    {
      "cell_type": "markdown",
      "source": [
        "Dos buenos videos para seguir el paso a paso de Random Forest y aplicaciones:\n",
        "* https://www.youtube.com/watch?v=J4Wdy0Wc_xQ\n",
        "* https://www.youtube.com/watch?v=sQ870aTKqiM"
      ],
      "metadata": {
        "id": "-8kPyem6Qdb7"
      }
    },
    {
      "cell_type": "markdown",
      "source": [
        "Qué tipo de perturbaciones se realizan en Random Forest\n",
        "\n",
        "*   Se perturba el dataset, con la técnica de bagging = Bootstrap Aggregating\n",
        "*   Tambien se perturba el algoritmo, utiliza random en cada split"
      ],
      "metadata": {
        "id": "F5IdXABcQHY3"
      }
    },
    {
      "cell_type": "markdown",
      "source": [
        "Cada arbolito de Random Forest se entrena sobre un dataset perturbado, que tiene :\n",
        "* todas las columnas originales (esta es una GRAN diferencia con  Arboles Azarosos)\n",
        "* la misma *cantidad* de registros del dataset original, PERO generados por la técnica de sampleo con reposición del dataset original."
      ],
      "metadata": {
        "id": "j75A--Tsx2df"
      }
    },
    {
      "cell_type": "markdown",
      "source": [
        "A pesar de que Leo Brieman es también el inventor de CART (Classification and Regression Trees) Random Forest no corre el algoritmo CART de la libreria rpart, sino un CART perturbado, en donde cada split NO se hace sobre todos los campos del dataset, sino sobre un csubconjunto tomado al azar, esa cantidad es el hiperparámetro *mtry*"
      ],
      "metadata": {
        "id": "lg0-WDkvyObC"
      }
    },
    {
      "cell_type": "markdown",
      "source": [
        "#### 4.03.1  Seteo del ambiente en Google Colab"
      ],
      "metadata": {
        "id": "PX0qg_c0yqob"
      }
    },
    {
      "cell_type": "markdown",
      "metadata": {
        "id": "NGY7H9xza7Zr"
      },
      "source": [
        "Esta parte se debe correr con el runtime en Python3\n",
        "<br>Ir al menu, Runtime -> Change Runtime Type -> Runtime type ->  **Python 3**"
      ]
    },
    {
      "cell_type": "markdown",
      "metadata": {
        "id": "7PupIBNba7Zr"
      },
      "source": [
        "Conectar la virtual machine donde esta corriendo Google Colab con el  Google Drive, para poder tener persistencia de archivos"
      ]
    },
    {
      "cell_type": "code",
      "execution_count": null,
      "metadata": {
        "id": "9LpZCst5a7Zs",
        "colab": {
          "base_uri": "https://localhost:8080/"
        },
        "outputId": "adef3f15-f98d-4907-ee7e-cf58de1b8ce0"
      },
      "outputs": [
        {
          "output_type": "stream",
          "name": "stdout",
          "text": [
            "Mounted at /content/.drive\n"
          ]
        }
      ],
      "source": [
        "# primero establecer el Runtime de Python 3\n",
        "from google.colab import drive\n",
        "drive.mount('/content/.drive')"
      ]
    },
    {
      "cell_type": "markdown",
      "metadata": {
        "id": "JYC_F-wla7Zs"
      },
      "source": [
        "<br>los siguientes comando estan en shell script de Linux\n",
        "*   Crear las carpetas en el Google Drive\n",
        "*   Bajar el  **competencia_01_crudo**  al  Google Drive  y tambien al disco local de la virtual machine que esta corriendo Google Colab"
      ]
    },
    {
      "cell_type": "code",
      "execution_count": null,
      "metadata": {
        "id": "XWLelftXa7Zt",
        "colab": {
          "base_uri": "https://localhost:8080/"
        },
        "outputId": "4e693aa5-a8fd-4bb9-ddf3-43de87452111"
      },
      "outputs": [
        {
          "output_type": "execute_result",
          "data": {
            "text/plain": []
          },
          "metadata": {},
          "execution_count": 2
        }
      ],
      "source": [
        "%%shell\n",
        "\n",
        "mkdir -p \"/content/.drive/My Drive/dmeyf\"\n",
        "mkdir -p \"/content/buckets\"\n",
        "ln -s \"/content/.drive/My Drive/dmeyf\" /content/buckets/b1\n",
        "\n",
        "\n",
        "mkdir -p /content/buckets/b1/exp\n",
        "mkdir -p /content/buckets/b1/datasets\n",
        "mkdir -p /content/datasets\n",
        "\n",
        "\n",
        "\n",
        "archivo_origen=\"https://storage.googleapis.com/open-courses/dmeyf2025-e4a2/competencia_01_crudo.csv\"\n",
        "archivo_destino=\"/content/datasets/competencia_01_crudo.csv\"\n",
        "archivo_destino_bucket=\"/content/buckets/b1/datasets/competencia_01_crudo.csv\"\n",
        "\n",
        "if ! test -f $archivo_destino_bucket; then\n",
        "  wget  $archivo_origen  -O $archivo_destino_bucket\n",
        "fi\n",
        "\n",
        "\n",
        "if ! test -f $archivo_destino; then\n",
        "  cp  $archivo_destino_bucket  $archivo_destino\n",
        "fi\n"
      ]
    },
    {
      "cell_type": "markdown",
      "source": [
        "## Generacion de la clase_ternaria"
      ],
      "metadata": {
        "id": "dseB4qb9RqUb"
      }
    },
    {
      "cell_type": "markdown",
      "source": [
        "Esta parte se debe correr con el runtime en lenguaje **R** Ir al menu, Runtime -> Change Runtime Tipe -> Runtime type -> R"
      ],
      "metadata": {
        "id": "LCEnE_02RuIQ"
      }
    },
    {
      "cell_type": "code",
      "source": [
        "require( \"data.table\" )\n",
        "\n",
        "# leo el dataset\n",
        "dataset <- fread(\"/content/datasets/competencia_01_crudo.csv\" )\n",
        "\n",
        "# calculo el periodo0 consecutivo\n",
        "dsimple <- dataset[, list(\n",
        "    \"pos\" = .I,\n",
        "    numero_de_cliente,\n",
        "    periodo0 = as.integer(foto_mes/100)*12 +  foto_mes%%100 ) ]\n",
        "\n",
        "\n",
        "# ordeno\n",
        "setorder( dsimple, numero_de_cliente, periodo0 )\n",
        "\n",
        "# calculo topes\n",
        "periodo_ultimo <- dsimple[, max(periodo0) ]\n",
        "periodo_anteultimo <- periodo_ultimo - 1\n",
        "\n",
        "\n",
        "# calculo los leads de orden 1 y 2\n",
        "dsimple[, c(\"periodo1\", \"periodo2\") :=\n",
        "    shift(periodo0, n=1:2, fill=NA, type=\"lead\"),  numero_de_cliente ]\n",
        "\n",
        "# assign most common class values = \"CONTINUA\"\n",
        "dsimple[ periodo0 < periodo_anteultimo, clase_ternaria := \"CONTINUA\" ]\n",
        "\n",
        "# calculo BAJA+1\n",
        "dsimple[ periodo0 < periodo_ultimo &\n",
        "    ( is.na(periodo1) | periodo0 + 1 < periodo1 ),\n",
        "    clase_ternaria := \"BAJA+1\" ]\n",
        "\n",
        "# calculo BAJA+2\n",
        "dsimple[ periodo0 < periodo_anteultimo & (periodo0+1 == periodo1 )\n",
        "    & ( is.na(periodo2) | periodo0 + 2 < periodo2 ),\n",
        "    clase_ternaria := \"BAJA+2\" ]\n",
        "\n",
        "\n",
        "# pego el resultado en el dataset original y grabo\n",
        "setorder( dsimple, pos )\n",
        "dataset[, clase_ternaria := dsimple$clase_ternaria ]\n",
        "\n",
        "fwrite( dataset,\n",
        "    file =  \"/content/datasets/competencia_01.csv.gz\",\n",
        "    sep = \",\"\n",
        ")"
      ],
      "metadata": {
        "id": "P863YZB9R1Ua",
        "colab": {
          "base_uri": "https://localhost:8080/"
        },
        "outputId": "f05ec974-b7c0-4769-abdc-4c43381da932"
      },
      "execution_count": null,
      "outputs": [
        {
          "output_type": "stream",
          "name": "stderr",
          "text": [
            "Loading required package: data.table\n",
            "\n"
          ]
        }
      ]
    },
    {
      "cell_type": "code",
      "source": [
        "setorder( dataset, foto_mes, clase_ternaria, numero_de_cliente)\n",
        "dataset[, .N, list(foto_mes, clase_ternaria)]"
      ],
      "metadata": {
        "id": "S3hL7tv8W4rn",
        "colab": {
          "base_uri": "https://localhost:8080/",
          "height": 568
        },
        "outputId": "d8a50525-5848-46d3-93e5-37508ba52688"
      },
      "execution_count": null,
      "outputs": [
        {
          "output_type": "display_data",
          "data": {
            "text/html": [
              "<table class=\"dataframe\">\n",
              "<caption>A data.table: 15 × 3</caption>\n",
              "<thead>\n",
              "\t<tr><th scope=col>foto_mes</th><th scope=col>clase_ternaria</th><th scope=col>N</th></tr>\n",
              "\t<tr><th scope=col>&lt;int&gt;</th><th scope=col>&lt;chr&gt;</th><th scope=col>&lt;int&gt;</th></tr>\n",
              "</thead>\n",
              "<tbody>\n",
              "\t<tr><td>202101</td><td>BAJA+1  </td><td>   622</td></tr>\n",
              "\t<tr><td>202101</td><td>BAJA+2  </td><td>   825</td></tr>\n",
              "\t<tr><td>202101</td><td>CONTINUA</td><td>160080</td></tr>\n",
              "\t<tr><td>202102</td><td>BAJA+1  </td><td>   831</td></tr>\n",
              "\t<tr><td>202102</td><td>BAJA+2  </td><td>  1032</td></tr>\n",
              "\t<tr><td>202102</td><td>CONTINUA</td><td>160292</td></tr>\n",
              "\t<tr><td>202103</td><td>BAJA+1  </td><td>  1039</td></tr>\n",
              "\t<tr><td>202103</td><td>BAJA+2  </td><td>   951</td></tr>\n",
              "\t<tr><td>202103</td><td>CONTINUA</td><td>161119</td></tr>\n",
              "\t<tr><td>202104</td><td>BAJA+1  </td><td>   955</td></tr>\n",
              "\t<tr><td>202104</td><td>BAJA+2  </td><td>  1130</td></tr>\n",
              "\t<tr><td>202104</td><td>CONTINUA</td><td>161333</td></tr>\n",
              "\t<tr><td>202105</td><td>NA      </td><td>162783</td></tr>\n",
              "\t<tr><td>202105</td><td>BAJA+1  </td><td>  1134</td></tr>\n",
              "\t<tr><td>202106</td><td>NA      </td><td>164313</td></tr>\n",
              "</tbody>\n",
              "</table>\n"
            ],
            "text/markdown": "\nA data.table: 15 × 3\n\n| foto_mes &lt;int&gt; | clase_ternaria &lt;chr&gt; | N &lt;int&gt; |\n|---|---|---|\n| 202101 | BAJA+1   |    622 |\n| 202101 | BAJA+2   |    825 |\n| 202101 | CONTINUA | 160080 |\n| 202102 | BAJA+1   |    831 |\n| 202102 | BAJA+2   |   1032 |\n| 202102 | CONTINUA | 160292 |\n| 202103 | BAJA+1   |   1039 |\n| 202103 | BAJA+2   |    951 |\n| 202103 | CONTINUA | 161119 |\n| 202104 | BAJA+1   |    955 |\n| 202104 | BAJA+2   |   1130 |\n| 202104 | CONTINUA | 161333 |\n| 202105 | NA       | 162783 |\n| 202105 | BAJA+1   |   1134 |\n| 202106 | NA       | 164313 |\n\n",
            "text/latex": "A data.table: 15 × 3\n\\begin{tabular}{lll}\n foto\\_mes & clase\\_ternaria & N\\\\\n <int> & <chr> & <int>\\\\\n\\hline\n\t 202101 & BAJA+1   &    622\\\\\n\t 202101 & BAJA+2   &    825\\\\\n\t 202101 & CONTINUA & 160080\\\\\n\t 202102 & BAJA+1   &    831\\\\\n\t 202102 & BAJA+2   &   1032\\\\\n\t 202102 & CONTINUA & 160292\\\\\n\t 202103 & BAJA+1   &   1039\\\\\n\t 202103 & BAJA+2   &    951\\\\\n\t 202103 & CONTINUA & 161119\\\\\n\t 202104 & BAJA+1   &    955\\\\\n\t 202104 & BAJA+2   &   1130\\\\\n\t 202104 & CONTINUA & 161333\\\\\n\t 202105 & NA       & 162783\\\\\n\t 202105 & BAJA+1   &   1134\\\\\n\t 202106 & NA       & 164313\\\\\n\\end{tabular}\n",
            "text/plain": [
              "   foto_mes clase_ternaria N     \n",
              "1  202101   BAJA+1            622\n",
              "2  202101   BAJA+2            825\n",
              "3  202101   CONTINUA       160080\n",
              "4  202102   BAJA+1            831\n",
              "5  202102   BAJA+2           1032\n",
              "6  202102   CONTINUA       160292\n",
              "7  202103   BAJA+1           1039\n",
              "8  202103   BAJA+2            951\n",
              "9  202103   CONTINUA       161119\n",
              "10 202104   BAJA+1            955\n",
              "11 202104   BAJA+2           1130\n",
              "12 202104   CONTINUA       161333\n",
              "13 202105   NA             162783\n",
              "14 202105   BAJA+1           1134\n",
              "15 202106   NA             164313"
            ]
          },
          "metadata": {}
        }
      ]
    },
    {
      "cell_type": "markdown",
      "source": [
        "### 4.04  Random Forest, una corrida"
      ],
      "metadata": {
        "id": "oSKhZRToy2F7"
      }
    },
    {
      "cell_type": "markdown",
      "source": [
        "El tiempo de corrida de este punto es de alrededor de 8 minutos"
      ],
      "metadata": {
        "id": "zvUgQ8s8ReAp"
      }
    },
    {
      "cell_type": "markdown",
      "metadata": {
        "id": "eSU5vi00CPRS"
      },
      "source": [
        "Esta parte se debe correr con el runtime en lenguaje **R** Ir al menu, Runtime -> Change Runtime Type -> Runtime type -> R"
      ]
    },
    {
      "cell_type": "markdown",
      "metadata": {
        "id": "Zq8dySimCPRT"
      },
      "source": [
        "limpio el ambiente de R"
      ]
    },
    {
      "cell_type": "code",
      "source": [
        "format(Sys.time(), \"%a %b %d %X %Y\")"
      ],
      "metadata": {
        "id": "54xgC6vpObNA",
        "colab": {
          "base_uri": "https://localhost:8080/",
          "height": 34
        },
        "outputId": "8f09398b-4bb8-45e8-ef6b-649eec89989a"
      },
      "execution_count": null,
      "outputs": [
        {
          "output_type": "display_data",
          "data": {
            "text/html": [
              "'Mon Sep 01 08:51:05 PM 2025'"
            ],
            "text/markdown": "'Mon Sep 01 08:51:05 PM 2025'",
            "text/latex": "'Mon Sep 01 08:51:05 PM 2025'",
            "text/plain": [
              "[1] \"Mon Sep 01 08:51:05 PM 2025\""
            ]
          },
          "metadata": {}
        }
      ]
    },
    {
      "cell_type": "code",
      "execution_count": null,
      "metadata": {
        "id": "1iE0U4_WCPRT",
        "colab": {
          "base_uri": "https://localhost:8080/",
          "height": 129
        },
        "outputId": "36a59545-f639-4523-8fe8-5fd05de78ba5"
      },
      "outputs": [
        {
          "output_type": "display_data",
          "data": {
            "text/html": [
              "<table class=\"dataframe\">\n",
              "<caption>A matrix: 2 × 6 of type dbl</caption>\n",
              "<thead>\n",
              "\t<tr><th></th><th scope=col>used</th><th scope=col>(Mb)</th><th scope=col>gc trigger</th><th scope=col>(Mb)</th><th scope=col>max used</th><th scope=col>(Mb)</th></tr>\n",
              "</thead>\n",
              "<tbody>\n",
              "\t<tr><th scope=row>Ncells</th><td> 725735</td><td>38.8</td><td>  1454468</td><td>  77.7</td><td>  1454468</td><td>  77.7</td></tr>\n",
              "\t<tr><th scope=row>Vcells</th><td>1374046</td><td>10.5</td><td>169515428</td><td>1293.4</td><td>211569306</td><td>1614.2</td></tr>\n",
              "</tbody>\n",
              "</table>\n"
            ],
            "text/markdown": "\nA matrix: 2 × 6 of type dbl\n\n| <!--/--> | used | (Mb) | gc trigger | (Mb) | max used | (Mb) |\n|---|---|---|---|---|---|---|\n| Ncells |  725735 | 38.8 |   1454468 |   77.7 |   1454468 |   77.7 |\n| Vcells | 1374046 | 10.5 | 169515428 | 1293.4 | 211569306 | 1614.2 |\n\n",
            "text/latex": "A matrix: 2 × 6 of type dbl\n\\begin{tabular}{r|llllll}\n  & used & (Mb) & gc trigger & (Mb) & max used & (Mb)\\\\\n\\hline\n\tNcells &  725735 & 38.8 &   1454468 &   77.7 &   1454468 &   77.7\\\\\n\tVcells & 1374046 & 10.5 & 169515428 & 1293.4 & 211569306 & 1614.2\\\\\n\\end{tabular}\n",
            "text/plain": [
              "       used    (Mb) gc trigger (Mb)   max used  (Mb)  \n",
              "Ncells  725735 38.8   1454468    77.7   1454468   77.7\n",
              "Vcells 1374046 10.5 169515428  1293.4 211569306 1614.2"
            ]
          },
          "metadata": {}
        }
      ],
      "source": [
        "# limpio la memoria\n",
        "rm(list=ls(all.names=TRUE)) # remove all objects\n",
        "gc(full=TRUE, verbose=FALSE) # garbage collection"
      ]
    },
    {
      "cell_type": "markdown",
      "source": [
        "**ranger** es una de las muchas librerías en lenguage R que implementa el algoritmo *Random Forest*, tiene la ventaja que corre el paralelo, utilizando todos los nucleos del procesador."
      ],
      "metadata": {
        "id": "vOhrxo_s0lhn"
      }
    },
    {
      "cell_type": "code",
      "execution_count": null,
      "metadata": {
        "id": "BJDwdD0dCPRU",
        "colab": {
          "base_uri": "https://localhost:8080/"
        },
        "outputId": "de71e246-8000-402c-cfcb-10c240944b0f"
      },
      "outputs": [
        {
          "output_type": "stream",
          "name": "stderr",
          "text": [
            "Loading required package: rpart\n",
            "\n",
            "Loading required package: R.utils\n",
            "\n",
            "Warning message in library(package, lib.loc = lib.loc, character.only = TRUE, logical.return = TRUE, :\n",
            "“there is no package called ‘R.utils’”\n",
            "Installing package into ‘/usr/local/lib/R/site-library’\n",
            "(as ‘lib’ is unspecified)\n",
            "\n",
            "also installing the dependencies ‘R.oo’, ‘R.methodsS3’\n",
            "\n",
            "\n",
            "Loading required package: R.utils\n",
            "\n",
            "Loading required package: R.oo\n",
            "\n",
            "Loading required package: R.methodsS3\n",
            "\n",
            "R.methodsS3 v1.8.2 (2022-06-13 22:00:14 UTC) successfully loaded. See ?R.methodsS3 for help.\n",
            "\n",
            "R.oo v1.27.1 (2025-05-02 21:00:05 UTC) successfully loaded. See ?R.oo for help.\n",
            "\n",
            "\n",
            "Attaching package: ‘R.oo’\n",
            "\n",
            "\n",
            "The following object is masked from ‘package:R.methodsS3’:\n",
            "\n",
            "    throw\n",
            "\n",
            "\n",
            "The following objects are masked from ‘package:methods’:\n",
            "\n",
            "    getClasses, getMethods\n",
            "\n",
            "\n",
            "The following objects are masked from ‘package:base’:\n",
            "\n",
            "    attach, detach, load, save\n",
            "\n",
            "\n",
            "R.utils v2.13.0 (2025-02-24 21:20:02 UTC) successfully loaded. See ?R.utils for help.\n",
            "\n",
            "\n",
            "Attaching package: ‘R.utils’\n",
            "\n",
            "\n",
            "The following object is masked from ‘package:utils’:\n",
            "\n",
            "    timestamp\n",
            "\n",
            "\n",
            "The following objects are masked from ‘package:base’:\n",
            "\n",
            "    cat, commandArgs, getOption, isOpen, nullfile, parse, use, warnings\n",
            "\n",
            "\n",
            "Loading required package: ranger\n",
            "\n",
            "Warning message in library(package, lib.loc = lib.loc, character.only = TRUE, logical.return = TRUE, :\n",
            "“there is no package called ‘ranger’”\n",
            "Installing package into ‘/usr/local/lib/R/site-library’\n",
            "(as ‘lib’ is unspecified)\n",
            "\n",
            "also installing the dependency ‘RcppEigen’\n",
            "\n",
            "\n",
            "Loading required package: ranger\n",
            "\n",
            "Loading required package: randomForest\n",
            "\n",
            "Warning message in library(package, lib.loc = lib.loc, character.only = TRUE, logical.return = TRUE, :\n",
            "“there is no package called ‘randomForest’”\n",
            "Installing package into ‘/usr/local/lib/R/site-library’\n",
            "(as ‘lib’ is unspecified)\n",
            "\n",
            "Loading required package: randomForest\n",
            "\n",
            "randomForest 4.7-1.2\n",
            "\n",
            "Type rfNews() to see new features/changes/bug fixes.\n",
            "\n",
            "\n",
            "Attaching package: ‘randomForest’\n",
            "\n",
            "\n",
            "The following object is masked from ‘package:ranger’:\n",
            "\n",
            "    importance\n",
            "\n",
            "\n"
          ]
        }
      ],
      "source": [
        "# cargo las librerias que necesito\n",
        "require(\"data.table\")\n",
        "require(\"rpart\")\n",
        "\n",
        "if(!require(\"R.utils\")) install.packages(\"R.utils\")\n",
        "require(\"R.utils\")\n",
        "\n",
        "# ranger se usa para procesar\n",
        "if( !require(\"ranger\") ) install.packages(\"ranger\")\n",
        "require(\"ranger\")\n",
        "\n",
        "# randomForest  solo se usa para imputar nulos\n",
        "if( !require(\"randomForest\") ) install.packages(\"randomForest\")\n",
        "require(\"randomForest\")"
      ]
    },
    {
      "cell_type": "markdown",
      "source": [
        "Aqui debe cargar SU semilla primigenia y"
      ],
      "metadata": {
        "id": "M8-Pyp6CCPRU"
      }
    },
    {
      "cell_type": "code",
      "source": [
        "PARAM <- list()\n",
        "PARAM$experimento <- 440\n",
        "PARAM$semilla_primigenia <- 102191\n",
        "\n",
        "# training y future\n",
        "PARAM$train <- c(202102)\n",
        "PARAM$future <- c(202104)\n",
        "\n",
        "PARAM$ranger$num.trees <- 300 # cantidad de arboles\n",
        "PARAM$ranger$mtry <- 13 # cantidad de atributos que participan en cada split\n",
        "PARAM$ranger$min.node.size <- 50 # tamaño minimo de las hojas\n",
        "PARAM$ranger$max.depth <- 10 # 0 significa profundidad infinita\n",
        "\n",
        "\n",
        "PARAM$semilla_kaggle <- 314159"
      ],
      "metadata": {
        "id": "peRH7ySLCPRV"
      },
      "execution_count": null,
      "outputs": []
    },
    {
      "cell_type": "code",
      "source": [
        "# particionar agrega una columna llamada fold a un dataset\n",
        "#   que consiste en una particion estratificada segun agrupa\n",
        "# particionar( data=dataset, division=c(70,30),\n",
        "#  agrupa=clase_ternaria, seed=semilla)   crea una particion 70, 30\n",
        "\n",
        "particionar <- function(data, division, agrupa= \"\", campo= \"fold\", start= 1, seed= NA) {\n",
        "  if (!is.na(seed)) set.seed(seed, \"L'Ecuyer-CMRG\")\n",
        "\n",
        "  bloque <- unlist(mapply(\n",
        "    function(x, y) {rep(y, x)},division, seq(from= start, length.out= length(division))))\n",
        "\n",
        "  data[, (campo) := sample(rep(bloque,ceiling(.N / length(bloque))))[1:.N],by= agrupa]\n",
        "}"
      ],
      "metadata": {
        "id": "8fbMViAiCrsX"
      },
      "execution_count": null,
      "outputs": []
    },
    {
      "cell_type": "code",
      "source": [
        "# iniciliazo el dataset de realidad, para medir ganancia\n",
        "realidad_inicializar <- function( pfuture, pparam) {\n",
        "\n",
        "  # datos para verificar la ganancia\n",
        "  drealidad <- pfuture[, list(numero_de_cliente, foto_mes, clase_ternaria)]\n",
        "\n",
        "  particionar(drealidad,\n",
        "    division= c(3, 7),\n",
        "    agrupa= \"clase_ternaria\",\n",
        "    seed= PARAM$semilla_kaggle\n",
        "  )\n",
        "\n",
        "  return( drealidad )\n",
        "}"
      ],
      "metadata": {
        "id": "PLNaHLusCu4_"
      },
      "execution_count": null,
      "outputs": []
    },
    {
      "cell_type": "code",
      "source": [
        "# evaluo ganancia en los datos de la realidad\n",
        "\n",
        "realidad_evaluar <- function( prealidad, pprediccion) {\n",
        "\n",
        "  prealidad[ pprediccion,\n",
        "    on= c(\"numero_de_cliente\", \"foto_mes\"),\n",
        "    predicted:= i.Predicted\n",
        "  ]\n",
        "\n",
        "  tbl <- prealidad[, list(\"qty\"=.N), list(fold, predicted, clase_ternaria)]\n",
        "\n",
        "  res <- list()\n",
        "  res$public  <- tbl[fold==1 & predicted==1L, sum(qty*ifelse(clase_ternaria==\"BAJA+2\", 780000, -20000))]/0.3\n",
        "  res$private <- tbl[fold==2 & predicted==1L, sum(qty*ifelse(clase_ternaria==\"BAJA+2\", 780000, -20000))]/0.7\n",
        "  res$total <- tbl[predicted==1L, sum(qty*ifelse(clase_ternaria==\"BAJA+2\", 780000, -20000))]\n",
        "\n",
        "  prealidad[, predicted:=NULL]\n",
        "  return( res )\n",
        "}"
      ],
      "metadata": {
        "id": "Jpy5dSXGCxBg"
      },
      "execution_count": null,
      "outputs": []
    },
    {
      "cell_type": "code",
      "source": [
        "# carpeta de trabajo\n",
        "setwd(\"/content/buckets/b1/exp\")\n",
        "experimento_folder <- paste0(\"KA\", PARAM$experimento)\n",
        "dir.create(experimento_folder, showWarnings=FALSE)\n",
        "setwd( paste0(\"/content/buckets/b1/exp/\", experimento_folder ))"
      ],
      "metadata": {
        "id": "1gZD6ZMvCPRV"
      },
      "execution_count": null,
      "outputs": []
    },
    {
      "cell_type": "code",
      "source": [
        "# lectura del dataset\n",
        "dataset <- fread(\"/content/datasets/competencia_01.csv.gz\")"
      ],
      "metadata": {
        "id": "Xi0emX2ECPRV"
      },
      "execution_count": null,
      "outputs": []
    },
    {
      "cell_type": "code",
      "source": [
        "#  estas dos lineas estan relacionadas con el Data Drifting\n",
        "# asigno un valor muy negativo\n",
        "\n",
        "if( \"Master_Finiciomora\" %in% colnames(dataset) )\n",
        "  dataset[ is.na(Master_Finiciomora) , Master_Finiciomora := -999 ]\n",
        "\n",
        "if( \"Visa_Finiciomora\" %in% colnames(dataset) )\n",
        "  dataset[ is.na(Visa_Finiciomora) , Visa_Finiciomora :=  -999 ]\n"
      ],
      "metadata": {
        "id": "-3XuBeDy1Ugj"
      },
      "execution_count": null,
      "outputs": []
    },
    {
      "cell_type": "code",
      "source": [
        "# defino los dataset de entrenamiento y aplicacion\n",
        "dtrain <- dataset[foto_mes %in% PARAM$train]"
      ],
      "metadata": {
        "id": "OLPLLh2EELL9"
      },
      "execution_count": null,
      "outputs": []
    },
    {
      "cell_type": "code",
      "source": [
        "# mes donde voy a aplicar el modelo\n",
        "dfuture <- dataset[foto_mes %in% PARAM$future]\n",
        "setorder(dfuture, numero_de_cliente, foto_mes)"
      ],
      "metadata": {
        "id": "OoalUdSCEOdT"
      },
      "execution_count": null,
      "outputs": []
    },
    {
      "cell_type": "code",
      "source": [
        "# inicilizo el dataset  drealidad\n",
        "drealidad <- realidad_inicializar( dfuture, PARAM)"
      ],
      "metadata": {
        "id": "ZCiSHvh6EQ7z"
      },
      "execution_count": null,
      "outputs": []
    },
    {
      "cell_type": "code",
      "source": [
        "# quito clase ternaria de donde voy a aplicar el modelo\n",
        "dfuture[, clase_ternaria:= NULL]"
      ],
      "metadata": {
        "id": "aGf53_ibEVpK"
      },
      "execution_count": null,
      "outputs": []
    },
    {
      "cell_type": "code",
      "source": [
        "set.seed(PARAM$semilla_primigenia,\"L'Ecuyer-CMRG\" ) # Establezco la semilla aleatoria\n",
        "\n",
        "# ranger necesita la clase de tipo factor\n",
        "factorizado <- as.factor(dtrain$clase_ternaria)\n",
        "dtrain[, clase_ternaria := factorizado]"
      ],
      "metadata": {
        "id": "T6Zr06HB1kMU"
      },
      "execution_count": null,
      "outputs": []
    },
    {
      "cell_type": "code",
      "source": [
        "# Ranger NO acepta valores nulos\n",
        "# Leo Breiman, ¿por que le temias a los nulos?\n",
        "# imputo los nulos, ya que ranger no acepta nulos\n",
        "dtrain <- na.roughfix(dtrain)\n"
      ],
      "metadata": {
        "id": "U2vkkByI1oPl"
      },
      "execution_count": null,
      "outputs": []
    },
    {
      "cell_type": "code",
      "source": [
        "setorder(dtrain, clase_ternaria) # primero quedan los BAJA+1, BAJA+2, CONTINUA\n",
        "\n",
        "# genero el modelo de Random Forest llamando a ranger()\n",
        "modelo <- ranger(\n",
        "  formula= \"clase_ternaria ~ .\",\n",
        "  data= dtrain,\n",
        "  probability= TRUE, # para que devuelva las probabilidades\n",
        "  num.trees= PARAM$ranger$num.trees,\n",
        "  mtry= PARAM$ranger$mtry,\n",
        "  min.node.size= PARAM$ranger$min.node.size,\n",
        "  max.depth= PARAM$ranger$max.depth\n",
        ")\n"
      ],
      "metadata": {
        "id": "TI9_5pii2zCF",
        "colab": {
          "base_uri": "https://localhost:8080/"
        },
        "outputId": "fe7af429-2a7d-4dab-abb8-76c610d91f25"
      },
      "execution_count": null,
      "outputs": [
        {
          "output_type": "stream",
          "name": "stdout",
          "text": [
            "Growing trees.. Progress: 16%. Estimated remaining time: 2 minutes, 46 seconds.\n",
            "Growing trees.. Progress: 32%. Estimated remaining time: 2 minutes, 18 seconds.\n",
            "Growing trees.. Progress: 48%. Estimated remaining time: 1 minute, 44 seconds.\n",
            "Growing trees.. Progress: 64%. Estimated remaining time: 1 minute, 12 seconds.\n",
            "Growing trees.. Progress: 80%. Estimated remaining time: 40 seconds.\n",
            "Growing trees.. Progress: 96%. Estimated remaining time: 8 seconds.\n"
          ]
        }
      ]
    },
    {
      "cell_type": "code",
      "source": [
        "# Carpinteria necesaria sobre  dfuture\n",
        "# como quiere la Estadistica Clasica, imputar nulos por separado\n",
        "# ( aunque en este caso ya tengo los datos del futuro de antemano\n",
        "#  pero bueno, sigamos el librito de estos fundamentalistas a rajatabla ...\n",
        "\n",
        "dfuture <- na.roughfix(dfuture)"
      ],
      "metadata": {
        "id": "xjWjhp9c20fe"
      },
      "execution_count": null,
      "outputs": []
    },
    {
      "cell_type": "code",
      "source": [
        "tb_prediccion <- dfuture[, list(numero_de_cliente, foto_mes)]"
      ],
      "metadata": {
        "id": "iJxk4qsd9kgX"
      },
      "execution_count": null,
      "outputs": []
    },
    {
      "cell_type": "code",
      "source": [
        "# aplico el modelo a los datos que no tienen clase\n",
        "# aplico el modelo recien creado a los datos del futuro\n",
        "prediccion <- predict(modelo, dfuture)\n",
        "\n",
        "tb_prediccion[, prob := prediccion$predictions[, \"BAJA+2\"] ]"
      ],
      "metadata": {
        "id": "kkTGHx2K3Mjq"
      },
      "execution_count": null,
      "outputs": []
    },
    {
      "cell_type": "code",
      "source": [
        "tb_prediccion[, Predicted := as.numeric(prob > (1/40))]"
      ],
      "metadata": {
        "id": "F8O_PLWo3aIQ"
      },
      "execution_count": null,
      "outputs": []
    },
    {
      "cell_type": "code",
      "source": [
        "res <- realidad_evaluar( drealidad, tb_prediccion)"
      ],
      "metadata": {
        "id": "zfcTOGEcHi2m"
      },
      "execution_count": null,
      "outputs": []
    },
    {
      "cell_type": "code",
      "source": [
        "cat( \" TOTAL=\", res$total,\n",
        "  \" Public=\", res$public,\n",
        "  \" Private=\", res$private,\n",
        "  \"\\n\",\n",
        "  sep= \"\"\n",
        ")"
      ],
      "metadata": {
        "id": "uZLUbDIJ3tbx",
        "colab": {
          "base_uri": "https://localhost:8080/"
        },
        "outputId": "8731a9aa-ced2-4f72-bf5f-9603eccc357d"
      },
      "execution_count": null,
      "outputs": [
        {
          "output_type": "stream",
          "name": "stdout",
          "text": [
            " Total=307560000 Public=286266667 Private=316685714\n"
          ]
        }
      ]
    },
    {
      "cell_type": "code",
      "source": [
        "format(Sys.time(), \"%a %b %d %X %Y\")"
      ],
      "metadata": {
        "id": "CeCMEUCWOpLF"
      },
      "execution_count": null,
      "outputs": []
    },
    {
      "cell_type": "markdown",
      "source": [
        "Reportar el resultado  TOTAL en la hoja C4-Random Forest de la planilla colaborativa"
      ],
      "metadata": {
        "id": "nltXA6C9ILbo"
      }
    },
    {
      "cell_type": "markdown",
      "source": [
        "Usted NO reportará la ganancia del Public ni tampoco la del Private, por ahora es simplemente para que perciba la variabilidad existente y comience a tener plena conciencia de los fenómenos que observó en la asignatura  Data Mining del cuatrimestre anterior."
      ],
      "metadata": {
        "id": "stVlmYbCcJtd"
      }
    },
    {
      "cell_type": "markdown",
      "metadata": {
        "id": "UMr6Z1enOyd3"
      },
      "source": [
        "\n",
        "\n",
        "---\n",
        "\n"
      ]
    },
    {
      "cell_type": "markdown",
      "source": [
        "### 4.05  Random Forest  optimizacion de hiperparámetros"
      ],
      "metadata": {
        "id": "lO4QwOEU-xPe"
      }
    },
    {
      "cell_type": "markdown",
      "source": [
        "Random Forest es un algoritmo que quedó obsoleto luego de la aparición de  XGBoost y LightGBM, debido a lo lento de las librerías que lo implementan.\n",
        "<br> El siguiente script se brinda simplemente a modo pedagógico, advirtiendo a l@s alumn@s que demanda más de 24 horas para correr, y los resultados no son brillantes."
      ],
      "metadata": {
        "id": "75FU3LjSF2uN"
      }
    },
    {
      "cell_type": "markdown",
      "metadata": {
        "id": "aJBO5Dcb_B7s"
      },
      "source": [
        "limpio el ambiente de R"
      ]
    },
    {
      "cell_type": "code",
      "source": [
        "format(Sys.time(), \"%a %b %d %X %Y\")"
      ],
      "metadata": {
        "id": "Q_E3YLs2Pulh",
        "colab": {
          "base_uri": "https://localhost:8080/",
          "height": 34
        },
        "outputId": "b8401b1e-fb7b-45aa-a0f9-ca1a2f600382"
      },
      "execution_count": null,
      "outputs": [
        {
          "output_type": "display_data",
          "data": {
            "text/html": [
              "'Mon Sep 01 09:18:51 PM 2025'"
            ],
            "text/markdown": "'Mon Sep 01 09:18:51 PM 2025'",
            "text/latex": "'Mon Sep 01 09:18:51 PM 2025'",
            "text/plain": [
              "[1] \"Mon Sep 01 09:18:51 PM 2025\""
            ]
          },
          "metadata": {}
        }
      ]
    },
    {
      "cell_type": "code",
      "execution_count": null,
      "metadata": {
        "id": "HPKFI6yP_B7s",
        "colab": {
          "base_uri": "https://localhost:8080/",
          "height": 129
        },
        "outputId": "276f84a9-c499-462d-e7a1-04905d6127aa"
      },
      "outputs": [
        {
          "output_type": "display_data",
          "data": {
            "text/html": [
              "<table class=\"dataframe\">\n",
              "<caption>A matrix: 2 × 6 of type dbl</caption>\n",
              "<thead>\n",
              "\t<tr><th></th><th scope=col>used</th><th scope=col>(Mb)</th><th scope=col>gc trigger</th><th scope=col>(Mb)</th><th scope=col>max used</th><th scope=col>(Mb)</th></tr>\n",
              "</thead>\n",
              "<tbody>\n",
              "\t<tr><th scope=row>Ncells</th><td>1944822</td><td>103.9</td><td>  3723718</td><td> 198.9</td><td>  3723718</td><td> 198.9</td></tr>\n",
              "\t<tr><th scope=row>Vcells</th><td>3576386</td><td> 27.3</td><td>191448098</td><td>1460.7</td><td>239242511</td><td>1825.3</td></tr>\n",
              "</tbody>\n",
              "</table>\n"
            ],
            "text/markdown": "\nA matrix: 2 × 6 of type dbl\n\n| <!--/--> | used | (Mb) | gc trigger | (Mb) | max used | (Mb) |\n|---|---|---|---|---|---|---|\n| Ncells | 1944822 | 103.9 |   3723718 |  198.9 |   3723718 |  198.9 |\n| Vcells | 3576386 |  27.3 | 191448098 | 1460.7 | 239242511 | 1825.3 |\n\n",
            "text/latex": "A matrix: 2 × 6 of type dbl\n\\begin{tabular}{r|llllll}\n  & used & (Mb) & gc trigger & (Mb) & max used & (Mb)\\\\\n\\hline\n\tNcells & 1944822 & 103.9 &   3723718 &  198.9 &   3723718 &  198.9\\\\\n\tVcells & 3576386 &  27.3 & 191448098 & 1460.7 & 239242511 & 1825.3\\\\\n\\end{tabular}\n",
            "text/plain": [
              "       used    (Mb)  gc trigger (Mb)   max used  (Mb)  \n",
              "Ncells 1944822 103.9   3723718   198.9   3723718  198.9\n",
              "Vcells 3576386  27.3 191448098  1460.7 239242511 1825.3"
            ]
          },
          "metadata": {}
        }
      ],
      "source": [
        "# limpio la memoria\n",
        "rm(list=ls(all.names=TRUE)) # remove all objects\n",
        "gc(full=TRUE, verbose=FALSE) # garbage collection"
      ]
    },
    {
      "cell_type": "markdown",
      "source": [
        "**ranger** es una de las muchas librerías en lenguage R que implementa el algoritmo *Random Forest*, tiene la ventaja que corre el paralelo, utilizando todos los nucleos del procesador."
      ],
      "metadata": {
        "id": "vd4lv_Eb_B7t"
      }
    },
    {
      "cell_type": "code",
      "execution_count": null,
      "metadata": {
        "id": "B6X8U6XF_B7t",
        "colab": {
          "base_uri": "https://localhost:8080/"
        },
        "outputId": "4793776a-a6d3-4a48-d0ea-d265328ca7e7"
      },
      "outputs": [
        {
          "output_type": "stream",
          "name": "stderr",
          "text": [
            "Loading required package: parallel\n",
            "\n",
            "Loading required package: primes\n",
            "\n",
            "Warning message in library(package, lib.loc = lib.loc, character.only = TRUE, logical.return = TRUE, :\n",
            "“there is no package called ‘primes’”\n",
            "Installing package into ‘/usr/local/lib/R/site-library’\n",
            "(as ‘lib’ is unspecified)\n",
            "\n",
            "Loading required package: primes\n",
            "\n",
            "Loading required package: rlist\n",
            "\n",
            "Warning message in library(package, lib.loc = lib.loc, character.only = TRUE, logical.return = TRUE, :\n",
            "“there is no package called ‘rlist’”\n",
            "Installing package into ‘/usr/local/lib/R/site-library’\n",
            "(as ‘lib’ is unspecified)\n",
            "\n",
            "also installing the dependency ‘XML’\n",
            "\n",
            "\n",
            "Loading required package: rlist\n",
            "\n",
            "Loading required package: DiceKriging\n",
            "\n",
            "Warning message in library(package, lib.loc = lib.loc, character.only = TRUE, logical.return = TRUE, :\n",
            "“there is no package called ‘DiceKriging’”\n",
            "Installing package into ‘/usr/local/lib/R/site-library’\n",
            "(as ‘lib’ is unspecified)\n",
            "\n",
            "Loading required package: DiceKriging\n",
            "\n",
            "Loading required package: mlrMBO\n",
            "\n",
            "Warning message in library(package, lib.loc = lib.loc, character.only = TRUE, logical.return = TRUE, :\n",
            "“there is no package called ‘mlrMBO’”\n",
            "Installing package into ‘/usr/local/lib/R/site-library’\n",
            "(as ‘lib’ is unspecified)\n",
            "\n",
            "also installing the dependencies ‘fastmatch’, ‘RcppArmadillo’, ‘mlr’, ‘ParamHelpers’, ‘smoof’, ‘BBmisc’, ‘checkmate’, ‘lhs’, ‘parallelMap’\n",
            "\n",
            "\n",
            "Loading required package: mlrMBO\n",
            "\n",
            "Loading required package: mlr\n",
            "\n",
            "Loading required package: ParamHelpers\n",
            "\n",
            "\n",
            "Attaching package: ‘ParamHelpers’\n",
            "\n",
            "\n",
            "The following object is masked from ‘package:R.utils’:\n",
            "\n",
            "    isVector\n",
            "\n",
            "\n",
            "\n",
            "Attaching package: ‘mlr’\n",
            "\n",
            "\n",
            "The following objects are masked from ‘package:R.utils’:\n",
            "\n",
            "    resample, setThreshold\n",
            "\n",
            "\n",
            "Loading required package: smoof\n",
            "\n",
            "Loading required package: checkmate\n",
            "\n",
            "\n",
            "Attaching package: ‘checkmate’\n",
            "\n",
            "\n",
            "The following object is masked from ‘package:DiceKriging’:\n",
            "\n",
            "    checkNames\n",
            "\n",
            "\n",
            "The following object is masked from ‘package:R.utils’:\n",
            "\n",
            "    asInt\n",
            "\n",
            "\n",
            "\n",
            "Attaching package: ‘smoof’\n",
            "\n",
            "\n",
            "The following objects are masked from ‘package:R.oo’:\n",
            "\n",
            "    getDescription, getName\n",
            "\n",
            "\n"
          ]
        }
      ],
      "source": [
        "# cargo las librerias que necesito\n",
        "require(\"data.table\")\n",
        "require(\"rpart\")\n",
        "require(\"parallel\")\n",
        "\n",
        "if(!require(\"R.utils\")) install.packages(\"R.utils\")\n",
        "require(\"R.utils\")\n",
        "\n",
        "if( !require(\"primes\") ) install.packages(\"primes\")\n",
        "require(\"primes\")\n",
        "\n",
        "if( !require(\"rlist\") ) install.packages(\"rlist\")\n",
        "require(\"rlist\")\n",
        "\n",
        "# ranger se usa para procesar\n",
        "if( !require(\"ranger\") ) install.packages(\"ranger\")\n",
        "require(\"ranger\")\n",
        "\n",
        "# randomForest  solo se usa para imputar nulos\n",
        "if( !require(\"randomForest\") ) install.packages(\"randomForest\")\n",
        "require(\"randomForest\")\n",
        "\n",
        "\n",
        "if( !require(\"DiceKriging\") ) install.packages(\"DiceKriging\")\n",
        "require(\"DiceKriging\")\n",
        "\n",
        "if( !require(\"mlrMBO\") ) install.packages(\"mlrMBO\")\n",
        "require(\"mlrMBO\")\n"
      ]
    },
    {
      "cell_type": "markdown",
      "source": [
        "Aqui debe cargar SU semilla primigenia y"
      ],
      "metadata": {
        "id": "_qZHeAHdCJQ2"
      }
    },
    {
      "cell_type": "code",
      "source": [
        "PARAM <- list()\n",
        "PARAM$experimento <- 450\n",
        "PARAM$semilla_primigenia <- 102191\n",
        "\n",
        "PARAM$hyperparametertuning$iteraciones <- 40\n",
        "PARAM$hyperparametertuning$xval_folds <- 5\n",
        "PARAM$hyperparametertuning$POS_ganancia <- 780000\n",
        "PARAM$hyperparametertuning$NEG_ganancia <- -20000\n",
        "\n",
        "# Estructura que define los hiperparámetros y sus rangos\n",
        "#  la letra L al final significa ENTERO\n",
        "# max.depth 0 significa profundidad infinita\n",
        "PARAM$hyperparametertuning$hs <- makeParamSet(\n",
        "  makeIntegerParam(\"num.trees\", lower= 20L, upper= 500L),\n",
        "  makeIntegerParam(\"max.depth\", lower= 1L, upper= 30L),\n",
        "  makeIntegerParam(\"min.node.size\", lower= 1L, upper= 1000L),\n",
        "  makeIntegerParam(\"mtry\", lower= 2L, upper= 50L)\n",
        ")\n",
        "\n",
        "# training\n",
        "PARAM$train <- c(202102)"
      ],
      "metadata": {
        "id": "2y3Ai8F6CJQ2"
      },
      "execution_count": null,
      "outputs": []
    },
    {
      "cell_type": "code",
      "source": [
        "# graba a un archivo los componentes de lista\n",
        "# para el primer registro, escribe antes los titulos\n",
        "\n",
        "loguear <- function(\n",
        "    reg, arch= NA, folder= \"./work/\",\n",
        "    ext= \".txt\", verbose= TRUE) {\n",
        "\n",
        "  archivo <- arch\n",
        "  if (is.na(arch)) archivo <- paste0(folder, substitute(reg), ext)\n",
        "\n",
        "  if (!file.exists(archivo)) # Escribo los titulos\n",
        "    {\n",
        "      linea <- paste0(\n",
        "        \"fecha\\t\",\n",
        "        paste(list.names(reg), collapse= \"\\t\"), \"\\n\"\n",
        "      )\n",
        "\n",
        "      cat(linea, file= archivo)\n",
        "    }\n",
        "\n",
        "  linea <- paste0(\n",
        "    format(Sys.time(), \"%Y%m%d %H%M%S\"), \"\\t\", # la fecha y hora\n",
        "    gsub(\", \", \"\\t\", toString(reg)), \"\\n\"\n",
        "  )\n",
        "\n",
        "  cat(linea, file= archivo, append= TRUE) # grabo al archivo\n",
        "\n",
        "  if (verbose) cat(linea) # imprimo por pantalla\n",
        "}\n"
      ],
      "metadata": {
        "id": "P8YNRVVbCvQT"
      },
      "execution_count": null,
      "outputs": []
    },
    {
      "cell_type": "code",
      "source": [
        "# particionar agrega una columna llamada fold a un dataset\n",
        "#  que consiste en una particion estratificada segun agrupa\n",
        "# particionar( data=dataset, division=c(70,30),\n",
        "#  agrupa=clase_ternaria, seed=semilla)   crea una particion 70, 30\n",
        "# particionar( data=dataset, division=c(1,1,1,1,1),\n",
        "#   agrupa=clase_ternaria, seed=semilla)   divide el dataset en 5 particiones\n",
        "\n",
        "particionar <- function(\n",
        "    data, division, agrupa= \"\",\n",
        "    campo= \"fold\", start= 1, seed= NA) {\n",
        "\n",
        "  if (!is.na(seed)) set.seed(seed)\n",
        "\n",
        "  bloque <- unlist(mapply(function(x, y) {\n",
        "    rep(y, x)\n",
        "  }, division, seq(from= start, length.out= length(division))))\n",
        "\n",
        "  data[, (campo) := sample(rep(bloque, ceiling(.N / length(bloque))))[1:.N],\n",
        "    by= agrupa\n",
        "  ]\n",
        "}\n"
      ],
      "metadata": {
        "id": "NnPKiCHuCwVo"
      },
      "execution_count": null,
      "outputs": []
    },
    {
      "cell_type": "code",
      "source": [
        "# es un paso del Cross Validation\n",
        "# utiliza el fold  fold_test para testear y el resto para entrenar\n",
        "\n",
        "ranger_Simple <- function(fold_test, pdata, param) {\n",
        "  # genero el modelo\n",
        "\n",
        "  set.seed(PARAM$semillas[2])\n",
        "\n",
        "  modelo <- ranger(\n",
        "    formula= \"clase_binaria ~ .\",\n",
        "    data= pdata[fold != fold_test],\n",
        "    probability= TRUE, # para que devuelva las probabilidades\n",
        "    num.trees= param$num.trees,\n",
        "    mtry= param$mtry,\n",
        "    min.node.size= param$min.node.size,\n",
        "    max.depth= param$max.depth\n",
        "  )\n",
        "\n",
        "  prediccion <- predict(modelo, pdata[fold == fold_test])\n",
        "\n",
        "  ganancia_testing <- pdata[\n",
        "    fold == fold_test,\n",
        "    sum((prediccion$predictions[, \"POS\"] > 1 / 40) *\n",
        "      ifelse(clase_binaria == \"POS\",\n",
        "        PARAM$hyperparametertuning$POS_ganancia,\n",
        "        PARAM$hyperparametertuning$NEG_ganancia\n",
        "      ))\n",
        "  ]\n",
        "\n",
        "  return(ganancia_testing)\n",
        "}\n"
      ],
      "metadata": {
        "id": "kZSD7pUUCy58"
      },
      "execution_count": null,
      "outputs": []
    },
    {
      "cell_type": "code",
      "source": [
        "# realiza Cross Validation, promediando las ganancias de los folds de testing\n",
        "\n",
        "ranger_CrossValidation <- function(\n",
        "    data, param,\n",
        "    pcampos_buenos, qfolds, pagrupa, semilla) {\n",
        "\n",
        "  divi <- rep(1, qfolds)\n",
        "  particionar(data, divi, seed= semilla, agrupa= pagrupa)\n",
        "\n",
        "  ganancias <- mcmapply(ranger_Simple,\n",
        "    seq(qfolds), # 1 2 3 4 5\n",
        "    MoreArgs= list(data, param),\n",
        "    SIMPLIFY= FALSE,\n",
        "    mc.cores= 1\n",
        "  ) # dejar esto en  1, porque ranger ya corre en paralelo\n",
        "\n",
        "  data[, fold := NULL] # elimino el campo fold\n",
        "\n",
        "  # devuelvo la ganancia promedio normalizada\n",
        "  ganancia_promedio <- mean(unlist(ganancias))\n",
        "  ganancia_promedio_normalizada <- ganancia_promedio * qfolds\n",
        "\n",
        "  return(ganancia_promedio_normalizada)\n",
        "}"
      ],
      "metadata": {
        "id": "ca7cVnUJC2Yz"
      },
      "execution_count": null,
      "outputs": []
    },
    {
      "cell_type": "code",
      "source": [
        "# esta funcion solo puede recibir los parametros que se estan optimizando\n",
        "# el resto de los parametros se pasan como variables globales\n",
        "\n",
        "EstimarGanancia_ranger <- function(x) {\n",
        "  GLOBAL_iteracion <<- GLOBAL_iteracion + 1\n",
        "\n",
        "  xval_folds <- PARAM$hyperparametertuning$xval_folds\n",
        "\n",
        "  ganancia <- ranger_CrossValidation(dataset,\n",
        "    param= x,\n",
        "    qfolds= xval_folds,\n",
        "    pagrupa= \"clase_binaria\",\n",
        "    semilla= PARAM$semillas[1]\n",
        "  )\n",
        "\n",
        "  # logueo\n",
        "  xx <- x\n",
        "  xx$xval_folds <- xval_folds\n",
        "  xx$ganancia <- ganancia\n",
        "  xx$iteracion <- GLOBAL_iteracion\n",
        "  loguear(xx, arch= klog)\n",
        "\n",
        "  # si es ganancia superadora la almaceno en mejor\n",
        "  if( ganancia > GLOBAL_mejor ) {\n",
        "    GLOBAL_mejor <<- ganancia\n",
        "    loguear(xx, arch= klog_mejor)\n",
        "  }\n",
        "\n",
        "\n",
        "  return(ganancia)\n",
        "}\n"
      ],
      "metadata": {
        "id": "ZXNGJGOiC5lT"
      },
      "execution_count": null,
      "outputs": []
    },
    {
      "cell_type": "markdown",
      "source": [
        "aqui se inicia el programa"
      ],
      "metadata": {
        "id": "P7Pw1KLeE3UH"
      }
    },
    {
      "cell_type": "code",
      "source": [
        "# carpeta de trabajo\n",
        "setwd(\"/content/buckets/b1/exp\")\n",
        "experimento_folder <- paste0(\"HT\", PARAM$experimento)\n",
        "dir.create(experimento_folder, showWarnings=FALSE)\n",
        "setwd( paste0(\"/content/buckets/b1/exp/\", experimento_folder ))"
      ],
      "metadata": {
        "id": "w1lb19whCJQ3"
      },
      "execution_count": null,
      "outputs": []
    },
    {
      "cell_type": "code",
      "source": [
        "# genero numeros primos\n",
        "primos <- generate_primes(min= 100000, max= 1000000)\n",
        "set.seed(PARAM$semilla_primigenia) # inicializo\n",
        "# me quedo con PARAM$qsemillas   semillas\n",
        "PARAM$semillas <- sample(primos, 2 )\n"
      ],
      "metadata": {
        "id": "fbLF3Vr0DAeJ"
      },
      "execution_count": null,
      "outputs": []
    },
    {
      "cell_type": "code",
      "source": [
        "# lectura del dataset\n",
        "dataset <- fread(\"/content/datasets/competencia_01.csv.gz\")"
      ],
      "metadata": {
        "id": "xcOJpoFvCJQ3"
      },
      "execution_count": null,
      "outputs": []
    },
    {
      "cell_type": "code",
      "source": [
        "# solo trabajo con  training\n",
        "dataset <- dataset[foto_mes %in% PARAM$train ]"
      ],
      "metadata": {
        "id": "JorOk_A8EhSy"
      },
      "execution_count": null,
      "outputs": []
    },
    {
      "cell_type": "code",
      "source": [
        "#  estas dos lineas estan relacionadas con el Data Drifting\n",
        "# asigno un valor muy negativo\n",
        "\n",
        "if( \"Master_Finiciomora\" %in% colnames(dataset) )\n",
        "  dataset[ is.na(Master_Finiciomora) , Master_Finiciomora := -999 ]\n",
        "\n",
        "if( \"Visa_Finiciomora\" %in% colnames(dataset) )\n",
        "  dataset[ is.na(Visa_Finiciomora) , Visa_Finiciomora :=  -999 ]\n"
      ],
      "metadata": {
        "id": "lVbXD_l7CJQ4"
      },
      "execution_count": null,
      "outputs": []
    },
    {
      "cell_type": "code",
      "source": [
        "set.seed(PARAM$semilla_primigenia,\"L'Ecuyer-CMRG\" ) # Establezco la semilla aleatoria"
      ],
      "metadata": {
        "id": "a82SxgKnCJQ5"
      },
      "execution_count": null,
      "outputs": []
    },
    {
      "cell_type": "code",
      "source": [
        "# en estos archivos quedan los resultados\n",
        "kbayesiana <- paste0(\"HT\", PARAM$experimento, \".RDATA\")\n",
        "klog <- paste0(\"HT\", PARAM$experimento, \".txt\")\n",
        "klog_mejor <- paste0(\"HT\", PARAM$experimento, \"_mejor.txt\")\n",
        "\n",
        "GLOBAL_iteracion <- 0 # inicializo la variable global\n",
        "GLOBAL_mejor <- -Inf\n",
        "\n",
        "# si ya existe el archivo log, traigo hasta donde llegue\n",
        "if (file.exists(klog)) {\n",
        "  tabla_log <- fread(klog)\n",
        "  GLOBAL_iteracion <- nrow(tabla_log)\n",
        "}\n"
      ],
      "metadata": {
        "id": "CsRYGGeN-1ID"
      },
      "execution_count": null,
      "outputs": []
    },
    {
      "cell_type": "code",
      "source": [
        "# paso a trabajar con clase binaria POS={BAJA+2}   NEG={BAJA+1, CONTINUA}\n",
        "dataset[, clase_binaria :=\n",
        "  as.factor(ifelse(clase_ternaria == \"BAJA+2\", \"POS\", \"NEG\"))]\n",
        "\n",
        "dataset[, clase_ternaria := NULL] # elimino la clase_ternaria, ya no la necesito\n"
      ],
      "metadata": {
        "id": "7G7O-ak-DPPV"
      },
      "execution_count": null,
      "outputs": []
    },
    {
      "cell_type": "code",
      "source": [
        "# Ranger NO acepta valores nulos\n",
        "# Leo Breiman, ¿por que le temias a los nulos?\n",
        "# imputo los nulos, ya que ranger no acepta nulos\n",
        "\n",
        "dataset <- na.roughfix(dataset)"
      ],
      "metadata": {
        "id": "tJCnOoiuDV1_"
      },
      "execution_count": null,
      "outputs": []
    },
    {
      "cell_type": "code",
      "source": [
        "# Aqui comienza la configuracion de la Bayesian Optimization\n",
        "\n",
        "configureMlr(show.learner.output = FALSE)\n",
        "\n",
        "funcion_optimizar <- EstimarGanancia_ranger\n",
        "\n",
        "# configuro la busqueda bayesiana,  los hiperparametros que se van a optimizar\n",
        "# por favor, no desesperarse por lo complejo\n",
        "obj.fun <- makeSingleObjectiveFunction(\n",
        "  fn= funcion_optimizar,\n",
        "  minimize= FALSE, # estoy Maximizando la ganancia\n",
        "  noisy= TRUE,\n",
        "  par.set= PARAM$hyperparametertuning$hs,\n",
        "  has.simple.signature= FALSE\n",
        ")\n",
        "\n",
        "ctrl <- makeMBOControl(save.on.disk.at.time= 600, save.file.path= kbayesiana)\n",
        "\n",
        "ctrl <- setMBOControlTermination(\n",
        "  ctrl,\n",
        "  iters= PARAM$hyperparametertuning$iteraciones\n",
        ")\n",
        "\n",
        "ctrl <- setMBOControlInfill(ctrl, crit= makeMBOInfillCritEI())\n",
        "\n",
        "surr.km <- makeLearner(\n",
        "  \"regr.km\",\n",
        "  predict.type= \"se\",\n",
        "  covtype= \"matern3_2\",\n",
        "  control= list(trace= TRUE)\n",
        ")\n"
      ],
      "metadata": {
        "id": "2SOVysbADy9F"
      },
      "execution_count": null,
      "outputs": []
    },
    {
      "cell_type": "code",
      "source": [
        "# inicio la optimizacion bayesiana\n",
        "\n",
        "if (!file.exists(kbayesiana)) {\n",
        "  run <- mbo(obj.fun, learner= surr.km, control= ctrl)\n",
        "} else {\n",
        "  run <- mboContinue(kbayesiana)\n",
        "} # retomo en caso que ya exista"
      ],
      "metadata": {
        "id": "TissqCCHD1uZ",
        "colab": {
          "base_uri": "https://localhost:8080/"
        },
        "outputId": "2f3acc69-e88b-4d74-a731-e26ed4f20432"
      },
      "execution_count": null,
      "outputs": [
        {
          "output_type": "stream",
          "name": "stderr",
          "text": [
            "Computing y column(s) for design. Not provided.\n",
            "\n"
          ]
        },
        {
          "output_type": "stream",
          "name": "stdout",
          "text": [
            "Growing trees.. Progress: 16%. Estimated remaining time: 2 minutes, 42 seconds.\n",
            "Growing trees.. Progress: 33%. Estimated remaining time: 2 minutes, 8 seconds.\n",
            "Growing trees.. Progress: 49%. Estimated remaining time: 1 minute, 38 seconds.\n",
            "Growing trees.. Progress: 66%. Estimated remaining time: 1 minute, 5 seconds.\n",
            "Growing trees.. Progress: 82%. Estimated remaining time: 35 seconds.\n",
            "Growing trees.. Progress: 98%. Estimated remaining time: 4 seconds.\n",
            "Growing trees.. Progress: 16%. Estimated remaining time: 2 minutes, 39 seconds.\n",
            "Growing trees.. Progress: 32%. Estimated remaining time: 2 minutes, 9 seconds.\n",
            "Growing trees.. Progress: 49%. Estimated remaining time: 1 minute, 37 seconds.\n",
            "Growing trees.. Progress: 66%. Estimated remaining time: 1 minute, 5 seconds.\n",
            "Growing trees.. Progress: 82%. Estimated remaining time: 33 seconds.\n",
            "Growing trees.. Progress: 99%. Estimated remaining time: 1 seconds.\n",
            "Growing trees.. Progress: 16%. Estimated remaining time: 2 minutes, 42 seconds.\n",
            "Growing trees.. Progress: 33%. Estimated remaining time: 2 minutes, 8 seconds.\n",
            "Growing trees.. Progress: 49%. Estimated remaining time: 1 minute, 38 seconds.\n",
            "Growing trees.. Progress: 65%. Estimated remaining time: 1 minute, 8 seconds.\n",
            "Growing trees.. Progress: 81%. Estimated remaining time: 36 seconds.\n",
            "Growing trees.. Progress: 98%. Estimated remaining time: 4 seconds.\n",
            "Growing trees.. Progress: 14%. Estimated remaining time: 3 minutes, 12 seconds.\n",
            "Growing trees.. Progress: 29%. Estimated remaining time: 2 minutes, 30 seconds.\n",
            "Growing trees.. Progress: 45%. Estimated remaining time: 1 minute, 56 seconds.\n",
            "Growing trees.. Progress: 60%. Estimated remaining time: 1 minute, 24 seconds.\n",
            "Growing trees.. Progress: 75%. Estimated remaining time: 51 seconds.\n",
            "Growing trees.. Progress: 91%. Estimated remaining time: 18 seconds.\n",
            "Growing trees.. Progress: 15%. Estimated remaining time: 2 minutes, 58 seconds.\n",
            "Growing trees.. Progress: 30%. Estimated remaining time: 2 minutes, 21 seconds.\n",
            "Growing trees.. Progress: 46%. Estimated remaining time: 1 minute, 48 seconds.\n",
            "Growing trees.. Progress: 62%. Estimated remaining time: 1 minute, 15 seconds.\n",
            "Growing trees.. Progress: 78%. Estimated remaining time: 42 seconds.\n",
            "Growing trees.. Progress: 94%. Estimated remaining time: 12 seconds.\n",
            "20250901 215518\t325\t6\t514\t35\t5\t222740000\t1\n",
            "20250901 215518\t325\t6\t514\t35\t5\t222740000\t1\n",
            "Growing trees.. Progress: 8%. Estimated remaining time: 5 minutes, 34 seconds.\n",
            "Growing trees.. Progress: 17%. Estimated remaining time: 4 minutes, 55 seconds.\n",
            "Growing trees.. Progress: 27%. Estimated remaining time: 4 minutes, 15 seconds.\n",
            "Growing trees.. Progress: 36%. Estimated remaining time: 3 minutes, 46 seconds.\n",
            "Growing trees.. Progress: 45%. Estimated remaining time: 3 minutes, 14 seconds.\n",
            "Growing trees.. Progress: 54%. Estimated remaining time: 2 minutes, 41 seconds.\n",
            "Growing trees.. Progress: 63%. Estimated remaining time: 2 minutes, 8 seconds.\n",
            "Growing trees.. Progress: 72%. Estimated remaining time: 1 minute, 37 seconds.\n",
            "Growing trees.. Progress: 81%. Estimated remaining time: 1 minute, 5 seconds.\n",
            "Growing trees.. Progress: 90%. Estimated remaining time: 35 seconds.\n",
            "Growing trees.. Progress: 99%. Estimated remaining time: 5 seconds.\n",
            "Growing trees.. Progress: 8%. Estimated remaining time: 5 minutes, 34 seconds.\n",
            "Growing trees.. Progress: 17%. Estimated remaining time: 5 minutes, 3 seconds.\n",
            "Growing trees.. Progress: 26%. Estimated remaining time: 4 minutes, 30 seconds.\n",
            "Growing trees.. Progress: 35%. Estimated remaining time: 3 minutes, 55 seconds.\n",
            "Growing trees.. Progress: 43%. Estimated remaining time: 3 minutes, 24 seconds.\n",
            "Growing trees.. Progress: 52%. Estimated remaining time: 2 minutes, 53 seconds.\n",
            "Growing trees.. Progress: 61%. Estimated remaining time: 2 minutes, 22 seconds.\n",
            "Growing trees.. Progress: 69%. Estimated remaining time: 1 minute, 53 seconds.\n",
            "Growing trees.. Progress: 77%. Estimated remaining time: 1 minute, 22 seconds.\n",
            "Growing trees.. Progress: 86%. Estimated remaining time: 51 seconds.\n",
            "Growing trees.. Progress: 95%. Estimated remaining time: 19 seconds.\n",
            "Growing trees.. Progress: 9%. Estimated remaining time: 5 minutes, 12 seconds.\n",
            "Growing trees.. Progress: 18%. Estimated remaining time: 4 minutes, 44 seconds.\n",
            "Growing trees.. Progress: 28%. Estimated remaining time: 4 minutes, 5 seconds.\n",
            "Growing trees.. Progress: 37%. Estimated remaining time: 3 minutes, 34 seconds.\n",
            "Growing trees.. Progress: 46%. Estimated remaining time: 3 minutes, 1 seconds.\n",
            "Growing trees.. Progress: 56%. Estimated remaining time: 2 minutes, 28 seconds.\n",
            "Growing trees.. Progress: 65%. Estimated remaining time: 1 minute, 56 seconds.\n",
            "Growing trees.. Progress: 75%. Estimated remaining time: 1 minute, 24 seconds.\n",
            "Growing trees.. Progress: 84%. Estimated remaining time: 53 seconds.\n",
            "Growing trees.. Progress: 93%. Estimated remaining time: 22 seconds.\n",
            "Growing trees.. Progress: 8%. Estimated remaining time: 6 minutes, 3 seconds.\n",
            "Growing trees.. Progress: 17%. Estimated remaining time: 5 minutes, 13 seconds.\n",
            "Growing trees.. Progress: 25%. Estimated remaining time: 4 minutes, 39 seconds.\n",
            "Growing trees.. Progress: 34%. Estimated remaining time: 4 minutes, 1 seconds.\n",
            "Growing trees.. Progress: 42%. Estimated remaining time: 3 minutes, 30 seconds.\n",
            "Growing trees.. Progress: 51%. Estimated remaining time: 3 minutes, 0 seconds.\n",
            "Growing trees.. Progress: 60%. Estimated remaining time: 2 minutes, 28 seconds.\n",
            "Growing trees.. Progress: 68%. Estimated remaining time: 1 minute, 55 seconds.\n",
            "Growing trees.. Progress: 77%. Estimated remaining time: 1 minute, 23 seconds.\n",
            "Growing trees.. Progress: 86%. Estimated remaining time: 51 seconds.\n",
            "Growing trees.. Progress: 95%. Estimated remaining time: 18 seconds.\n",
            "Growing trees.. Progress: 9%. Estimated remaining time: 5 minutes, 28 seconds.\n",
            "Growing trees.. Progress: 18%. Estimated remaining time: 4 minutes, 51 seconds.\n",
            "Growing trees.. Progress: 27%. Estimated remaining time: 4 minutes, 15 seconds.\n",
            "Growing trees.. Progress: 36%. Estimated remaining time: 3 minutes, 44 seconds.\n",
            "Growing trees.. Progress: 45%. Estimated remaining time: 3 minutes, 9 seconds.\n",
            "Growing trees.. Progress: 55%. Estimated remaining time: 2 minutes, 36 seconds.\n",
            "Growing trees.. Progress: 64%. Estimated remaining time: 2 minutes, 5 seconds.\n",
            "Growing trees.. Progress: 73%. Estimated remaining time: 1 minute, 33 seconds.\n",
            "Growing trees.. Progress: 82%. Estimated remaining time: 1 minute, 3 seconds.\n",
            "Growing trees.. Progress: 90%. Estimated remaining time: 33 seconds.\n",
            "Growing trees.. Progress: 100%. Estimated remaining time: 1 seconds.\n",
            "20250901 222643\t484\t24\t463\t14\t5\t243680000\t2\n",
            "20250901 222643\t484\t24\t463\t14\t5\t243680000\t2\n",
            "Growing trees.. Progress: 8%. Estimated remaining time: 6 minutes, 1 seconds.\n",
            "Growing trees.. Progress: 16%. Estimated remaining time: 5 minutes, 30 seconds.\n",
            "Growing trees.. Progress: 24%. Estimated remaining time: 5 minutes, 1 seconds.\n",
            "Growing trees.. Progress: 32%. Estimated remaining time: 4 minutes, 33 seconds.\n",
            "Growing trees.. Progress: 40%. Estimated remaining time: 4 minutes, 0 seconds.\n",
            "Growing trees.. Progress: 48%. Estimated remaining time: 3 minutes, 29 seconds.\n",
            "Growing trees.. Progress: 56%. Estimated remaining time: 2 minutes, 57 seconds.\n",
            "Growing trees.. Progress: 64%. Estimated remaining time: 2 minutes, 25 seconds.\n",
            "Growing trees.. Progress: 71%. Estimated remaining time: 1 minute, 54 seconds.\n",
            "Growing trees.. Progress: 79%. Estimated remaining time: 1 minute, 23 seconds.\n",
            "Growing trees.. Progress: 87%. Estimated remaining time: 51 seconds.\n",
            "Growing trees.. Progress: 96%. Estimated remaining time: 17 seconds.\n",
            "Growing trees.. Progress: 8%. Estimated remaining time: 6 minutes, 3 seconds.\n",
            "Growing trees.. Progress: 16%. Estimated remaining time: 5 minutes, 40 seconds.\n",
            "Growing trees.. Progress: 24%. Estimated remaining time: 5 minutes, 5 seconds.\n",
            "Growing trees.. Progress: 32%. Estimated remaining time: 4 minutes, 31 seconds.\n",
            "Growing trees.. Progress: 40%. Estimated remaining time: 4 minutes, 0 seconds.\n",
            "Growing trees.. Progress: 47%. Estimated remaining time: 3 minutes, 37 seconds.\n",
            "Growing trees.. Progress: 55%. Estimated remaining time: 3 minutes, 1 seconds.\n",
            "Growing trees.. Progress: 63%. Estimated remaining time: 2 minutes, 29 seconds.\n",
            "Growing trees.. Progress: 71%. Estimated remaining time: 1 minute, 57 seconds.\n",
            "Growing trees.. Progress: 79%. Estimated remaining time: 1 minute, 23 seconds.\n",
            "Growing trees.. Progress: 88%. Estimated remaining time: 49 seconds.\n",
            "Growing trees.. Progress: 96%. Estimated remaining time: 15 seconds.\n",
            "Growing trees.. Progress: 7%. Estimated remaining time: 7 minutes, 20 seconds.\n",
            "Growing trees.. Progress: 14%. Estimated remaining time: 6 minutes, 19 seconds.\n",
            "Growing trees.. Progress: 21%. Estimated remaining time: 5 minutes, 47 seconds.\n",
            "Growing trees.. Progress: 29%. Estimated remaining time: 5 minutes, 7 seconds.\n",
            "Growing trees.. Progress: 37%. Estimated remaining time: 4 minutes, 29 seconds.\n",
            "Growing trees.. Progress: 45%. Estimated remaining time: 3 minutes, 53 seconds.\n",
            "Growing trees.. Progress: 53%. Estimated remaining time: 3 minutes, 17 seconds.\n",
            "Growing trees.. Progress: 61%. Estimated remaining time: 2 minutes, 43 seconds.\n",
            "Growing trees.. Progress: 69%. Estimated remaining time: 2 minutes, 10 seconds.\n",
            "Growing trees.. Progress: 77%. Estimated remaining time: 1 minute, 37 seconds.\n",
            "Growing trees.. Progress: 85%. Estimated remaining time: 1 minute, 4 seconds.\n",
            "Growing trees.. Progress: 93%. Estimated remaining time: 29 seconds.\n",
            "Growing trees.. Progress: 8%. Estimated remaining time: 6 minutes, 13 seconds.\n",
            "Growing trees.. Progress: 16%. Estimated remaining time: 5 minutes, 41 seconds.\n",
            "Growing trees.. Progress: 23%. Estimated remaining time: 5 minutes, 13 seconds.\n",
            "Growing trees.. Progress: 31%. Estimated remaining time: 4 minutes, 40 seconds.\n",
            "Growing trees.. Progress: 39%. Estimated remaining time: 4 minutes, 6 seconds.\n",
            "Growing trees.. Progress: 46%. Estimated remaining time: 3 minutes, 37 seconds.\n",
            "Growing trees.. Progress: 54%. Estimated remaining time: 3 minutes, 4 seconds.\n",
            "Growing trees.. Progress: 62%. Estimated remaining time: 2 minutes, 32 seconds.\n",
            "Growing trees.. Progress: 70%. Estimated remaining time: 2 minutes, 1 seconds.\n",
            "Growing trees.. Progress: 78%. Estimated remaining time: 1 minute, 29 seconds.\n",
            "Growing trees.. Progress: 86%. Estimated remaining time: 56 seconds.\n",
            "Growing trees.. Progress: 94%. Estimated remaining time: 23 seconds.\n",
            "Growing trees.. Progress: 8%. Estimated remaining time: 6 minutes, 13 seconds.\n",
            "Growing trees.. Progress: 16%. Estimated remaining time: 5 minutes, 41 seconds.\n",
            "Growing trees.. Progress: 24%. Estimated remaining time: 5 minutes, 6 seconds.\n",
            "Growing trees.. Progress: 32%. Estimated remaining time: 4 minutes, 29 seconds.\n",
            "Growing trees.. Progress: 40%. Estimated remaining time: 3 minutes, 57 seconds.\n",
            "Growing trees.. Progress: 48%. Estimated remaining time: 3 minutes, 25 seconds.\n",
            "Growing trees.. Progress: 57%. Estimated remaining time: 2 minutes, 51 seconds.\n",
            "Growing trees.. Progress: 64%. Estimated remaining time: 2 minutes, 20 seconds.\n",
            "Growing trees.. Progress: 73%. Estimated remaining time: 1 minute, 47 seconds.\n",
            "Growing trees.. Progress: 81%. Estimated remaining time: 1 minute, 14 seconds.\n",
            "Growing trees.. Progress: 89%. Estimated remaining time: 43 seconds.\n",
            "Growing trees.. Progress: 96%. Estimated remaining time: 13 seconds.\n",
            "20250901 230107\t228\t12\t360\t47\t5\t233920000\t3\n",
            "Growing trees.. Progress: 24%. Estimated remaining time: 1 minute, 38 seconds.\n",
            "Growing trees.. Progress: 49%. Estimated remaining time: 1 minute, 6 seconds.\n",
            "Growing trees.. Progress: 73%. Estimated remaining time: 34 seconds.\n",
            "Growing trees.. Progress: 98%. Estimated remaining time: 2 seconds.\n",
            "Growing trees.. Progress: 25%. Estimated remaining time: 1 minute, 37 seconds.\n",
            "Growing trees.. Progress: 49%. Estimated remaining time: 1 minute, 4 seconds.\n",
            "Growing trees.. Progress: 75%. Estimated remaining time: 32 seconds.\n",
            "Growing trees.. Progress: 24%. Estimated remaining time: 1 minute, 38 seconds.\n",
            "Growing trees.. Progress: 48%. Estimated remaining time: 1 minute, 8 seconds.\n",
            "Growing trees.. Progress: 73%. Estimated remaining time: 34 seconds.\n",
            "Growing trees.. Progress: 99%. Estimated remaining time: 1 seconds.\n",
            "Growing trees.. Progress: 26%. Estimated remaining time: 1 minute, 30 seconds.\n",
            "Growing trees.. Progress: 52%. Estimated remaining time: 58 seconds.\n",
            "Growing trees.. Progress: 78%. Estimated remaining time: 27 seconds.\n",
            "Growing trees.. Progress: 23%. Estimated remaining time: 1 minute, 42 seconds.\n",
            "Growing trees.. Progress: 49%. Estimated remaining time: 1 minute, 6 seconds.\n",
            "Growing trees.. Progress: 72%. Estimated remaining time: 35 seconds.\n",
            "Growing trees.. Progress: 97%. Estimated remaining time: 3 seconds.\n",
            "20250901 231217\t134\t9\t733\t34\t5\t232780000\t4\n",
            "Growing trees.. Progress: 8%. Estimated remaining time: 5 minutes, 38 seconds.\n",
            "Growing trees.. Progress: 17%. Estimated remaining time: 5 minutes, 7 seconds.\n",
            "Growing trees.. Progress: 25%. Estimated remaining time: 4 minutes, 37 seconds.\n",
            "Growing trees.. Progress: 34%. Estimated remaining time: 4 minutes, 9 seconds.\n",
            "Growing trees.. Progress: 42%. Estimated remaining time: 3 minutes, 37 seconds.\n",
            "Growing trees.. Progress: 51%. Estimated remaining time: 3 minutes, 7 seconds.\n",
            "Growing trees.. Progress: 59%. Estimated remaining time: 2 minutes, 34 seconds.\n",
            "Growing trees.. Progress: 67%. Estimated remaining time: 2 minutes, 4 seconds.\n",
            "Growing trees.. Progress: 76%. Estimated remaining time: 1 minute, 32 seconds.\n",
            "Growing trees.. Progress: 84%. Estimated remaining time: 1 minute, 0 seconds.\n",
            "Growing trees.. Progress: 93%. Estimated remaining time: 26 seconds.\n",
            "Growing trees.. Progress: 8%. Estimated remaining time: 5 minutes, 49 seconds.\n",
            "Growing trees.. Progress: 17%. Estimated remaining time: 5 minutes, 12 seconds.\n",
            "Growing trees.. Progress: 25%. Estimated remaining time: 4 minutes, 42 seconds.\n",
            "Growing trees.. Progress: 34%. Estimated remaining time: 4 minutes, 11 seconds.\n",
            "Growing trees.. Progress: 42%. Estimated remaining time: 3 minutes, 38 seconds.\n",
            "Growing trees.. Progress: 51%. Estimated remaining time: 3 minutes, 5 seconds.\n",
            "Growing trees.. Progress: 59%. Estimated remaining time: 2 minutes, 34 seconds.\n",
            "Growing trees.. Progress: 68%. Estimated remaining time: 2 minutes, 0 seconds.\n",
            "Growing trees.. Progress: 76%. Estimated remaining time: 1 minute, 31 seconds.\n",
            "Growing trees.. Progress: 85%. Estimated remaining time: 58 seconds.\n",
            "Growing trees.. Progress: 93%. Estimated remaining time: 25 seconds.\n",
            "Growing trees.. Progress: 9%. Estimated remaining time: 5 minutes, 24 seconds.\n",
            "Growing trees.. Progress: 17%. Estimated remaining time: 4 minutes, 53 seconds.\n",
            "Growing trees.. Progress: 26%. Estimated remaining time: 4 minutes, 25 seconds.\n",
            "Growing trees.. Progress: 35%. Estimated remaining time: 3 minutes, 57 seconds.\n",
            "Growing trees.. Progress: 43%. Estimated remaining time: 3 minutes, 28 seconds.\n",
            "Growing trees.. Progress: 51%. Estimated remaining time: 2 minutes, 59 seconds.\n",
            "Growing trees.. Progress: 60%. Estimated remaining time: 2 minutes, 29 seconds.\n",
            "Growing trees.. Progress: 69%. Estimated remaining time: 1 minute, 55 seconds.\n",
            "Growing trees.. Progress: 77%. Estimated remaining time: 1 minute, 24 seconds.\n",
            "Growing trees.. Progress: 85%. Estimated remaining time: 53 seconds.\n",
            "Growing trees.. Progress: 94%. Estimated remaining time: 21 seconds.\n",
            "Growing trees.. Progress: 8%. Estimated remaining time: 6 minutes, 4 seconds.\n",
            "Growing trees.. Progress: 16%. Estimated remaining time: 5 minutes, 27 seconds.\n",
            "Growing trees.. Progress: 24%. Estimated remaining time: 4 minutes, 54 seconds.\n",
            "Growing trees.. Progress: 32%. Estimated remaining time: 4 minutes, 26 seconds.\n",
            "Growing trees.. Progress: 40%. Estimated remaining time: 3 minutes, 53 seconds.\n",
            "Growing trees.. Progress: 49%. Estimated remaining time: 3 minutes, 20 seconds.\n",
            "Growing trees.. Progress: 57%. Estimated remaining time: 2 minutes, 46 seconds.\n",
            "Growing trees.. Progress: 65%. Estimated remaining time: 2 minutes, 16 seconds.\n",
            "Growing trees.. Progress: 74%. Estimated remaining time: 1 minute, 41 seconds.\n",
            "Growing trees.. Progress: 82%. Estimated remaining time: 1 minute, 8 seconds.\n",
            "Growing trees.. Progress: 91%. Estimated remaining time: 35 seconds.\n",
            "Growing trees.. Progress: 99%. Estimated remaining time: 2 seconds.\n",
            "Growing trees.. Progress: 9%. Estimated remaining time: 5 minutes, 35 seconds.\n",
            "Growing trees.. Progress: 18%. Estimated remaining time: 4 minutes, 52 seconds.\n",
            "Growing trees.. Progress: 26%. Estimated remaining time: 4 minutes, 21 seconds.\n",
            "Growing trees.. Progress: 35%. Estimated remaining time: 3 minutes, 52 seconds.\n",
            "Growing trees.. Progress: 44%. Estimated remaining time: 3 minutes, 22 seconds.\n",
            "Growing trees.. Progress: 53%. Estimated remaining time: 2 minutes, 46 seconds.\n",
            "Growing trees.. Progress: 62%. Estimated remaining time: 2 minutes, 13 seconds.\n",
            "Growing trees.. Progress: 71%. Estimated remaining time: 1 minute, 41 seconds.\n",
            "Growing trees.. Progress: 80%. Estimated remaining time: 1 minute, 9 seconds.\n",
            "Growing trees.. Progress: 89%. Estimated remaining time: 37 seconds.\n",
            "Growing trees.. Progress: 98%. Estimated remaining time: 6 seconds.\n",
            "20250901 234434\t310\t25\t604\t23\t5\t231300000\t5\n",
            "Growing trees.. Progress: 9%. Estimated remaining time: 5 minutes, 8 seconds.\n",
            "Growing trees.. Progress: 18%. Estimated remaining time: 4 minutes, 38 seconds.\n",
            "Growing trees.. Progress: 28%. Estimated remaining time: 4 minutes, 5 seconds.\n",
            "Growing trees.. Progress: 37%. Estimated remaining time: 3 minutes, 31 seconds.\n",
            "Growing trees.. Progress: 47%. Estimated remaining time: 2 minutes, 57 seconds.\n",
            "Growing trees.. Progress: 56%. Estimated remaining time: 2 minutes, 26 seconds.\n",
            "Growing trees.. Progress: 66%. Estimated remaining time: 1 minute, 53 seconds.\n",
            "Growing trees.. Progress: 76%. Estimated remaining time: 1 minute, 21 seconds.\n",
            "Growing trees.. Progress: 85%. Estimated remaining time: 50 seconds.\n",
            "Growing trees.. Progress: 95%. Estimated remaining time: 17 seconds.\n",
            "Growing trees.. Progress: 9%. Estimated remaining time: 5 minutes, 45 seconds.\n",
            "Growing trees.. Progress: 17%. Estimated remaining time: 5 minutes, 10 seconds.\n",
            "Growing trees.. Progress: 26%. Estimated remaining time: 4 minutes, 34 seconds.\n",
            "Growing trees.. Progress: 35%. Estimated remaining time: 3 minutes, 59 seconds.\n",
            "Growing trees.. Progress: 44%. Estimated remaining time: 3 minutes, 24 seconds.\n",
            "Growing trees.. Progress: 53%. Estimated remaining time: 2 minutes, 49 seconds.\n",
            "Growing trees.. Progress: 62%. Estimated remaining time: 2 minutes, 17 seconds.\n",
            "Growing trees.. Progress: 71%. Estimated remaining time: 1 minute, 45 seconds.\n",
            "Growing trees.. Progress: 80%. Estimated remaining time: 1 minute, 12 seconds.\n",
            "Growing trees.. Progress: 89%. Estimated remaining time: 39 seconds.\n",
            "Growing trees.. Progress: 98%. Estimated remaining time: 7 seconds.\n",
            "Growing trees.. Progress: 9%. Estimated remaining time: 4 minutes, 58 seconds.\n",
            "Growing trees.. Progress: 19%. Estimated remaining time: 4 minutes, 25 seconds.\n",
            "Growing trees.. Progress: 29%. Estimated remaining time: 3 minutes, 53 seconds.\n",
            "Growing trees.. Progress: 38%. Estimated remaining time: 3 minutes, 27 seconds.\n",
            "Growing trees.. Progress: 47%. Estimated remaining time: 2 minutes, 56 seconds.\n",
            "Growing trees.. Progress: 57%. Estimated remaining time: 2 minutes, 24 seconds.\n",
            "Growing trees.. Progress: 66%. Estimated remaining time: 1 minute, 56 seconds.\n",
            "Growing trees.. Progress: 75%. Estimated remaining time: 1 minute, 26 seconds.\n",
            "Growing trees.. Progress: 84%. Estimated remaining time: 54 seconds.\n",
            "Growing trees.. Progress: 93%. Estimated remaining time: 22 seconds.\n",
            "Growing trees.. Progress: 9%. Estimated remaining time: 5 minutes, 24 seconds.\n",
            "Growing trees.. Progress: 18%. Estimated remaining time: 4 minutes, 44 seconds.\n",
            "Growing trees.. Progress: 27%. Estimated remaining time: 4 minutes, 19 seconds.\n",
            "Growing trees.. Progress: 37%. Estimated remaining time: 3 minutes, 41 seconds.\n",
            "Growing trees.. Progress: 46%. Estimated remaining time: 3 minutes, 6 seconds.\n",
            "Growing trees.. Progress: 55%. Estimated remaining time: 2 minutes, 38 seconds.\n",
            "Growing trees.. Progress: 64%. Estimated remaining time: 2 minutes, 7 seconds.\n",
            "Growing trees.. Progress: 73%. Estimated remaining time: 1 minute, 35 seconds.\n",
            "Growing trees.. Progress: 82%. Estimated remaining time: 1 minute, 3 seconds.\n",
            "Growing trees.. Progress: 92%. Estimated remaining time: 29 seconds.\n",
            "Growing trees.. Progress: 9%. Estimated remaining time: 5 minutes, 8 seconds.\n",
            "Growing trees.. Progress: 19%. Estimated remaining time: 4 minutes, 36 seconds.\n",
            "Growing trees.. Progress: 29%. Estimated remaining time: 4 minutes, 2 seconds.\n",
            "Growing trees.. Progress: 38%. Estimated remaining time: 3 minutes, 30 seconds.\n",
            "Growing trees.. Progress: 47%. Estimated remaining time: 3 minutes, 0 seconds.\n",
            "Growing trees.. Progress: 56%. Estimated remaining time: 2 minutes, 29 seconds.\n",
            "Growing trees.. Progress: 65%. Estimated remaining time: 1 minute, 59 seconds.\n",
            "Growing trees.. Progress: 74%. Estimated remaining time: 1 minute, 28 seconds.\n",
            "Growing trees.. Progress: 84%. Estimated remaining time: 56 seconds.\n",
            "Growing trees.. Progress: 93%. Estimated remaining time: 25 seconds.\n",
            "20250902 001436\t287\t21\t105\t22\t5\t228120000\t6\n",
            "Growing trees.. Progress: 28%. Estimated remaining time: 1 minute, 17 seconds.\n",
            "Growing trees.. Progress: 58%. Estimated remaining time: 44 seconds.\n",
            "Growing trees.. Progress: 88%. Estimated remaining time: 12 seconds.\n",
            "Growing trees.. Progress: 28%. Estimated remaining time: 1 minute, 17 seconds.\n",
            "Growing trees.. Progress: 58%. Estimated remaining time: 44 seconds.\n",
            "Growing trees.. Progress: 89%. Estimated remaining time: 11 seconds.\n",
            "Growing trees.. Progress: 30%. Estimated remaining time: 1 minute, 13 seconds.\n",
            "Growing trees.. Progress: 59%. Estimated remaining time: 43 seconds.\n",
            "Growing trees.. Progress: 88%. Estimated remaining time: 12 seconds.\n",
            "Growing trees.. Progress: 30%. Estimated remaining time: 1 minute, 11 seconds.\n",
            "Growing trees.. Progress: 61%. Estimated remaining time: 38 seconds.\n",
            "Growing trees.. Progress: 92%. Estimated remaining time: 7 seconds.\n",
            "Growing trees.. Progress: 30%. Estimated remaining time: 1 minute, 13 seconds.\n",
            "Growing trees.. Progress: 60%. Estimated remaining time: 40 seconds.\n",
            "Growing trees.. Progress: 91%. Estimated remaining time: 9 seconds.\n",
            "20250902 002353\t179\t7\t211\t27\t5\t228740000\t7\n",
            "20250902 002513\t416\t1\t166\t7\t5\t-140000\t8\n",
            "Growing trees.. Progress: 35%. Estimated remaining time: 57 seconds.\n",
            "Growing trees.. Progress: 70%. Estimated remaining time: 27 seconds.\n",
            "Growing trees.. Progress: 30%. Estimated remaining time: 1 minute, 11 seconds.\n",
            "Growing trees.. Progress: 63%. Estimated remaining time: 37 seconds.\n",
            "Growing trees.. Progress: 95%. Estimated remaining time: 4 seconds.\n",
            "Growing trees.. Progress: 35%. Estimated remaining time: 1 minute, 3 seconds.\n",
            "Growing trees.. Progress: 72%. Estimated remaining time: 25 seconds.\n",
            "Growing trees.. Progress: 33%. Estimated remaining time: 1 minute, 4 seconds.\n",
            "Growing trees.. Progress: 67%. Estimated remaining time: 30 seconds.\n",
            "Growing trees.. Progress: 35%. Estimated remaining time: 57 seconds.\n",
            "Growing trees.. Progress: 72%. Estimated remaining time: 24 seconds.\n",
            "20250902 003320\t43\t22\t416\t39\t5\t204180000\t9\n",
            "Growing trees.. Progress: 9%. Estimated remaining time: 5 minutes, 14 seconds.\n",
            "Growing trees.. Progress: 18%. Estimated remaining time: 4 minutes, 47 seconds.\n",
            "Growing trees.. Progress: 27%. Estimated remaining time: 4 minutes, 14 seconds.\n",
            "Growing trees.. Progress: 36%. Estimated remaining time: 3 minutes, 44 seconds.\n",
            "Growing trees.. Progress: 45%. Estimated remaining time: 3 minutes, 11 seconds.\n",
            "Growing trees.. Progress: 55%. Estimated remaining time: 2 minutes, 37 seconds.\n",
            "Growing trees.. Progress: 64%. Estimated remaining time: 2 minutes, 4 seconds.\n",
            "Growing trees.. Progress: 73%. Estimated remaining time: 1 minute, 32 seconds.\n",
            "Growing trees.. Progress: 82%. Estimated remaining time: 1 minute, 1 seconds.\n",
            "Growing trees.. Progress: 92%. Estimated remaining time: 29 seconds.\n",
            "Growing trees.. Progress: 8%. Estimated remaining time: 5 minutes, 36 seconds.\n",
            "Growing trees.. Progress: 18%. Estimated remaining time: 4 minutes, 53 seconds.\n",
            "Growing trees.. Progress: 26%. Estimated remaining time: 4 minutes, 25 seconds.\n",
            "Growing trees.. Progress: 35%. Estimated remaining time: 3 minutes, 53 seconds.\n",
            "Growing trees.. Progress: 44%. Estimated remaining time: 3 minutes, 19 seconds.\n",
            "Growing trees.. Progress: 53%. Estimated remaining time: 2 minutes, 47 seconds.\n",
            "Growing trees.. Progress: 62%. Estimated remaining time: 2 minutes, 15 seconds.\n",
            "Growing trees.. Progress: 71%. Estimated remaining time: 1 minute, 43 seconds.\n",
            "Growing trees.. Progress: 79%. Estimated remaining time: 1 minute, 13 seconds.\n",
            "Growing trees.. Progress: 88%. Estimated remaining time: 41 seconds.\n",
            "Growing trees.. Progress: 97%. Estimated remaining time: 10 seconds.\n",
            "Growing trees.. Progress: 9%. Estimated remaining time: 5 minutes, 4 seconds.\n",
            "Growing trees.. Progress: 18%. Estimated remaining time: 4 minutes, 38 seconds.\n",
            "Growing trees.. Progress: 27%. Estimated remaining time: 4 minutes, 5 seconds.\n",
            "Growing trees.. Progress: 36%. Estimated remaining time: 3 minutes, 38 seconds.\n",
            "Growing trees.. Progress: 45%. Estimated remaining time: 3 minutes, 10 seconds.\n",
            "Growing trees.. Progress: 54%. Estimated remaining time: 2 minutes, 39 seconds.\n",
            "Growing trees.. Progress: 63%. Estimated remaining time: 2 minutes, 6 seconds.\n",
            "Growing trees.. Progress: 72%. Estimated remaining time: 1 minute, 36 seconds.\n",
            "Growing trees.. Progress: 81%. Estimated remaining time: 1 minute, 5 seconds.\n",
            "Growing trees.. Progress: 91%. Estimated remaining time: 32 seconds.\n",
            "Growing trees.. Progress: 100%. Estimated remaining time: 0 seconds.\n",
            "Growing trees.. Progress: 8%. Estimated remaining time: 5 minutes, 36 seconds.\n",
            "Growing trees.. Progress: 17%. Estimated remaining time: 4 minutes, 59 seconds.\n",
            "Growing trees.. Progress: 26%. Estimated remaining time: 4 minutes, 29 seconds.\n",
            "Growing trees.. Progress: 34%. Estimated remaining time: 3 minutes, 59 seconds.\n",
            "Growing trees.. Progress: 43%. Estimated remaining time: 3 minutes, 28 seconds.\n",
            "Growing trees.. Progress: 52%. Estimated remaining time: 2 minutes, 54 seconds.\n",
            "Growing trees.. Progress: 61%. Estimated remaining time: 2 minutes, 20 seconds.\n",
            "Growing trees.. Progress: 70%. Estimated remaining time: 1 minute, 49 seconds.\n",
            "Growing trees.. Progress: 79%. Estimated remaining time: 1 minute, 16 seconds.\n",
            "Growing trees.. Progress: 88%. Estimated remaining time: 43 seconds.\n",
            "Growing trees.. Progress: 97%. Estimated remaining time: 12 seconds.\n",
            "Growing trees.. Progress: 9%. Estimated remaining time: 5 minutes, 14 seconds.\n",
            "Growing trees.. Progress: 18%. Estimated remaining time: 4 minutes, 38 seconds.\n",
            "Growing trees.. Progress: 27%. Estimated remaining time: 4 minutes, 5 seconds.\n",
            "Growing trees.. Progress: 37%. Estimated remaining time: 3 minutes, 35 seconds.\n",
            "Growing trees.. Progress: 46%. Estimated remaining time: 3 minutes, 4 seconds.\n",
            "Growing trees.. Progress: 55%. Estimated remaining time: 2 minutes, 33 seconds.\n",
            "Growing trees.. Progress: 64%. Estimated remaining time: 2 minutes, 2 seconds.\n",
            "Growing trees.. Progress: 74%. Estimated remaining time: 1 minute, 30 seconds.\n",
            "Growing trees.. Progress: 83%. Estimated remaining time: 58 seconds.\n",
            "Growing trees.. Progress: 92%. Estimated remaining time: 26 seconds.\n",
            "20250902 010359\t379\t18\t875\t19\t5\t247160000\t10\n",
            "20250902 010359\t379\t18\t875\t19\t5\t247160000\t10\n",
            "20250902 010621\t59\t11\t771\t10\t5\t232600000\t11\n",
            "Growing trees.. Progress: 59%. Estimated remaining time: 21 seconds.\n",
            "Growing trees.. Progress: 57%. Estimated remaining time: 23 seconds.\n",
            "Growing trees.. Progress: 54%. Estimated remaining time: 27 seconds.\n",
            "Growing trees.. Progress: 45%. Estimated remaining time: 37 seconds.\n",
            "Growing trees.. Progress: 99%. Estimated remaining time: 0 seconds.\n",
            "Growing trees.. Progress: 55%. Estimated remaining time: 25 seconds.\n",
            "20250902 011142\t91\t27\t655\t11\t5\t238100000\t12\n",
            "Growing trees.. Progress: 4%. Estimated remaining time: 12 minutes, 4 seconds.\n",
            "Growing trees.. Progress: 8%. Estimated remaining time: 11 minutes, 44 seconds.\n",
            "Growing trees.. Progress: 13%. Estimated remaining time: 10 minutes, 56 seconds.\n",
            "Growing trees.. Progress: 17%. Estimated remaining time: 10 minutes, 21 seconds.\n",
            "Growing trees.. Progress: 21%. Estimated remaining time: 9 minutes, 48 seconds.\n",
            "Growing trees.. Progress: 25%. Estimated remaining time: 9 minutes, 12 seconds.\n",
            "Growing trees.. Progress: 30%. Estimated remaining time: 8 minutes, 39 seconds.\n",
            "Growing trees.. Progress: 35%. Estimated remaining time: 7 minutes, 58 seconds.\n",
            "Growing trees.. Progress: 40%. Estimated remaining time: 7 minutes, 20 seconds.\n",
            "Growing trees.. Progress: 44%. Estimated remaining time: 6 minutes, 47 seconds.\n",
            "Growing trees.. Progress: 49%. Estimated remaining time: 6 minutes, 11 seconds.\n",
            "Growing trees.. Progress: 53%. Estimated remaining time: 5 minutes, 36 seconds.\n",
            "Growing trees.. Progress: 58%. Estimated remaining time: 5 minutes, 1 seconds.\n",
            "Growing trees.. Progress: 63%. Estimated remaining time: 4 minutes, 26 seconds.\n",
            "Growing trees.. Progress: 67%. Estimated remaining time: 3 minutes, 53 seconds.\n",
            "Growing trees.. Progress: 72%. Estimated remaining time: 3 minutes, 20 seconds.\n",
            "Growing trees.. Progress: 77%. Estimated remaining time: 2 minutes, 46 seconds.\n",
            "Growing trees.. Progress: 81%. Estimated remaining time: 2 minutes, 12 seconds.\n",
            "Growing trees.. Progress: 86%. Estimated remaining time: 1 minute, 38 seconds.\n",
            "Growing trees.. Progress: 91%. Estimated remaining time: 1 minute, 5 seconds.\n",
            "Growing trees.. Progress: 95%. Estimated remaining time: 32 seconds.\n",
            "Growing trees.. Progress: 100%. Estimated remaining time: 0 seconds.\n",
            "Growing trees.. Progress: 4%. Estimated remaining time: 11 minutes, 26 seconds.\n",
            "Growing trees.. Progress: 9%. Estimated remaining time: 10 minutes, 48 seconds.\n",
            "Growing trees.. Progress: 13%. Estimated remaining time: 10 minutes, 20 seconds.\n",
            "Growing trees.. Progress: 18%. Estimated remaining time: 9 minutes, 41 seconds.\n",
            "Growing trees.. Progress: 22%. Estimated remaining time: 9 minutes, 19 seconds.\n",
            "Growing trees.. Progress: 27%. Estimated remaining time: 8 minutes, 41 seconds.\n",
            "Growing trees.. Progress: 32%. Estimated remaining time: 8 minutes, 6 seconds.\n",
            "Growing trees.. Progress: 36%. Estimated remaining time: 7 minutes, 39 seconds.\n",
            "Growing trees.. Progress: 40%. Estimated remaining time: 7 minutes, 9 seconds.\n",
            "Growing trees.. Progress: 45%. Estimated remaining time: 6 minutes, 35 seconds.\n",
            "Growing trees.. Progress: 49%. Estimated remaining time: 6 minutes, 4 seconds.\n",
            "Growing trees.. Progress: 54%. Estimated remaining time: 5 minutes, 30 seconds.\n",
            "Growing trees.. Progress: 58%. Estimated remaining time: 4 minutes, 59 seconds.\n",
            "Growing trees.. Progress: 63%. Estimated remaining time: 4 minutes, 29 seconds.\n",
            "Growing trees.. Progress: 67%. Estimated remaining time: 3 minutes, 57 seconds.\n",
            "Growing trees.. Progress: 71%. Estimated remaining time: 3 minutes, 24 seconds.\n",
            "Growing trees.. Progress: 76%. Estimated remaining time: 2 minutes, 53 seconds.\n",
            "Growing trees.. Progress: 80%. Estimated remaining time: 2 minutes, 21 seconds.\n",
            "Growing trees.. Progress: 85%. Estimated remaining time: 1 minute, 50 seconds.\n",
            "Growing trees.. Progress: 89%. Estimated remaining time: 1 minute, 19 seconds.\n",
            "Growing trees.. Progress: 93%. Estimated remaining time: 48 seconds.\n",
            "Growing trees.. Progress: 98%. Estimated remaining time: 15 seconds.\n",
            "Growing trees.. Progress: 4%. Estimated remaining time: 12 minutes, 4 seconds.\n",
            "Growing trees.. Progress: 9%. Estimated remaining time: 10 minutes, 48 seconds.\n",
            "Growing trees.. Progress: 13%. Estimated remaining time: 10 minutes, 7 seconds.\n",
            "Growing trees.. Progress: 17%. Estimated remaining time: 9 minutes, 54 seconds.\n",
            "Growing trees.. Progress: 22%. Estimated remaining time: 9 minutes, 15 seconds.\n",
            "Growing trees.. Progress: 27%. Estimated remaining time: 8 minutes, 42 seconds.\n",
            "Growing trees.. Progress: 31%. Estimated remaining time: 8 minutes, 9 seconds.\n",
            "Growing trees.. Progress: 35%. Estimated remaining time: 7 minutes, 41 seconds.\n",
            "Growing trees.. Progress: 40%. Estimated remaining time: 7 minutes, 4 seconds.\n",
            "Growing trees.. Progress: 45%. Estimated remaining time: 6 minutes, 29 seconds.\n",
            "Growing trees.. Progress: 49%. Estimated remaining time: 5 minutes, 56 seconds.\n",
            "Growing trees.. Progress: 54%. Estimated remaining time: 5 minutes, 27 seconds.\n",
            "Growing trees.. Progress: 59%. Estimated remaining time: 4 minutes, 52 seconds.\n",
            "Growing trees.. Progress: 63%. Estimated remaining time: 4 minutes, 18 seconds.\n",
            "Growing trees.. Progress: 68%. Estimated remaining time: 3 minutes, 44 seconds.\n",
            "Growing trees.. Progress: 73%. Estimated remaining time: 3 minutes, 12 seconds.\n",
            "Growing trees.. Progress: 77%. Estimated remaining time: 2 minutes, 40 seconds.\n",
            "Growing trees.. Progress: 82%. Estimated remaining time: 2 minutes, 8 seconds.\n",
            "Growing trees.. Progress: 86%. Estimated remaining time: 1 minute, 37 seconds.\n",
            "Growing trees.. Progress: 91%. Estimated remaining time: 1 minute, 3 seconds.\n",
            "Growing trees.. Progress: 95%. Estimated remaining time: 31 seconds.\n",
            "Growing trees.. Progress: 100%. Estimated remaining time: 0 seconds.\n",
            "Growing trees.. Progress: 4%. Estimated remaining time: 11 minutes, 26 seconds.\n",
            "Growing trees.. Progress: 9%. Estimated remaining time: 11 minutes, 6 seconds.\n",
            "Growing trees.. Progress: 13%. Estimated remaining time: 10 minutes, 26 seconds.\n",
            "Growing trees.. Progress: 18%. Estimated remaining time: 9 minutes, 50 seconds.\n",
            "Growing trees.. Progress: 22%. Estimated remaining time: 9 minutes, 15 seconds.\n",
            "Growing trees.. Progress: 27%. Estimated remaining time: 8 minutes, 44 seconds.\n",
            "Growing trees.. Progress: 31%. Estimated remaining time: 8 minutes, 13 seconds.\n",
            "Growing trees.. Progress: 36%. Estimated remaining time: 7 minutes, 44 seconds.\n",
            "Growing trees.. Progress: 40%. Estimated remaining time: 7 minutes, 10 seconds.\n",
            "Growing trees.. Progress: 45%. Estimated remaining time: 6 minutes, 36 seconds.\n",
            "Growing trees.. Progress: 49%. Estimated remaining time: 6 minutes, 2 seconds.\n",
            "Growing trees.. Progress: 54%. Estimated remaining time: 5 minutes, 32 seconds.\n",
            "Growing trees.. Progress: 58%. Estimated remaining time: 5 minutes, 1 seconds.\n",
            "Growing trees.. Progress: 62%. Estimated remaining time: 4 minutes, 29 seconds.\n",
            "Growing trees.. Progress: 67%. Estimated remaining time: 3 minutes, 56 seconds.\n",
            "Growing trees.. Progress: 71%. Estimated remaining time: 3 minutes, 23 seconds.\n",
            "Growing trees.. Progress: 76%. Estimated remaining time: 2 minutes, 50 seconds.\n",
            "Growing trees.. Progress: 80%. Estimated remaining time: 2 minutes, 20 seconds.\n",
            "Growing trees.. Progress: 85%. Estimated remaining time: 1 minute, 49 seconds.\n",
            "Growing trees.. Progress: 89%. Estimated remaining time: 1 minute, 16 seconds.\n",
            "Growing trees.. Progress: 94%. Estimated remaining time: 42 seconds.\n",
            "Growing trees.. Progress: 99%. Estimated remaining time: 9 seconds.\n",
            "Growing trees.. Progress: 4%. Estimated remaining time: 12 minutes, 27 seconds.\n",
            "Growing trees.. Progress: 8%. Estimated remaining time: 11 minutes, 35 seconds.\n",
            "Growing trees.. Progress: 13%. Estimated remaining time: 10 minutes, 38 seconds.\n",
            "Growing trees.. Progress: 17%. Estimated remaining time: 9 minutes, 58 seconds.\n",
            "Growing trees.. Progress: 22%. Estimated remaining time: 9 minutes, 15 seconds.\n",
            "Growing trees.. Progress: 27%. Estimated remaining time: 8 minutes, 39 seconds.\n",
            "Growing trees.. Progress: 32%. Estimated remaining time: 8 minutes, 1 seconds.\n",
            "Growing trees.. Progress: 36%. Estimated remaining time: 7 minutes, 27 seconds.\n",
            "Growing trees.. Progress: 41%. Estimated remaining time: 6 minutes, 52 seconds.\n",
            "Growing trees.. Progress: 46%. Estimated remaining time: 6 minutes, 17 seconds.\n",
            "Growing trees.. Progress: 51%. Estimated remaining time: 5 minutes, 43 seconds.\n",
            "Growing trees.. Progress: 55%. Estimated remaining time: 5 minutes, 12 seconds.\n",
            "Growing trees.. Progress: 60%. Estimated remaining time: 4 minutes, 40 seconds.\n",
            "Growing trees.. Progress: 64%. Estimated remaining time: 4 minutes, 6 seconds.\n",
            "Growing trees.. Progress: 69%. Estimated remaining time: 3 minutes, 33 seconds.\n",
            "Growing trees.. Progress: 74%. Estimated remaining time: 2 minutes, 59 seconds.\n",
            "Growing trees.. Progress: 79%. Estimated remaining time: 2 minutes, 25 seconds.\n",
            "Growing trees.. Progress: 84%. Estimated remaining time: 1 minute, 52 seconds.\n",
            "Growing trees.. Progress: 88%. Estimated remaining time: 1 minute, 20 seconds.\n",
            "Growing trees.. Progress: 93%. Estimated remaining time: 47 seconds.\n",
            "Growing trees.. Progress: 98%. Estimated remaining time: 14 seconds.\n",
            "20250902 021218\t463\t17\t305\t30\t5\t230620000\t13\n",
            "Growing trees.. Progress: 3%. Estimated remaining time: 16 minutes, 39 seconds.\n",
            "Growing trees.. Progress: 6%. Estimated remaining time: 16 minutes, 24 seconds.\n",
            "Growing trees.. Progress: 9%. Estimated remaining time: 15 minutes, 57 seconds.\n",
            "Growing trees.. Progress: 12%. Estimated remaining time: 15 minutes, 21 seconds.\n",
            "Growing trees.. Progress: 15%. Estimated remaining time: 14 minutes, 52 seconds.\n",
            "Growing trees.. Progress: 18%. Estimated remaining time: 14 minutes, 17 seconds.\n",
            "Growing trees.. Progress: 21%. Estimated remaining time: 13 minutes, 51 seconds.\n",
            "Growing trees.. Progress: 24%. Estimated remaining time: 13 minutes, 31 seconds.\n",
            "Growing trees.. Progress: 27%. Estimated remaining time: 13 minutes, 14 seconds.\n",
            "Growing trees.. Progress: 30%. Estimated remaining time: 12 minutes, 42 seconds.\n",
            "Growing trees.. Progress: 33%. Estimated remaining time: 12 minutes, 8 seconds.\n",
            "Growing trees.. Progress: 36%. Estimated remaining time: 11 minutes, 32 seconds.\n",
            "Growing trees.. Progress: 39%. Estimated remaining time: 10 minutes, 59 seconds.\n",
            "Growing trees.. Progress: 42%. Estimated remaining time: 10 minutes, 29 seconds.\n",
            "Growing trees.. Progress: 45%. Estimated remaining time: 9 minutes, 56 seconds.\n",
            "Growing trees.. Progress: 48%. Estimated remaining time: 9 minutes, 24 seconds.\n",
            "Growing trees.. Progress: 51%. Estimated remaining time: 8 minutes, 50 seconds.\n",
            "Growing trees.. Progress: 54%. Estimated remaining time: 8 minutes, 16 seconds.\n",
            "Growing trees.. Progress: 57%. Estimated remaining time: 7 minutes, 40 seconds.\n",
            "Growing trees.. Progress: 60%. Estimated remaining time: 7 minutes, 4 seconds.\n",
            "Growing trees.. Progress: 64%. Estimated remaining time: 6 minutes, 28 seconds.\n",
            "Growing trees.. Progress: 67%. Estimated remaining time: 5 minutes, 54 seconds.\n",
            "Growing trees.. Progress: 70%. Estimated remaining time: 5 minutes, 21 seconds.\n",
            "Growing trees.. Progress: 73%. Estimated remaining time: 4 minutes, 46 seconds.\n",
            "Growing trees.. Progress: 76%. Estimated remaining time: 4 minutes, 13 seconds.\n",
            "Growing trees.. Progress: 79%. Estimated remaining time: 3 minutes, 41 seconds.\n",
            "Growing trees.. Progress: 82%. Estimated remaining time: 3 minutes, 6 seconds.\n",
            "Growing trees.. Progress: 85%. Estimated remaining time: 2 minutes, 34 seconds.\n",
            "Growing trees.. Progress: 89%. Estimated remaining time: 1 minute, 59 seconds.\n",
            "Growing trees.. Progress: 92%. Estimated remaining time: 1 minute, 24 seconds.\n",
            "Growing trees.. Progress: 95%. Estimated remaining time: 52 seconds.\n",
            "Growing trees.. Progress: 98%. Estimated remaining time: 21 seconds.\n",
            "Growing trees.. Progress: 3%. Estimated remaining time: 19 minutes, 59 seconds.\n",
            "Growing trees.. Progress: 6%. Estimated remaining time: 18 minutes, 15 seconds.\n",
            "Growing trees.. Progress: 9%. Estimated remaining time: 16 minutes, 38 seconds.\n",
            "Growing trees.. Progress: 12%. Estimated remaining time: 15 minutes, 57 seconds.\n",
            "Growing trees.. Progress: 15%. Estimated remaining time: 15 minutes, 26 seconds.\n",
            "Growing trees.. Progress: 18%. Estimated remaining time: 14 minutes, 54 seconds.\n",
            "Growing trees.. Progress: 21%. Estimated remaining time: 14 minutes, 22 seconds.\n",
            "Growing trees.. Progress: 24%. Estimated remaining time: 13 minutes, 32 seconds.\n",
            "Growing trees.. Progress: 28%. Estimated remaining time: 13 minutes, 5 seconds.\n",
            "Growing trees.. Progress: 31%. Estimated remaining time: 12 minutes, 31 seconds.\n",
            "Growing trees.. Progress: 34%. Estimated remaining time: 11 minutes, 49 seconds.\n",
            "Growing trees.. Progress: 37%. Estimated remaining time: 11 minutes, 20 seconds.\n",
            "Growing trees.. Progress: 40%. Estimated remaining time: 10 minutes, 50 seconds.\n",
            "Growing trees.. Progress: 43%. Estimated remaining time: 10 minutes, 17 seconds.\n",
            "Growing trees.. Progress: 46%. Estimated remaining time: 9 minutes, 37 seconds.\n",
            "Growing trees.. Progress: 49%. Estimated remaining time: 9 minutes, 7 seconds.\n",
            "Growing trees.. Progress: 52%. Estimated remaining time: 8 minutes, 36 seconds.\n",
            "Growing trees.. Progress: 55%. Estimated remaining time: 8 minutes, 4 seconds.\n",
            "Growing trees.. Progress: 58%. Estimated remaining time: 7 minutes, 30 seconds.\n",
            "Growing trees.. Progress: 61%. Estimated remaining time: 6 minutes, 59 seconds.\n",
            "Growing trees.. Progress: 64%. Estimated remaining time: 6 minutes, 27 seconds.\n",
            "Growing trees.. Progress: 67%. Estimated remaining time: 5 minutes, 55 seconds.\n",
            "Growing trees.. Progress: 70%. Estimated remaining time: 5 minutes, 23 seconds.\n",
            "Growing trees.. Progress: 73%. Estimated remaining time: 4 minutes, 51 seconds.\n",
            "Growing trees.. Progress: 76%. Estimated remaining time: 4 minutes, 18 seconds.\n",
            "Growing trees.. Progress: 79%. Estimated remaining time: 3 minutes, 45 seconds.\n",
            "Growing trees.. Progress: 82%. Estimated remaining time: 3 minutes, 13 seconds.\n",
            "Growing trees.. Progress: 85%. Estimated remaining time: 2 minutes, 40 seconds.\n",
            "Growing trees.. Progress: 88%. Estimated remaining time: 2 minutes, 7 seconds.\n",
            "Growing trees.. Progress: 91%. Estimated remaining time: 1 minute, 35 seconds.\n",
            "Growing trees.. Progress: 94%. Estimated remaining time: 1 minute, 2 seconds.\n",
            "Growing trees.. Progress: 97%. Estimated remaining time: 29 seconds.\n",
            "Growing trees.. Progress: 3%. Estimated remaining time: 16 minutes, 39 seconds.\n",
            "Growing trees.. Progress: 6%. Estimated remaining time: 16 minutes, 40 seconds.\n",
            "Growing trees.. Progress: 9%. Estimated remaining time: 16 minutes, 8 seconds.\n",
            "Growing trees.. Progress: 12%. Estimated remaining time: 15 minutes, 28 seconds.\n",
            "Growing trees.. Progress: 15%. Estimated remaining time: 15 minutes, 4 seconds.\n",
            "Growing trees.. Progress: 18%. Estimated remaining time: 14 minutes, 21 seconds.\n",
            "Growing trees.. Progress: 22%. Estimated remaining time: 13 minutes, 38 seconds.\n",
            "Growing trees.. Progress: 25%. Estimated remaining time: 13 minutes, 4 seconds.\n",
            "Growing trees.. Progress: 28%. Estimated remaining time: 12 minutes, 28 seconds.\n",
            "Growing trees.. Progress: 31%. Estimated remaining time: 11 minutes, 48 seconds.\n",
            "Growing trees.. Progress: 34%. Estimated remaining time: 11 minutes, 18 seconds.\n",
            "Growing trees.. Progress: 38%. Estimated remaining time: 10 minutes, 47 seconds.\n",
            "Growing trees.. Progress: 41%. Estimated remaining time: 10 minutes, 8 seconds.\n",
            "Growing trees.. Progress: 44%. Estimated remaining time: 9 minutes, 31 seconds.\n",
            "Growing trees.. Progress: 48%. Estimated remaining time: 9 minutes, 0 seconds.\n",
            "Growing trees.. Progress: 51%. Estimated remaining time: 8 minutes, 23 seconds.\n",
            "Growing trees.. Progress: 54%. Estimated remaining time: 7 minutes, 50 seconds.\n",
            "Growing trees.. Progress: 57%. Estimated remaining time: 7 minutes, 19 seconds.\n",
            "Growing trees.. Progress: 60%. Estimated remaining time: 6 minutes, 47 seconds.\n",
            "Growing trees.. Progress: 64%. Estimated remaining time: 6 minutes, 9 seconds.\n",
            "Growing trees.. Progress: 67%. Estimated remaining time: 5 minutes, 35 seconds.\n",
            "Growing trees.. Progress: 70%. Estimated remaining time: 5 minutes, 5 seconds.\n",
            "Growing trees.. Progress: 73%. Estimated remaining time: 4 minutes, 35 seconds.\n",
            "Growing trees.. Progress: 76%. Estimated remaining time: 4 minutes, 1 seconds.\n",
            "Growing trees.. Progress: 80%. Estimated remaining time: 3 minutes, 25 seconds.\n",
            "Growing trees.. Progress: 83%. Estimated remaining time: 2 minutes, 51 seconds.\n",
            "Growing trees.. Progress: 86%. Estimated remaining time: 2 minutes, 24 seconds.\n",
            "Growing trees.. Progress: 89%. Estimated remaining time: 1 minute, 53 seconds.\n",
            "Growing trees.. Progress: 92%. Estimated remaining time: 1 minute, 19 seconds.\n",
            "Growing trees.. Progress: 95%. Estimated remaining time: 46 seconds.\n",
            "Growing trees.. Progress: 99%. Estimated remaining time: 12 seconds.\n",
            "Growing trees.. Progress: 3%. Estimated remaining time: 18 minutes, 13 seconds.\n",
            "Growing trees.. Progress: 6%. Estimated remaining time: 17 minutes, 42 seconds.\n",
            "Growing trees.. Progress: 9%. Estimated remaining time: 16 minutes, 38 seconds.\n",
            "Growing trees.. Progress: 12%. Estimated remaining time: 16 minutes, 21 seconds.\n",
            "Growing trees.. Progress: 15%. Estimated remaining time: 15 minutes, 56 seconds.\n",
            "Growing trees.. Progress: 18%. Estimated remaining time: 15 minutes, 33 seconds.\n",
            "Growing trees.. Progress: 21%. Estimated remaining time: 14 minutes, 58 seconds.\n",
            "Growing trees.. Progress: 24%. Estimated remaining time: 14 minutes, 26 seconds.\n",
            "Growing trees.. Progress: 27%. Estimated remaining time: 14 minutes, 0 seconds.\n",
            "Growing trees.. Progress: 30%. Estimated remaining time: 13 minutes, 20 seconds.\n",
            "Growing trees.. Progress: 33%. Estimated remaining time: 12 minutes, 41 seconds.\n",
            "Growing trees.. Progress: 36%. Estimated remaining time: 12 minutes, 5 seconds.\n",
            "Growing trees.. Progress: 39%. Estimated remaining time: 11 minutes, 35 seconds.\n",
            "Growing trees.. Progress: 42%. Estimated remaining time: 10 minutes, 58 seconds.\n",
            "Growing trees.. Progress: 45%. Estimated remaining time: 10 minutes, 22 seconds.\n",
            "Growing trees.. Progress: 48%. Estimated remaining time: 9 minutes, 48 seconds.\n",
            "Growing trees.. Progress: 51%. Estimated remaining time: 9 minutes, 13 seconds.\n",
            "Growing trees.. Progress: 54%. Estimated remaining time: 8 minutes, 40 seconds.\n",
            "Growing trees.. Progress: 57%. Estimated remaining time: 8 minutes, 4 seconds.\n",
            "Growing trees.. Progress: 60%. Estimated remaining time: 7 minutes, 30 seconds.\n",
            "Growing trees.. Progress: 63%. Estimated remaining time: 6 minutes, 56 seconds.\n",
            "Growing trees.. Progress: 66%. Estimated remaining time: 6 minutes, 18 seconds.\n",
            "Growing trees.. Progress: 69%. Estimated remaining time: 5 minutes, 44 seconds.\n",
            "Growing trees.. Progress: 72%. Estimated remaining time: 5 minutes, 9 seconds.\n",
            "Growing trees.. Progress: 75%. Estimated remaining time: 4 minutes, 36 seconds.\n",
            "Growing trees.. Progress: 78%. Estimated remaining time: 4 minutes, 6 seconds.\n",
            "Growing trees.. Progress: 81%. Estimated remaining time: 3 minutes, 33 seconds.\n",
            "Growing trees.. Progress: 84%. Estimated remaining time: 2 minutes, 59 seconds.\n",
            "Growing trees.. Progress: 87%. Estimated remaining time: 2 minutes, 26 seconds.\n",
            "Growing trees.. Progress: 90%. Estimated remaining time: 1 minute, 53 seconds.\n",
            "Growing trees.. Progress: 93%. Estimated remaining time: 1 minute, 20 seconds.\n",
            "Growing trees.. Progress: 96%. Estimated remaining time: 44 seconds.\n",
            "Growing trees.. Progress: 99%. Estimated remaining time: 11 seconds.\n",
            "Growing trees.. Progress: 3%. Estimated remaining time: 18 minutes, 48 seconds.\n",
            "Growing trees.. Progress: 6%. Estimated remaining time: 16 minutes, 27 seconds.\n",
            "Growing trees.. Progress: 9%. Estimated remaining time: 15 minutes, 58 seconds.\n",
            "Growing trees.. Progress: 13%. Estimated remaining time: 15 minutes, 14 seconds.\n",
            "Growing trees.. Progress: 16%. Estimated remaining time: 14 minutes, 51 seconds.\n",
            "Growing trees.. Progress: 19%. Estimated remaining time: 14 minutes, 5 seconds.\n",
            "Growing trees.. Progress: 23%. Estimated remaining time: 13 minutes, 26 seconds.\n",
            "Growing trees.. Progress: 26%. Estimated remaining time: 12 minutes, 44 seconds.\n",
            "Growing trees.. Progress: 29%. Estimated remaining time: 12 minutes, 15 seconds.\n",
            "Growing trees.. Progress: 32%. Estimated remaining time: 11 minutes, 40 seconds.\n",
            "Growing trees.. Progress: 36%. Estimated remaining time: 10 minutes, 58 seconds.\n",
            "Growing trees.. Progress: 39%. Estimated remaining time: 10 minutes, 26 seconds.\n",
            "Growing trees.. Progress: 42%. Estimated remaining time: 9 minutes, 49 seconds.\n",
            "Growing trees.. Progress: 45%. Estimated remaining time: 9 minutes, 14 seconds.\n",
            "Growing trees.. Progress: 49%. Estimated remaining time: 8 minutes, 39 seconds.\n",
            "Growing trees.. Progress: 52%. Estimated remaining time: 8 minutes, 5 seconds.\n",
            "Growing trees.. Progress: 55%. Estimated remaining time: 7 minutes, 33 seconds.\n",
            "Growing trees.. Progress: 59%. Estimated remaining time: 6 minutes, 56 seconds.\n",
            "Growing trees.. Progress: 62%. Estimated remaining time: 6 minutes, 19 seconds.\n",
            "Growing trees.. Progress: 66%. Estimated remaining time: 5 minutes, 45 seconds.\n",
            "Growing trees.. Progress: 69%. Estimated remaining time: 5 minutes, 12 seconds.\n",
            "Growing trees.. Progress: 72%. Estimated remaining time: 4 minutes, 39 seconds.\n",
            "Growing trees.. Progress: 76%. Estimated remaining time: 4 minutes, 4 seconds.\n",
            "Growing trees.. Progress: 79%. Estimated remaining time: 3 minutes, 31 seconds.\n",
            "Growing trees.. Progress: 82%. Estimated remaining time: 3 minutes, 1 seconds.\n",
            "Growing trees.. Progress: 85%. Estimated remaining time: 2 minutes, 25 seconds.\n",
            "Growing trees.. Progress: 89%. Estimated remaining time: 1 minute, 50 seconds.\n",
            "Growing trees.. Progress: 92%. Estimated remaining time: 1 minute, 18 seconds.\n",
            "Growing trees.. Progress: 95%. Estimated remaining time: 50 seconds.\n",
            "Growing trees.. Progress: 97%. Estimated remaining time: 25 seconds.\n",
            "Growing trees.. Progress: 100%. Estimated remaining time: 0 seconds.\n",
            "20250902 034208\t399\t30\t978\t48\t5\t220820000\t14\n",
            "Growing trees.. Progress: 64%. Estimated remaining time: 17 seconds.\n",
            "Growing trees.. Progress: 71%. Estimated remaining time: 12 seconds.\n",
            "Growing trees.. Progress: 82%. Estimated remaining time: 6 seconds.\n",
            "Growing trees.. Progress: 79%. Estimated remaining time: 8 seconds.\n",
            "Growing trees.. Progress: 81%. Estimated remaining time: 7 seconds.\n",
            "20250902 034622\t154\t15\t12\t4\t5\t227440000\t15\n",
            "Growing trees.. Progress: 63%. Estimated remaining time: 18 seconds.\n",
            "Growing trees.. Progress: 63%. Estimated remaining time: 18 seconds.\n",
            "Growing trees.. Progress: 62%. Estimated remaining time: 19 seconds.\n",
            "Growing trees.. Progress: 63%. Estimated remaining time: 17 seconds.\n",
            "Growing trees.. Progress: 64%. Estimated remaining time: 17 seconds.\n",
            "20250902 035054\t251\t2\t916\t41\t5\t206860000\t16\n"
          ]
        },
        {
          "output_type": "stream",
          "name": "stderr",
          "text": [
            "[mbo] 0: num.trees=325; max.depth=6; min.node.size=514; mtry=35 : y = 2.23e+08 : 1025.7 secs : initdesign\n",
            "\n",
            "[mbo] 0: num.trees=484; max.depth=24; min.node.size=463; mtry=14 : y = 2.44e+08 : 1884.4 secs : initdesign\n",
            "\n",
            "[mbo] 0: num.trees=228; max.depth=12; min.node.size=360; mtry=47 : y = 2.34e+08 : 2064.7 secs : initdesign\n",
            "\n",
            "[mbo] 0: num.trees=134; max.depth=9; min.node.size=733; mtry=34 : y = 2.33e+08 : 669.3 secs : initdesign\n",
            "\n",
            "[mbo] 0: num.trees=310; max.depth=25; min.node.size=604; mtry=23 : y = 2.31e+08 : 1937.7 secs : initdesign\n",
            "\n",
            "[mbo] 0: num.trees=287; max.depth=21; min.node.size=105; mtry=22 : y = 2.28e+08 : 1801.4 secs : initdesign\n",
            "\n",
            "[mbo] 0: num.trees=179; max.depth=7; min.node.size=211; mtry=27 : y = 2.29e+08 : 556.9 secs : initdesign\n",
            "\n",
            "[mbo] 0: num.trees=416; max.depth=1; min.node.size=166; mtry=7 : y = -1.4e+05 : 80.1 secs : initdesign\n",
            "\n",
            "[mbo] 0: num.trees=43; max.depth=22; min.node.size=416; mtry=39 : y = 2.04e+08 : 487.1 secs : initdesign\n",
            "\n",
            "[mbo] 0: num.trees=379; max.depth=18; min.node.size=875; mtry=19 : y = 2.47e+08 : 1838.9 secs : initdesign\n",
            "\n",
            "[mbo] 0: num.trees=59; max.depth=11; min.node.size=771; mtry=10 : y = 2.33e+08 : 142.0 secs : initdesign\n",
            "\n",
            "[mbo] 0: num.trees=91; max.depth=27; min.node.size=655; mtry=11 : y = 2.38e+08 : 321.4 secs : initdesign\n",
            "\n",
            "[mbo] 0: num.trees=463; max.depth=17; min.node.size=305; mtry=30 : y = 2.31e+08 : 3635.6 secs : initdesign\n",
            "\n",
            "[mbo] 0: num.trees=399; max.depth=30; min.node.size=978; mtry=48 : y = 2.21e+08 : 5389.8 secs : initdesign\n",
            "\n",
            "[mbo] 0: num.trees=154; max.depth=15; min.node.size=12; mtry=4 : y = 2.27e+08 : 254.8 secs : initdesign\n",
            "\n",
            "[mbo] 0: num.trees=251; max.depth=2; min.node.size=916; mtry=41 : y = 2.07e+08 : 271.7 secs : initdesign\n",
            "\n",
            "Saved the current state after iteration 1 in the file HT450.RDATA.\n",
            "\n",
            "Warning message in generateDesign(control$infill.opt.focussearch.points, ps.local, :\n",
            "“generateDesign could only produce 952 points instead of 1000!”\n"
          ]
        },
        {
          "output_type": "stream",
          "name": "stdout",
          "text": [
            "20250902 035217\t20\t16\t976\t14\t5\t217840000\t17\n"
          ]
        },
        {
          "output_type": "stream",
          "name": "stderr",
          "text": [
            "[mbo] 1: num.trees=20; max.depth=16; min.node.size=976; mtry=14 : y = 2.18e+08 : 81.8 secs : infill_ei\n",
            "\n",
            "Warning message in generateDesign(control$infill.opt.focussearch.points, ps.local, :\n",
            "“generateDesign could only produce 894 points instead of 1000!”\n",
            "Warning message in generateDesign(control$infill.opt.focussearch.points, ps.local, :\n",
            "“generateDesign could only produce 908 points instead of 1000!”\n",
            "Warning message in generateDesign(control$infill.opt.focussearch.points, ps.local, :\n",
            "“generateDesign could only produce 936 points instead of 1000!”\n"
          ]
        },
        {
          "output_type": "stream",
          "name": "stdout",
          "text": [
            "Growing trees.. Progress: 39%. Estimated remaining time: 48 seconds.\n",
            "Growing trees.. Progress: 80%. Estimated remaining time: 15 seconds.\n",
            "Growing trees.. Progress: 39%. Estimated remaining time: 48 seconds.\n",
            "Growing trees.. Progress: 80%. Estimated remaining time: 15 seconds.\n",
            "Growing trees.. Progress: 40%. Estimated remaining time: 46 seconds.\n",
            "Growing trees.. Progress: 82%. Estimated remaining time: 13 seconds.\n",
            "Growing trees.. Progress: 39%. Estimated remaining time: 48 seconds.\n",
            "Growing trees.. Progress: 78%. Estimated remaining time: 17 seconds.\n",
            "Growing trees.. Progress: 39%. Estimated remaining time: 48 seconds.\n",
            "Growing trees.. Progress: 79%. Estimated remaining time: 16 seconds.\n",
            "20250902 040043\t500\t21\t1000\t2\t5\t220020000\t18\n"
          ]
        },
        {
          "output_type": "stream",
          "name": "stderr",
          "text": [
            "[mbo] 2: num.trees=500; max.depth=21; min.node.size=1000; mtry=2 : y = 2.2e+08 : 504.9 secs : infill_ei\n",
            "\n",
            "Warning message in generateDesign(control$infill.opt.focussearch.points, ps.local, :\n",
            "“generateDesign could only produce 948 points instead of 1000!”\n"
          ]
        },
        {
          "output_type": "stream",
          "name": "stdout",
          "text": [
            "Growing trees.. Progress: 12%. Estimated remaining time: 3 minutes, 37 seconds.\n",
            "Growing trees.. Progress: 26%. Estimated remaining time: 3 minutes, 0 seconds.\n",
            "Growing trees.. Progress: 39%. Estimated remaining time: 2 minutes, 27 seconds.\n",
            "Growing trees.. Progress: 52%. Estimated remaining time: 1 minute, 55 seconds.\n",
            "Growing trees.. Progress: 65%. Estimated remaining time: 1 minute, 24 seconds.\n",
            "Growing trees.. Progress: 78%. Estimated remaining time: 52 seconds.\n",
            "Growing trees.. Progress: 91%. Estimated remaining time: 22 seconds.\n",
            "Growing trees.. Progress: 13%. Estimated remaining time: 3 minutes, 31 seconds.\n",
            "Growing trees.. Progress: 25%. Estimated remaining time: 3 minutes, 6 seconds.\n",
            "Growing trees.. Progress: 38%. Estimated remaining time: 2 minutes, 35 seconds.\n",
            "Growing trees.. Progress: 51%. Estimated remaining time: 2 minutes, 3 seconds.\n",
            "Growing trees.. Progress: 63%. Estimated remaining time: 1 minute, 31 seconds.\n",
            "Growing trees.. Progress: 76%. Estimated remaining time: 58 seconds.\n",
            "Growing trees.. Progress: 89%. Estimated remaining time: 26 seconds.\n",
            "Growing trees.. Progress: 13%. Estimated remaining time: 3 minutes, 25 seconds.\n",
            "Growing trees.. Progress: 26%. Estimated remaining time: 3 minutes, 3 seconds.\n",
            "Growing trees.. Progress: 39%. Estimated remaining time: 2 minutes, 28 seconds.\n",
            "Growing trees.. Progress: 52%. Estimated remaining time: 1 minute, 57 seconds.\n",
            "Growing trees.. Progress: 64%. Estimated remaining time: 1 minute, 27 seconds.\n",
            "Growing trees.. Progress: 77%. Estimated remaining time: 56 seconds.\n",
            "Growing trees.. Progress: 90%. Estimated remaining time: 23 seconds.\n",
            "Growing trees.. Progress: 12%. Estimated remaining time: 3 minutes, 44 seconds.\n",
            "Growing trees.. Progress: 25%. Estimated remaining time: 3 minutes, 6 seconds.\n",
            "Growing trees.. Progress: 38%. Estimated remaining time: 2 minutes, 30 seconds.\n",
            "Growing trees.. Progress: 51%. Estimated remaining time: 1 minute, 59 seconds.\n",
            "Growing trees.. Progress: 65%. Estimated remaining time: 1 minute, 26 seconds.\n",
            "Growing trees.. Progress: 77%. Estimated remaining time: 55 seconds.\n",
            "Growing trees.. Progress: 91%. Estimated remaining time: 23 seconds.\n",
            "Growing trees.. Progress: 12%. Estimated remaining time: 3 minutes, 37 seconds.\n",
            "Growing trees.. Progress: 26%. Estimated remaining time: 3 minutes, 3 seconds.\n",
            "Growing trees.. Progress: 38%. Estimated remaining time: 2 minutes, 32 seconds.\n",
            "Growing trees.. Progress: 52%. Estimated remaining time: 1 minute, 58 seconds.\n",
            "Growing trees.. Progress: 65%. Estimated remaining time: 1 minute, 26 seconds.\n",
            "Growing trees.. Progress: 77%. Estimated remaining time: 55 seconds.\n",
            "Growing trees.. Progress: 90%. Estimated remaining time: 25 seconds.\n",
            "20250902 042217\t297\t12\t328\t21\t5\t238640000\t19\n"
          ]
        },
        {
          "output_type": "stream",
          "name": "stderr",
          "text": [
            "[mbo] 3: num.trees=297; max.depth=12; min.node.size=328; mtry=21 : y = 2.39e+08 : 1293.3 secs : infill_ei\n",
            "\n",
            "Saved the current state after iteration 4 in the file HT450.RDATA.\n",
            "\n",
            "Warning message in generateDesign(control$infill.opt.focussearch.points, ps.local, :\n",
            "“generateDesign could only produce 792 points instead of 1000!”\n",
            "Warning message in generateDesign(control$infill.opt.focussearch.points, ps.local, :\n",
            "“generateDesign could only produce 720 points instead of 1000!”\n"
          ]
        },
        {
          "output_type": "stream",
          "name": "stdout",
          "text": [
            "Growing trees.. Progress: 10%. Estimated remaining time: 4 minutes, 32 seconds.\n",
            "Growing trees.. Progress: 21%. Estimated remaining time: 4 minutes, 2 seconds.\n",
            "Growing trees.. Progress: 31%. Estimated remaining time: 3 minutes, 25 seconds.\n",
            "Growing trees.. Progress: 42%. Estimated remaining time: 2 minutes, 52 seconds.\n",
            "Growing trees.. Progress: 53%. Estimated remaining time: 2 minutes, 20 seconds.\n",
            "Growing trees.. Progress: 63%. Estimated remaining time: 1 minute, 49 seconds.\n",
            "Growing trees.. Progress: 73%. Estimated remaining time: 1 minute, 19 seconds.\n",
            "Growing trees.. Progress: 83%. Estimated remaining time: 49 seconds.\n",
            "Growing trees.. Progress: 94%. Estimated remaining time: 17 seconds.\n",
            "Growing trees.. Progress: 10%. Estimated remaining time: 4 minutes, 39 seconds.\n",
            "Growing trees.. Progress: 20%. Estimated remaining time: 4 minutes, 1 seconds.\n",
            "Growing trees.. Progress: 31%. Estimated remaining time: 3 minutes, 27 seconds.\n",
            "Growing trees.. Progress: 41%. Estimated remaining time: 2 minutes, 55 seconds.\n",
            "Growing trees.. Progress: 52%. Estimated remaining time: 2 minutes, 25 seconds.\n",
            "Growing trees.. Progress: 62%. Estimated remaining time: 1 minute, 55 seconds.\n",
            "Growing trees.. Progress: 72%. Estimated remaining time: 1 minute, 25 seconds.\n",
            "Growing trees.. Progress: 82%. Estimated remaining time: 54 seconds.\n",
            "Growing trees.. Progress: 92%. Estimated remaining time: 25 seconds.\n",
            "Growing trees.. Progress: 10%. Estimated remaining time: 4 minutes, 39 seconds.\n",
            "Growing trees.. Progress: 20%. Estimated remaining time: 4 minutes, 1 seconds.\n",
            "Growing trees.. Progress: 31%. Estimated remaining time: 3 minutes, 29 seconds.\n",
            "Growing trees.. Progress: 42%. Estimated remaining time: 2 minutes, 55 seconds.\n",
            "Growing trees.. Progress: 53%. Estimated remaining time: 2 minutes, 21 seconds.\n",
            "Growing trees.. Progress: 63%. Estimated remaining time: 1 minute, 50 seconds.\n",
            "Growing trees.. Progress: 73%. Estimated remaining time: 1 minute, 20 seconds.\n",
            "Growing trees.. Progress: 84%. Estimated remaining time: 49 seconds.\n",
            "Growing trees.. Progress: 94%. Estimated remaining time: 18 seconds.\n",
            "Growing trees.. Progress: 10%. Estimated remaining time: 4 minutes, 39 seconds.\n",
            "Growing trees.. Progress: 20%. Estimated remaining time: 4 minutes, 4 seconds.\n",
            "Growing trees.. Progress: 31%. Estimated remaining time: 3 minutes, 33 seconds.\n",
            "Growing trees.. Progress: 41%. Estimated remaining time: 3 minutes, 2 seconds.\n",
            "Growing trees.. Progress: 51%. Estimated remaining time: 2 minutes, 30 seconds.\n",
            "Growing trees.. Progress: 61%. Estimated remaining time: 1 minute, 58 seconds.\n",
            "Growing trees.. Progress: 72%. Estimated remaining time: 1 minute, 26 seconds.\n",
            "Growing trees.. Progress: 82%. Estimated remaining time: 54 seconds.\n",
            "Growing trees.. Progress: 92%. Estimated remaining time: 23 seconds.\n",
            "Growing trees.. Progress: 10%. Estimated remaining time: 4 minutes, 32 seconds.\n",
            "Growing trees.. Progress: 21%. Estimated remaining time: 3 minutes, 53 seconds.\n",
            "Growing trees.. Progress: 32%. Estimated remaining time: 3 minutes, 21 seconds.\n",
            "Growing trees.. Progress: 42%. Estimated remaining time: 2 minutes, 52 seconds.\n",
            "Growing trees.. Progress: 52%. Estimated remaining time: 2 minutes, 21 seconds.\n",
            "Growing trees.. Progress: 63%. Estimated remaining time: 1 minute, 49 seconds.\n",
            "Growing trees.. Progress: 74%. Estimated remaining time: 1 minute, 18 seconds.\n",
            "Growing trees.. Progress: 84%. Estimated remaining time: 46 seconds.\n",
            "Growing trees.. Progress: 95%. Estimated remaining time: 14 seconds.\n",
            "20250902 044934\t500\t30\t307\t11\t5\t243700000\t20\n"
          ]
        },
        {
          "output_type": "stream",
          "name": "stderr",
          "text": [
            "[mbo] 4: num.trees=500; max.depth=30; min.node.size=307; mtry=11 : y = 2.44e+08 : 1636.5 secs : infill_ei\n",
            "\n",
            "Saved the current state after iteration 5 in the file HT450.RDATA.\n",
            "\n",
            "Warning message in generateDesign(control$infill.opt.focussearch.points, ps.local, :\n",
            "“generateDesign could only produce 396 points instead of 1000!”\n",
            "Warning message in generateDesign(control$infill.opt.focussearch.points, ps.local, :\n",
            "“generateDesign could only produce 510 points instead of 1000!”\n"
          ]
        },
        {
          "output_type": "stream",
          "name": "stdout",
          "text": [
            "20250902 045140\t20\t7\t1\t50\t5\t214640000\t21\n"
          ]
        },
        {
          "output_type": "stream",
          "name": "stderr",
          "text": [
            "[mbo] 5: num.trees=20; max.depth=7; min.node.size=1; mtry=50 : y = 2.15e+08 : 125.8 secs : infill_ei\n",
            "\n",
            "Warning message in generateDesign(control$infill.opt.focussearch.points, ps.local, :\n",
            "“generateDesign could only produce 991 points instead of 1000!”\n",
            "Warning message in generateDesign(control$infill.opt.focussearch.points, ps.local, :\n",
            "“generateDesign could only produce 807 points instead of 1000!”\n"
          ]
        }
      ]
    },
    {
      "cell_type": "code",
      "source": [
        "# analizo la salida de la bayesiana\n",
        "\n",
        "tb_bayesiana <- fread(klog)\n",
        "setorder( tb_bayesiana, -ganancia)\n",
        "tb_bayesiana"
      ],
      "metadata": {
        "id": "eP-AGz8RQgK0"
      },
      "execution_count": null,
      "outputs": []
    },
    {
      "cell_type": "code",
      "source": [
        "# mejores parametros\n",
        "\n",
        "print( tb_bayesiana[1] )"
      ],
      "metadata": {
        "id": "wQa-hrsVQkmq"
      },
      "execution_count": null,
      "outputs": []
    },
    {
      "cell_type": "code",
      "source": [
        "format(Sys.time(), \"%a %b %d %X %Y\")"
      ],
      "metadata": {
        "id": "LDz-Yl3UPwph"
      },
      "execution_count": null,
      "outputs": []
    },
    {
      "cell_type": "markdown",
      "source": [
        "Una vez que se impriman los mejores hiperparametros proceder:\n",
        "\n",
        "\n",
        "1.   Copielos en el punto 4.04  en la celda donde se define PARAM\n",
        "2.   Ejecute el punto 4.04 con estos hiperparámetros optimos\n",
        "2.   Reporte el resultado en la hoja  **C4-RF Bayesiana**  de la  planilla colaborativa\n",
        "\n"
      ],
      "metadata": {
        "id": "VLNvdg1eN5vw"
      }
    },
    {
      "cell_type": "markdown",
      "metadata": {
        "id": "0vu-1vf5LrVg"
      },
      "source": [
        "\n",
        "\n",
        "---\n",
        "\n"
      ]
    }
  ]
}