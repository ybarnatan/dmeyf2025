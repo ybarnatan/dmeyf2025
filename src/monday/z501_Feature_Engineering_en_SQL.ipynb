{
 "cells": [
  {
   "cell_type": "markdown",
   "metadata": {
    "id": "azY5Q6Mko4Sm"
   },
   "source": [
    "# Feature Engineering en SQL\n",
    "\n",
    "A continuación, veremos cómo calcular diferentes variables para el feature engineering utilizando SQL.\n"
   ]
  },
  {
   "cell_type": "code",
   "execution_count": null,
   "metadata": {
    "colab": {
     "base_uri": "https://localhost:8080/"
    },
    "executionInfo": {
     "elapsed": 23982,
     "status": "ok",
     "timestamp": 1756847820352,
     "user": {
      "displayName": "Alejandro Bolaños",
      "userId": "15513030842131101305"
     },
     "user_tz": 180
    },
    "id": "v--Kr-4KdWVe",
    "outputId": "3630c89c-1275-412c-f6c4-e542d0f896d9"
   },
   "outputs": [],
   "source": [
    "%pip install duckdb\n",
    "%pip install jupysql\n",
    "%pip install duckdb-engine"
   ]
  },
  {
   "cell_type": "code",
   "execution_count": null,
   "metadata": {
    "colab": {
     "base_uri": "https://localhost:8080/"
    },
    "executionInfo": {
     "elapsed": 5,
     "status": "ok",
     "timestamp": 1756847850614,
     "user": {
      "displayName": "Alejandro Bolaños",
      "userId": "15513030842131101305"
     },
     "user_tz": 180
    },
    "id": "id9aIXnzqYJz",
    "outputId": "68161c06-52d5-4f3a-c88d-432543b1e250"
   },
   "outputs": [],
   "source": [
    "import duckdb\n",
    "import pandas as pd\n",
    "\n",
    "%load_ext sql\n",
    "%config SqlMagic.autopandas = True\n",
    "%config SqlMagic.feedback = False\n",
    "%config SqlMagic.displaycon = False\n",
    "\n",
    "%sql duckdb://"
   ]
  },
  {
   "cell_type": "code",
   "execution_count": null,
   "metadata": {
    "executionInfo": {
     "elapsed": 4,
     "status": "ok",
     "timestamp": 1756847855240,
     "user": {
      "displayName": "Alejandro Bolaños",
      "userId": "15513030842131101305"
     },
     "user_tz": 180
    },
    "id": "N0RgV3r1q_iY"
   },
   "outputs": [],
   "source": [
    "dataset_path = '/content/drive/MyDrive/DMEyF/2025/datos/'\n",
    "dataset_file = 'competencia_01.csv'"
   ]
  },
  {
   "cell_type": "code",
   "execution_count": null,
   "metadata": {
    "colab": {
     "base_uri": "https://localhost:8080/",
     "height": 85,
     "referenced_widgets": [
      "cb2587b6a62044359b708ff0cff456f2",
      "bd86fc68727243e8899e967370282359",
      "e9aedf07ee9b46a09d29ed2df7776c53"
     ]
    },
    "executionInfo": {
     "elapsed": 21886,
     "status": "ok",
     "timestamp": 1756847878541,
     "user": {
      "displayName": "Alejandro Bolaños",
      "userId": "15513030842131101305"
     },
     "user_tz": 180
    },
    "id": "9HTjzrU5rEa6",
    "outputId": "b60992ab-8566-41a1-a751-975b9c8a281c"
   },
   "outputs": [],
   "source": [
    "%%sql\n",
    "create or replace table competencia_01 as\n",
    "select\n",
    "    *\n",
    "from read_csv_auto(\"{{dataset_path + dataset_file}}\")"
   ]
  },
  {
   "cell_type": "code",
   "execution_count": null,
   "metadata": {
    "colab": {
     "base_uri": "https://localhost:8080/",
     "height": 363
    },
    "executionInfo": {
     "elapsed": 41,
     "status": "ok",
     "timestamp": 1756847880749,
     "user": {
      "displayName": "Alejandro Bolaños",
      "userId": "15513030842131101305"
     },
     "user_tz": 180
    },
    "id": "GogfRFXvBQTH",
    "outputId": "e295daf3-8a60-4bfe-b8f6-991864b7aec2"
   },
   "outputs": [],
   "source": [
    "%%sql\n",
    "select\n",
    "    Master_Fvencimiento\n",
    "    , Visa_Fvencimiento\n",
    "    , greatest(Master_Fvencimiento, Visa_Fvencimiento) as tc_fvencimiento_mayor\n",
    "    , least(Master_Fvencimiento, Visa_Fvencimiento) as tc_fvencimiento_menor\n",
    "from competencia_01 limit 10"
   ]
  },
  {
   "cell_type": "markdown",
   "metadata": {
    "id": "27TYf5UXBfVC"
   },
   "source": [
    "Lo siguiente es querer operar dos variables, como por ejemplo sumarla. Esto es sencillo\n"
   ]
  },
  {
   "cell_type": "code",
   "execution_count": null,
   "metadata": {
    "colab": {
     "base_uri": "https://localhost:8080/",
     "height": 363
    },
    "executionInfo": {
     "elapsed": 28,
     "status": "ok",
     "timestamp": 1756847888330,
     "user": {
      "displayName": "Alejandro Bolaños",
      "userId": "15513030842131101305"
     },
     "user_tz": 180
    },
    "id": "zQjwuGwxBeuz",
    "outputId": "819cdfac-a8b2-4a5c-c3e9-05e6b3b99075"
   },
   "outputs": [],
   "source": [
    "%%sql\n",
    "select\n",
    "    Master_msaldototal\n",
    "    , Visa_msaldototal\n",
    "    , Master_msaldototal + Visa_msaldototal as tc_saldo_total\n",
    "from competencia_01 limit 10"
   ]
  },
  {
   "cell_type": "markdown",
   "metadata": {
    "id": "DyzGLXh1Brrt"
   },
   "source": [
    "Pero un DS de a de veras mirará los datos y se encontrará con un campo que es null cuando se lo suma a otro dará null."
   ]
  },
  {
   "cell_type": "code",
   "execution_count": null,
   "metadata": {
    "colab": {
     "base_uri": "https://localhost:8080/",
     "height": 363
    },
    "executionInfo": {
     "elapsed": 31,
     "status": "ok",
     "timestamp": 1756847895940,
     "user": {
      "displayName": "Alejandro Bolaños",
      "userId": "15513030842131101305"
     },
     "user_tz": 180
    },
    "id": "cVjjQbOFBsZe",
    "outputId": "a404782a-fbb8-4f15-c686-7589fd3d346e"
   },
   "outputs": [],
   "source": [
    "%%sql\n",
    "select\n",
    "    Master_msaldototal\n",
    "    , Visa_msaldototal\n",
    "    , Master_msaldototal + Visa_msaldototal as tc_saldo_total\n",
    "from competencia_01 where Master_msaldototal is null limit 10"
   ]
  },
  {
   "cell_type": "markdown",
   "metadata": {
    "id": "rEMjzN2iCRd5"
   },
   "source": [
    "Esto no siempre es deseable y puede ser fácilmente evitable"
   ]
  },
  {
   "cell_type": "code",
   "execution_count": null,
   "metadata": {
    "colab": {
     "base_uri": "https://localhost:8080/",
     "height": 363
    },
    "executionInfo": {
     "elapsed": 29,
     "status": "ok",
     "timestamp": 1756847913055,
     "user": {
      "displayName": "Alejandro Bolaños",
      "userId": "15513030842131101305"
     },
     "user_tz": 180
    },
    "id": "iRYuh1xiCNgy",
    "outputId": "1da63349-c2ed-4e8c-c663-b8e95ad7b92a"
   },
   "outputs": [],
   "source": [
    "%%sql\n",
    "select\n",
    "    Master_msaldototal\n",
    "    , Visa_msaldototal\n",
    "    , ifnull(Master_msaldototal, 0) + ifnull(Visa_msaldototal, 0) as tc_saldo_total\n",
    "from competencia_01 limit 10"
   ]
  },
  {
   "cell_type": "markdown",
   "metadata": {
    "id": "MZYu7eAJCYa_"
   },
   "source": []
  },
  {
   "cell_type": "code",
   "execution_count": null,
   "metadata": {
    "colab": {
     "base_uri": "https://localhost:8080/",
     "height": 53
    },
    "executionInfo": {
     "elapsed": 12,
     "status": "ok",
     "timestamp": 1756847916744,
     "user": {
      "displayName": "Alejandro Bolaños",
      "userId": "15513030842131101305"
     },
     "user_tz": 180
    },
    "id": "KmOP6dcaCYKR",
    "outputId": "b94bd5a2-2675-410e-fc8f-214d589b3ff1"
   },
   "outputs": [],
   "source": [
    "%%sql\n",
    "CREATE OR REPLACE MACRO suma_sin_null(a, b) AS ifnull(a, 0) + ifnull(b, 0);\n"
   ]
  },
  {
   "cell_type": "code",
   "execution_count": null,
   "metadata": {
    "colab": {
     "base_uri": "https://localhost:8080/",
     "height": 363
    },
    "executionInfo": {
     "elapsed": 74,
     "status": "ok",
     "timestamp": 1756847923449,
     "user": {
      "displayName": "Alejandro Bolaños",
      "userId": "15513030842131101305"
     },
     "user_tz": 180
    },
    "id": "UZMmNnxOHRn-",
    "outputId": "c87179ce-6ab8-49ca-d5b9-1c889da53e3c"
   },
   "outputs": [],
   "source": [
    "%%sql\n",
    "select distinct\n",
    "    Master_msaldototal\n",
    "    , Visa_msaldototal\n",
    "    , suma_sin_null(Master_msaldototal, Visa_msaldototal) as tc_saldo_total\n",
    "from competencia_01 where Master_msaldototal is null limit 10\n"
   ]
  },
  {
   "cell_type": "markdown",
   "metadata": {
    "id": "ZL2Ui5fDI3lu"
   },
   "source": [
    "TAREA: Escriba una macro para hacer un ratio de dos variables que sea seguro, donde no solo hay campos con null, también esta el problema de la división por cero. Como es costumbre comparta su solución por este canal. Lea https://duckdb.org/docs/sql/functions/numeric.html para referencias de funciones que puede usar.\n",
    "\n",
    "---\n",
    "\n",
    "\"Claro!\" me dirá, mientras lee esto con un mate en la mano, \"para cosas fáciles usar SQL alcanza, pero para algo más complicado como crear campos contra el data drifting es difícil\".... elija su medicina:"
   ]
  },
  {
   "cell_type": "code",
   "execution_count": null,
   "metadata": {
    "colab": {
     "base_uri": "https://localhost:8080/",
     "height": 424
    },
    "executionInfo": {
     "elapsed": 2618,
     "status": "ok",
     "timestamp": 1756847931371,
     "user": {
      "displayName": "Alejandro Bolaños",
      "userId": "15513030842131101305"
     },
     "user_tz": 180
    },
    "id": "lwFjk5_9JAhC",
    "outputId": "602069c7-c5f5-46ef-8e73-f44126add532"
   },
   "outputs": [],
   "source": [
    "%%sql\n",
    "select\n",
    "    foto_mes\n",
    "    , numero_de_cliente\n",
    "    , cliente_antiguedad\n",
    "    , row_number() over (partition by numero_de_cliente order by foto_mes) as cliente_antiguedad_2\n",
    "    , percent_rank() over (partition by foto_mes order by cliente_antiguedad) as cliente_antiguedad_3\n",
    "    , cume_dist() over (partition by foto_mes order by cliente_antiguedad) as cliente_antiguedad_4\n",
    "    , ntile(4) over (partition by foto_mes order by cliente_antiguedad) as cliente_antiguedad_5\n",
    "    , ntile(10) over (partition by foto_mes order by cliente_antiguedad) as cliente_antiguedad_6\n",
    "from competencia_01\n",
    "order by numero_de_cliente, cliente_antiguedad\n"
   ]
  },
  {
   "cell_type": "markdown",
   "metadata": {
    "id": "weXY2U2oLHFd"
   },
   "source": [
    "Qué paso? use las hermosas funciones analíticas de SQL. Al campo cliente_antiguedad (que no sufre de data drifting, solo esta para dar el ejemplo) para cada período (partition by foto_mes) la ordeno (order by cliente_antiguedad) y luego calculo las métricas de orden que pueden encontrar acá https://duckdb.org/docs/sql/window_functions.html#general-purpose-window-functions.\n",
    "\n",
    "Seguiremos usando las funciones analíticas de SQL, esta vez para calcular features que utilizan valores del pasado.\n",
    "\n",
    "Qué pasa si quiero agregar un feature que muestre el valor del periodo anterior?\n"
   ]
  },
  {
   "cell_type": "code",
   "execution_count": null,
   "metadata": {
    "colab": {
     "base_uri": "https://localhost:8080/",
     "height": 363
    },
    "executionInfo": {
     "elapsed": 644,
     "status": "ok",
     "timestamp": 1756847943532,
     "user": {
      "displayName": "Alejandro Bolaños",
      "userId": "15513030842131101305"
     },
     "user_tz": 180
    },
    "id": "PeE8H0BZLF4q",
    "outputId": "b9dda3e7-ee28-48b3-c1fc-a5ce4a2dc8c6"
   },
   "outputs": [],
   "source": [
    "%%sql\n",
    "select\n",
    "  numero_de_cliente\n",
    "  , foto_mes\n",
    "  , ctrx_quarter\n",
    "  , lag(ctrx_quarter, 1) over (partition by numero_de_cliente order by foto_mes) as lag_1_ctrx_quarter\n",
    "from competencia_01\n",
    "limit 10\n"
   ]
  },
  {
   "cell_type": "markdown",
   "metadata": {
    "id": "YArVBpb8LSGL"
   },
   "source": [
    "Podemos calcular el delta (diferencia) entre el valor pasado y el presente, para uno o varios meses\n"
   ]
  },
  {
   "cell_type": "code",
   "execution_count": null,
   "metadata": {
    "colab": {
     "base_uri": "https://localhost:8080/",
     "height": 363
    },
    "executionInfo": {
     "elapsed": 357,
     "status": "ok",
     "timestamp": 1756847946967,
     "user": {
      "displayName": "Alejandro Bolaños",
      "userId": "15513030842131101305"
     },
     "user_tz": 180
    },
    "id": "3fzJHwWsLU2u",
    "outputId": "f4209e7e-bce9-4edd-9911-a8c295b8d57d"
   },
   "outputs": [],
   "source": [
    "%%sql\n",
    "select\n",
    "  numero_de_cliente\n",
    "  , foto_mes\n",
    "  , ctrx_quarter\n",
    "  , lag(ctrx_quarter, 1) over (partition by numero_de_cliente order by foto_mes) as lag_1_ctrx_quarter\n",
    "  , ctrx_quarter - lag_1_ctrx_quarter as delta_1_ctrx_quarter\n",
    "  , ctrx_quarter - lag(ctrx_quarter, 2) over (partition by numero_de_cliente order by foto_mes) as lag_2_ctrx_quarter\n",
    "from competencia_01\n",
    "limit 10\n"
   ]
  },
  {
   "cell_type": "markdown",
   "metadata": {
    "id": "5_sDG_hmLdh6"
   },
   "source": [
    "Si necesitamos ya no solo traer un valor del pasado, sino una secuencia de valores, por ejemplo para calcular la media móvil con los últimos 3 meses anteriores? se puede hacer fácilmente\n"
   ]
  },
  {
   "cell_type": "code",
   "execution_count": null,
   "metadata": {
    "colab": {
     "base_uri": "https://localhost:8080/",
     "height": 363
    },
    "executionInfo": {
     "elapsed": 794,
     "status": "ok",
     "timestamp": 1756847952677,
     "user": {
      "displayName": "Alejandro Bolaños",
      "userId": "15513030842131101305"
     },
     "user_tz": 180
    },
    "id": "c_qtb1HzLXn5",
    "outputId": "66a28a18-93ed-4096-a608-b0e17efb2b2b"
   },
   "outputs": [],
   "source": [
    "%%sql\n",
    "select\n",
    "  numero_de_cliente\n",
    "  , foto_mes\n",
    "  , ctrx_quarter\n",
    "  , lag(ctrx_quarter, 1) over (partition by numero_de_cliente order by foto_mes) as lag_1_ctrx_quarter\n",
    "  , lag(ctrx_quarter, 2) over (partition by numero_de_cliente order by foto_mes) as lag_2_ctrx_quarter\n",
    "  , lag(ctrx_quarter, 3) over (partition by numero_de_cliente order by foto_mes) as lag_3_ctrx_quarter\n",
    "  , avg(ctrx_quarter) over (partition by numero_de_cliente\n",
    "                            order by foto_mes\n",
    "                            rows between 3 preceding and current row) as avg_3_ctrx_quarter\n",
    "from competencia_01\n",
    "order by numero_de_cliente, foto_mes desc\n",
    "limit 10\n"
   ]
  },
  {
   "cell_type": "markdown",
   "metadata": {
    "id": "_dRgwDh-Mml8"
   },
   "source": [
    "Si embargo puede resultar incómodo escribir constantemente el over partition sobre todo si se buscan aplicar muchas veces para distintas funciones. Para reducir el código se puede usar la siguiente sintaxis\n",
    "\n"
   ]
  },
  {
   "cell_type": "code",
   "execution_count": null,
   "metadata": {
    "colab": {
     "base_uri": "https://localhost:8080/",
     "height": 363
    },
    "executionInfo": {
     "elapsed": 589,
     "status": "ok",
     "timestamp": 1756847961579,
     "user": {
      "displayName": "Alejandro Bolaños",
      "userId": "15513030842131101305"
     },
     "user_tz": 180
    },
    "id": "-w7q2f9DMkqy",
    "outputId": "701a8f33-1b63-4a94-b395-1403676cd66c"
   },
   "outputs": [],
   "source": [
    "%%sql\n",
    "select\n",
    "  numero_de_cliente\n",
    "  , foto_mes\n",
    "  , ctrx_quarter\n",
    "  , avg(ctrx_quarter) over ventana_3 as ctrx_quarter_media_3\n",
    "  , max(ctrx_quarter) over ventana_3 as ctrx_quarter_max_3\n",
    "  , min(ctrx_quarter) over ventana_3 as ctrx_quarter_min_3\n",
    "from competencia_01\n",
    "window ventana_3 as (partition by numero_de_cliente order by foto_mes rows between 3 preceding and current row)\n",
    "limit 10\n"
   ]
  },
  {
   "cell_type": "markdown",
   "metadata": {
    "id": "t1cd9CbqMzNy"
   },
   "source": [
    "Para saber más que funciones tenemos disponibles, recomiendo ver los siguientes links:\n",
    "\n",
    "https://duckdb.org/docs/archive/0.8.1/sql/window_functions\n",
    "https://duckdb.org/docs/archive/0.8.1/sql/aggregates\n",
    "Un caso más, que ni me voy a molestar en explicar que significa...\n"
   ]
  },
  {
   "cell_type": "code",
   "execution_count": null,
   "metadata": {
    "colab": {
     "base_uri": "https://localhost:8080/",
     "height": 363
    },
    "executionInfo": {
     "elapsed": 738,
     "status": "ok",
     "timestamp": 1756847969258,
     "user": {
      "displayName": "Alejandro Bolaños",
      "userId": "15513030842131101305"
     },
     "user_tz": 180
    },
    "id": "8_y8BipcM18A",
    "outputId": "7814f1ca-feac-4600-86c2-adca321b22bf"
   },
   "outputs": [],
   "source": [
    "%%sql\n",
    "select\n",
    "  numero_de_cliente\n",
    "  , foto_mes\n",
    "  , ctrx_quarter\n",
    "  ,regr_slope(ctrx_quarter, cliente_antiguedad) over ventana_3 as ctrx_quarter_slope_3\n",
    "from competencia_01\n",
    "window ventana_3 as (partition by numero_de_cliente order by foto_mes rows between 3 preceding and current row)\n",
    "limit 10\n"
   ]
  },
  {
   "cell_type": "markdown",
   "metadata": {
    "id": "RbJ3KvPONDaM"
   },
   "source": [
    "... Alguno dirá \"tenemos que escribir todo esto a mano? Son muchas variables!\". Bueno no, use los conocimientos de programación para que la computadora trabaje para usted. Si tenemos una lista de campos\n"
   ]
  },
  {
   "cell_type": "code",
   "execution_count": null,
   "metadata": {
    "executionInfo": {
     "elapsed": 36,
     "status": "ok",
     "timestamp": 1756847992759,
     "user": {
      "displayName": "Alejandro Bolaños",
      "userId": "15513030842131101305"
     },
     "user_tz": 180
    },
    "id": "h1IVd_8wNJnY"
   },
   "outputs": [],
   "source": [
    "campos = ['active_quarter', 'cliente_vip', 'internet', 'cliente_edad', 'cliente_antiguedad', 'mrentabilidad']\n"
   ]
  },
  {
   "cell_type": "markdown",
   "metadata": {
    "id": "TgxdmjPcPiT5"
   },
   "source": [
    "Podemos hacer un script muy sencillo que nos genere el texto que hay que poner en una query para generar esas variables\n"
   ]
  },
  {
   "cell_type": "code",
   "execution_count": null,
   "metadata": {
    "colab": {
     "base_uri": "https://localhost:8080/"
    },
    "executionInfo": {
     "elapsed": 6,
     "status": "ok",
     "timestamp": 1756847998329,
     "user": {
      "displayName": "Alejandro Bolaños",
      "userId": "15513030842131101305"
     },
     "user_tz": 180
    },
    "id": "FRj7or7LPk6i",
    "outputId": "95c5c65d-fc64-41cf-ce8e-49242ee38eb4"
   },
   "outputs": [],
   "source": [
    "nuevos_features = \"\"\n",
    "for campo in campos:\n",
    "  nuevos_features += f\"\\n, regr_slope({campo}, cliente_antiguedad) over ventana_3 as ctrx_{campo}_slope_3\"\n",
    "print(nuevos_features)\n"
   ]
  },
  {
   "cell_type": "markdown",
   "metadata": {
    "id": "K1UYXVfrRYd7"
   },
   "source": []
  },
  {
   "cell_type": "markdown",
   "metadata": {
    "id": "uViiql3Kp4jr"
   },
   "source": [
    "\n",
    "\n",
    "\n",
    "Con la salida de esa celda, arme la query agregando las nuevas líneas y la ejecuta.\n",
    "\n",
    "Lo que acabamos de hacer de manera muy simple es como \"funcionan\" sistemas como **dbt** que están tan de moda en el mundo de los datos.\n",
    "\n",
    "La última reflexión, la creación de nuevas features es un proceso computacionalmente rápido pero intenso. Si ejecutó lo anterior pudo haber visto que en poco minutos tenía sus nuevas variables. Pero, también pudo haberle fallado por temas de recursos. Miles de variables necesitan los recursos adecuados. Use la nube, una máquina grande, al menos que sepa bien como optimizar las queries.\n"
   ]
  },
  {
   "cell_type": "markdown",
   "metadata": {
    "id": "8kpwYKQzRaU7"
   },
   "source": [
    "Y a no olvidarse guardar las nueva tabla"
   ]
  },
  {
   "cell_type": "code",
   "execution_count": null,
   "metadata": {
    "id": "pTQNkXCxRQc5"
   },
   "outputs": [],
   "source": [
    "%%sql\n",
    "COPY competencia_01 TO '{dataset_path}competencia_01_fe.csv' (FORMAT CSV, HEADER TRUE);\n"
   ]
  }
 ],
 "metadata": {
  "colab": {
   "authorship_tag": "ABX9TyOrr1gmuTpdsmnrIF4V7UP8",
   "mount_file_id": "114JJwqGN5DdisFvxLOF9e09Evl78-2IQ",
   "provenance": []
  },
  "kernelspec": {
   "display_name": "Python 3",
   "name": "python3"
  },
  "language_info": {
   "name": "python"
  },
  "widgets": {
   "application/vnd.jupyter.widget-state+json": {
    "bd86fc68727243e8899e967370282359": {
     "model_module": "@jupyter-widgets/base",
     "model_module_version": "1.2.0",
     "model_name": "LayoutModel",
     "state": {
      "_model_module": "@jupyter-widgets/base",
      "_model_module_version": "1.2.0",
      "_model_name": "LayoutModel",
      "_view_count": null,
      "_view_module": "@jupyter-widgets/base",
      "_view_module_version": "1.2.0",
      "_view_name": "LayoutView",
      "align_content": null,
      "align_items": null,
      "align_self": null,
      "border": null,
      "bottom": null,
      "display": null,
      "flex": null,
      "flex_flow": null,
      "grid_area": null,
      "grid_auto_columns": null,
      "grid_auto_flow": null,
      "grid_auto_rows": null,
      "grid_column": null,
      "grid_gap": null,
      "grid_row": null,
      "grid_template_areas": null,
      "grid_template_columns": null,
      "grid_template_rows": null,
      "height": null,
      "justify_content": null,
      "justify_items": null,
      "left": null,
      "margin": null,
      "max_height": null,
      "max_width": null,
      "min_height": null,
      "min_width": null,
      "object_fit": null,
      "object_position": null,
      "order": null,
      "overflow": null,
      "overflow_x": null,
      "overflow_y": null,
      "padding": null,
      "right": null,
      "top": null,
      "visibility": null,
      "width": "auto"
     }
    },
    "cb2587b6a62044359b708ff0cff456f2": {
     "model_module": "@jupyter-widgets/controls",
     "model_module_version": "1.5.0",
     "model_name": "FloatProgressModel",
     "state": {
      "_dom_classes": [],
      "_model_module": "@jupyter-widgets/controls",
      "_model_module_version": "1.5.0",
      "_model_name": "FloatProgressModel",
      "_view_count": null,
      "_view_module": "@jupyter-widgets/controls",
      "_view_module_version": "1.5.0",
      "_view_name": "ProgressView",
      "bar_style": "",
      "description": "",
      "description_tooltip": null,
      "layout": "IPY_MODEL_bd86fc68727243e8899e967370282359",
      "max": 100,
      "min": 0,
      "orientation": "horizontal",
      "style": "IPY_MODEL_e9aedf07ee9b46a09d29ed2df7776c53",
      "value": 100
     }
    },
    "e9aedf07ee9b46a09d29ed2df7776c53": {
     "model_module": "@jupyter-widgets/controls",
     "model_module_version": "1.5.0",
     "model_name": "ProgressStyleModel",
     "state": {
      "_model_module": "@jupyter-widgets/controls",
      "_model_module_version": "1.5.0",
      "_model_name": "ProgressStyleModel",
      "_view_count": null,
      "_view_module": "@jupyter-widgets/base",
      "_view_module_version": "1.2.0",
      "_view_name": "StyleView",
      "bar_color": "black",
      "description_width": ""
     }
    }
   }
  }
 },
 "nbformat": 4,
 "nbformat_minor": 0
}
