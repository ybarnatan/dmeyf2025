{
 "cells": [
  {
   "cell_type": "markdown",
   "metadata": {
    "id": "FX-Vq4mgJS_t"
   },
   "source": [
    "# Segmentando clientes\n",
    "\n",
    "En esta notebook se verá una forma sobre como segmentar a los clientes, cuando cuenta con una gran cantidad de estos sobre una base de datos de una gran (?) cantidad de dimensiones.\n",
    "\n",
    "Empezaremos cargando el entorno e instalando los requerimentos necesarios."
   ]
  },
  {
   "cell_type": "code",
   "execution_count": null,
   "metadata": {
    "executionInfo": {
     "elapsed": 3,
     "status": "ok",
     "timestamp": 1756861630841,
     "user": {
      "displayName": "Alejandro Bolaños",
      "userId": "15513030842131101305"
     },
     "user_tz": 180
    },
    "id": "CqrQIDd8JRlJ"
   },
   "outputs": [],
   "source": [
    "# %pip install umap-learn"
   ]
  },
  {
   "cell_type": "code",
   "execution_count": null,
   "metadata": {
    "executionInfo": {
     "elapsed": 13,
     "status": "ok",
     "timestamp": 1756861630860,
     "user": {
      "displayName": "Alejandro Bolaños",
      "userId": "15513030842131101305"
     },
     "user_tz": 180
    },
    "id": "T8x1jAl_kqFt"
   },
   "outputs": [],
   "source": [
    "import pandas as pd\n",
    "import numpy as np\n",
    "import seaborn as sns\n",
    "\n",
    "from umap import UMAP\n",
    "import matplotlib.pyplot as plt\n",
    "from sklearn.cluster import DBSCAN\n",
    "from sklearn.ensemble import  RandomForestClassifier\n",
    "from sklearn.impute import SimpleImputer"
   ]
  },
  {
   "cell_type": "code",
   "execution_count": null,
   "metadata": {
    "executionInfo": {
     "elapsed": 11,
     "status": "ok",
     "timestamp": 1756861630870,
     "user": {
      "displayName": "Alejandro Bolaños",
      "userId": "15513030842131101305"
     },
     "user_tz": 180
    },
    "id": "R58qDmLYtVXk"
   },
   "outputs": [],
   "source": [
    "base_path = '/content/drive/MyDrive/DMEyF/2025/'\n",
    "dataset_path = base_path + 'datos/'\n",
    "modelos_path = base_path + 'modelos/'\n",
    "db_path = base_path + 'db/'\n",
    "dataset_file = 'competencia_01.csv'"
   ]
  },
  {
   "cell_type": "code",
   "execution_count": null,
   "metadata": {
    "executionInfo": {
     "elapsed": 24457,
     "status": "ok",
     "timestamp": 1756861655328,
     "user": {
      "displayName": "Alejandro Bolaños",
      "userId": "15513030842131101305"
     },
     "user_tz": 180
    },
    "id": "bpzFTT_HkzLx"
   },
   "outputs": [],
   "source": [
    "df_train = pd.read_csv(dataset_path + dataset_file)"
   ]
  },
  {
   "cell_type": "markdown",
   "metadata": {
    "id": "AEDRaksFthSF"
   },
   "source": [
    "Solo segmentaremos a los clientes de abril, dado que necesitaremos variables en algún momento agregar variables históricas para entender su comportamiento previo a la **baja**"
   ]
  },
  {
   "cell_type": "code",
   "execution_count": null,
   "metadata": {
    "executionInfo": {
     "elapsed": 411,
     "status": "ok",
     "timestamp": 1756861655755,
     "user": {
      "displayName": "Alejandro Bolaños",
      "userId": "15513030842131101305"
     },
     "user_tz": 180
    },
    "id": "MNZ1Vrg4k9r8"
   },
   "outputs": [],
   "source": [
    "df_train = df_train[df_train['foto_mes']==202104]"
   ]
  },
  {
   "cell_type": "markdown",
   "metadata": {
    "id": "yR9XFSG4t5We"
   },
   "source": [
    "A su vez, nos concentraremos en el fenómeno de la **baja**. No importa si es en un mes o si es en dos."
   ]
  },
  {
   "cell_type": "code",
   "execution_count": null,
   "metadata": {
    "executionInfo": {
     "elapsed": 167,
     "status": "ok",
     "timestamp": 1756861655925,
     "user": {
      "displayName": "Alejandro Bolaños",
      "userId": "15513030842131101305"
     },
     "user_tz": 180
    },
    "id": "sXUD6rxyk7VJ"
   },
   "outputs": [],
   "source": [
    "Xtrain = df_train\n",
    "ytrain = Xtrain[\"clase_ternaria\"].map(lambda x: 0 if x == \"CONTINUA\" else 1)\n",
    "Xtrain = Xtrain.drop(\"clase_ternaria\", axis=1)\n",
    "\n",
    "del(df_train)"
   ]
  },
  {
   "cell_type": "markdown",
   "metadata": {
    "id": "5FR1cavzuEaB"
   },
   "source": [
    "Lo primero que necesitamos es saber cuando un cliente es parecido a otro. Todos los clientes que son parecidos los juntaremos en un **segmento** y sobre esos segmentos haremos perfilados o profiles para entender que los caracteriza.\n",
    "\n",
    "Saber cuando un cliente es parecido a otro no es algo tan simple en un problema de alta dimensionalidad, lo que se suele llamar **curse of dimensionality**. Las cosas no son lo mismo más allá de nuestras 3 escasas dimensiones. Para muestra, un botón: https://www.youtube.com/watch?v=mceaM2_zQd8\n",
    "\n",
    "Por esto, es conveniente usar herramientas que nos ayuden a no tener que hacer distancias euclídeas.\n",
    "\n",
    "Empecemos con una ayuda con nos dan nuestros amigos, los **rf** con una original matriz de distancias (https://en.wikipedia.org/wiki/Distance_matrix)"
   ]
  },
  {
   "cell_type": "markdown",
   "metadata": {
    "id": "r3_HXJFymRN3"
   },
   "source": [
    "La **Random Forest Distance** es una matriz derivada del algoritmo Random Forest,\n",
    "\n",
    "+ Se utiliza para medir la similitud entre pares de puntos de datos. Esta métrica se basa en la idea de cuántas veces dos puntos de datos terminan en la misma hoja de un árbol en un **rf**, entre los múltiples árboles que se generan.\n",
    "\n",
    "+ Cómo se Calcula?\n",
    "\n",
    " 1. Se entrena un **rf**.\n",
    " 2. Para cada par de clientes $c_i$ y $c_j$, se observa cuántas veces caen en la misma hoja a través de todos los árboles del bosque. Luego se agrega en la posición $i$, $j$ de una matriz el número de veces que coincidieron esos dos clientes en un nodo terminal.\n",
    " 3. Se calcula la matriz de distancia como **1 - proporción de veces que caen en la misma hoja**. Ejemplo: Si caen en la misma hoja el 90% de las veces, su distancia será 0.1. Si nunca caen en la misma hoja, la distancia es 1.\n",
    "\n",
    "Veamoslo aplicado en nuestro caso"
   ]
  },
  {
   "cell_type": "markdown",
   "metadata": {
    "id": "G9omJU4KnsVE"
   },
   "source": [
    "Para trabajar con este algoritmo no vamos a trabajar con todos los datos. Usted decida con cuantos trabajar. En este caso, tomaremos todos los **baja** y unos 2000 **continua**, ya que queremos como interactuan los segmentos de clientes que se van con los que se quedan.\n"
   ]
  },
  {
   "cell_type": "code",
   "execution_count": null,
   "metadata": {
    "executionInfo": {
     "elapsed": 56,
     "status": "ok",
     "timestamp": 1756861655984,
     "user": {
      "displayName": "Alejandro Bolaños",
      "userId": "15513030842131101305"
     },
     "user_tz": 180
    },
    "id": "4aqKBvj2nnrM"
   },
   "outputs": [],
   "source": [
    "np.random.seed(17)\n",
    "continua_sample = ytrain[ytrain == 0].sample(2000).index\n",
    "bajas_1_2 = ytrain[ytrain == 1].index\n",
    "rf_index = continua_sample.union(bajas_1_2)\n",
    "\n",
    "Xtrain_rf = Xtrain.loc[rf_index]\n",
    "ytrain_rf = ytrain.loc[rf_index]"
   ]
  },
  {
   "cell_type": "markdown",
   "metadata": {
    "id": "CFTvRro4yv2C"
   },
   "source": [
    "Entrenamos un simple **rf**, despliegue sus herramientas aprendidas para contar con un buen modelo\n"
   ]
  },
  {
   "cell_type": "code",
   "execution_count": null,
   "metadata": {
    "colab": {
     "base_uri": "https://localhost:8080/",
     "height": 80
    },
    "executionInfo": {
     "elapsed": 840,
     "status": "ok",
     "timestamp": 1756861656823,
     "user": {
      "displayName": "Alejandro Bolaños",
      "userId": "15513030842131101305"
     },
     "user_tz": 180
    },
    "id": "FQ1pNFwmzOc5",
    "outputId": "6b417200-b6a6-4f77-8f76-ae973b13fea6"
   },
   "outputs": [],
   "source": [
    "imp_mean = SimpleImputer(missing_values=np.nan, strategy='median')\n",
    "Xtrain_rf_imp = imp_mean.fit_transform(Xtrain_rf)\n",
    "\n",
    "model = RandomForestClassifier(n_estimators=100, max_features=20, min_samples_leaf=400, random_state=17 )\n",
    "model.fit(Xtrain_rf_imp, ytrain_rf)"
   ]
  },
  {
   "cell_type": "markdown",
   "metadata": {
    "id": "3WkehiTNzRrL"
   },
   "source": [
    "Armamos (copiamos de internet) una función que nos calcule la matriz de distancias"
   ]
  },
  {
   "cell_type": "code",
   "execution_count": null,
   "metadata": {
    "executionInfo": {
     "elapsed": 12206,
     "status": "ok",
     "timestamp": 1756861669027,
     "user": {
      "displayName": "Alejandro Bolaños",
      "userId": "15513030842131101305"
     },
     "user_tz": 180
    },
    "id": "Ab0UY9VAo1mj"
   },
   "outputs": [],
   "source": [
    "def distanceMatrix(model, X):\n",
    "\n",
    "    terminals = model.apply(X)\n",
    "    nTrees = terminals.shape[1]\n",
    "\n",
    "    a = terminals[:,0]\n",
    "    proxMat = 1*np.equal.outer(a, a)\n",
    "\n",
    "    for i in range(1, nTrees):\n",
    "        a = terminals[:,i]\n",
    "        proxMat += 1*np.equal.outer(a, a)\n",
    "\n",
    "    proxMat = proxMat / nTrees\n",
    "\n",
    "    return proxMat.max() - proxMat\n",
    "\n",
    "md = distanceMatrix(model, Xtrain_rf_imp)"
   ]
  },
  {
   "cell_type": "markdown",
   "metadata": {
    "id": "uBIZpRv4zfCu"
   },
   "source": [
    "Veamos como se ve. Recuerde que significa que un número esté cerca de 0 o que esté cerca de 1."
   ]
  },
  {
   "cell_type": "code",
   "execution_count": null,
   "metadata": {
    "colab": {
     "base_uri": "https://localhost:8080/"
    },
    "executionInfo": {
     "elapsed": 22,
     "status": "ok",
     "timestamp": 1756861669046,
     "user": {
      "displayName": "Alejandro Bolaños",
      "userId": "15513030842131101305"
     },
     "user_tz": 180
    },
    "id": "jM0crgSQqC5x",
    "outputId": "14658565-68a1-4832-9502-c48fdbe99383"
   },
   "outputs": [],
   "source": [
    "md"
   ]
  },
  {
   "cell_type": "markdown",
   "metadata": {
    "id": "xrhE0O2nzodC"
   },
   "source": [
    "Para poder visualizar la matriz, utilizaremos un embedding. Los *embeddings* son representaciones vectoriales de datos en un espacio de menor dimensión\n",
    "\n",
    "Podría utilizar un **PCA** con ese fin, pero en los últimos años hay mejores algoritmos como **t-sne** o **umap**.\n",
    "\n",
    "UMAP (Uniform Manifold Approximation and Projection) es una técnica avanzada para la reducción de dimensionalidad y visualización de datos en espacios de menor dimensión, que busca mantener al máximo la estructura de los datos en alta dimensión.\n",
    "\n",
    "1. **Preservación de la Estructura Global y Local**:\n",
    "   - Intenta preservar tanto la estructura local (relaciones cercanas) como la global (estructura general) de los datos al proyectarlos en un espacio de menor dimensión.\n",
    "\n",
    "2. **Basado en Manifold Learning**:\n",
    "   - UMAP asume que los datos de alta dimensión se encuentran en un espacio de menor dimensión (un \"manifold\") y busca proyectar esos datos de manera que se mantenga esa estructura subyacente.\n",
    "\n",
    "3. **Velocidad y Escalabilidad**:\n",
    "   - UMAP es más rápido y escalable en comparación con técnicas similares como t-SNE, especialmente en conjuntos de datos grandes.\n",
    "\n",
    "4. **Control sobre la Estructura**:\n",
    "   - UMAP permite al usuario ajustar parámetros que controlan la preservación de la estructura local y global, como el número de vecinos cercanos (n_neighbors) y la distancia mínima entre puntos (min_dist).\n",
    "\n",
    "Una característica adicional, es que cuenta con la posibilidad de recibir de entrada una matriz de distancia.\n",
    "\n",
    "Veamos los datos por primera vez:"
   ]
  },
  {
   "cell_type": "code",
   "execution_count": null,
   "metadata": {
    "colab": {
     "base_uri": "https://localhost:8080/",
     "height": 539
    },
    "executionInfo": {
     "elapsed": 10078,
     "status": "ok",
     "timestamp": 1756861679125,
     "user": {
      "displayName": "Alejandro Bolaños",
      "userId": "15513030842131101305"
     },
     "user_tz": 180
    },
    "id": "5LRYIYv-rBb6",
    "outputId": "e75c6f54-40e0-4169-db53-6d4f0b47f654"
   },
   "outputs": [],
   "source": [
    "embedding_rf = UMAP(\n",
    "  n_components=2,\n",
    "  n_neighbors=20,\n",
    "  min_dist=0.77,\n",
    "  learning_rate=0.05,\n",
    "  metric=\"precomputed\",\n",
    "  random_state=17,\n",
    ").fit_transform(md)\n",
    "\n",
    "plt.scatter(embedding_rf[:,0], embedding_rf[:,1])"
   ]
  },
  {
   "cell_type": "markdown",
   "metadata": {
    "id": "r2StQEZK3Guh"
   },
   "source": [
    "Agreguemos la dimensión de la probabilidad de salida, para ver donde cree el modelo que se encuentran los **bajas**."
   ]
  },
  {
   "cell_type": "code",
   "execution_count": null,
   "metadata": {
    "colab": {
     "base_uri": "https://localhost:8080/",
     "height": 430
    },
    "executionInfo": {
     "elapsed": 397,
     "status": "ok",
     "timestamp": 1756861679524,
     "user": {
      "displayName": "Alejandro Bolaños",
      "userId": "15513030842131101305"
     },
     "user_tz": 180
    },
    "id": "A1Rfhj7CTeLt",
    "outputId": "0b54671b-c11e-47e1-d21f-bc87b646b4ee"
   },
   "outputs": [],
   "source": [
    "class_index = np.where(model.classes_ == 1)[0]\n",
    "prob_baja = model.predict_proba(Xtrain_rf_imp)[:,class_index]\n",
    "\n",
    "plt.scatter(embedding_rf[:,0], embedding_rf[:,1], c=prob_baja)\n",
    "plt.colorbar()\n",
    "plt.show()"
   ]
  },
  {
   "cell_type": "markdown",
   "metadata": {
    "id": "xpthaD3P3d4C"
   },
   "source": [
    "Vamos a partir de este embedding para segmentar a los clientes. Puede utilizar cualquier técnica, los datos ya son simples para cualquier algoritmo. Utilizaremos uno bastante estandar"
   ]
  },
  {
   "cell_type": "code",
   "execution_count": null,
   "metadata": {
    "colab": {
     "base_uri": "https://localhost:8080/",
     "height": 682
    },
    "executionInfo": {
     "elapsed": 520,
     "status": "ok",
     "timestamp": 1756861680046,
     "user": {
      "displayName": "Alejandro Bolaños",
      "userId": "15513030842131101305"
     },
     "user_tz": 180
    },
    "id": "oEnFch8IenmK",
    "outputId": "6a8c73b8-9b2b-440f-fbe8-d59ccb201004"
   },
   "outputs": [],
   "source": [
    "from sklearn.cluster import KMeans\n",
    "\n",
    "kmeans = KMeans(n_clusters=15, random_state=17, n_init=10)\n",
    "clusters = kmeans.fit_predict(embedding_rf)\n",
    "\n",
    "\n",
    "plt.figure(figsize=(10, 8))\n",
    "plt.scatter(embedding_rf[:, 0], embedding_rf[:, 1], c=clusters, cmap='viridis')\n",
    "plt.colorbar(label='Cluster')\n",
    "\n",
    "for cluster_label in sorted(np.unique(clusters)):\n",
    "    cluster_points = embedding_rf[clusters == cluster_label]\n",
    "    centroid = cluster_points.mean(axis=0)\n",
    "    plt.text(centroid[0], centroid[1], str(cluster_label), fontsize=12, ha='center', va='center', color='black',\n",
    "             bbox=dict(boxstyle='round,pad=0.3', fc='white', alpha=0.5))\n",
    "\n",
    "plt.show()"
   ]
  },
  {
   "cell_type": "markdown",
   "metadata": {
    "id": "YbeNi254iwgG"
   },
   "source": [
    "Veamos cuales de los clientes de cada cluster son **bajas** y cuales **continuan** y la proba promedio del cluster"
   ]
  },
  {
   "cell_type": "code",
   "execution_count": null,
   "metadata": {
    "colab": {
     "base_uri": "https://localhost:8080/"
    },
    "executionInfo": {
     "elapsed": 6,
     "status": "ok",
     "timestamp": 1756861680054,
     "user": {
      "displayName": "Alejandro Bolaños",
      "userId": "15513030842131101305"
     },
     "user_tz": 180
    },
    "id": "_4A1_JyuhlFi",
    "outputId": "fcbff7c7-5c49-45f3-f67f-e22e4c1e125e"
   },
   "outputs": [],
   "source": [
    "cluster_class_df = pd.DataFrame({'cluster': clusters, 'original_class': ytrain_rf})\n",
    "\n",
    "class_distribution_by_cluster = cluster_class_df.groupby('cluster')['original_class'].value_counts().unstack(fill_value=0)\n",
    "cluster_prob_df = pd.DataFrame({'cluster': clusters, 'prob_baja': prob_baja.flatten()})\n",
    "average_prob_baja_by_cluster = cluster_prob_df.groupby('cluster')['prob_baja'].mean()\n",
    "class_distribution_by_cluster['average_prob_baja'] = average_prob_baja_by_cluster\n",
    "\n",
    "print(\"Number of cases per class and average churn probability per cluster:\")\n",
    "print(class_distribution_by_cluster)"
   ]
  },
  {
   "cell_type": "markdown",
   "metadata": {
    "id": "O4kSLegC4wXT"
   },
   "source": [
    "Por último necesitamos alguna forma de saber que hace a cada cluster distinto del otro. Para esto utilizaremos modelos (**rf**) que buscan separar los cluster uno a uno del resto de los datos.\n",
    "\n",
    "Por cada modelo, miraremos cuales son las variables más importantes que separan los datos para luego caracterizarlos:\n",
    "\n",
    "Manos a la obra:"
   ]
  },
  {
   "cell_type": "markdown",
   "metadata": {
    "id": "y7Mz0fa35llh"
   },
   "source": [
    "Y exploramos las diferencias entre los clusters usando las **n** variables más importantes, usando en este caso la mediana\n"
   ]
  },
  {
   "cell_type": "code",
   "execution_count": null,
   "metadata": {
    "colab": {
     "base_uri": "https://localhost:8080/",
     "height": 400
    },
    "executionInfo": {
     "elapsed": 1496,
     "status": "ok",
     "timestamp": 1756861681551,
     "user": {
      "displayName": "Alejandro Bolaños",
      "userId": "15513030842131101305"
     },
     "user_tz": 180
    },
    "id": "lFWgNYFzlDog",
    "outputId": "9b17a564-3ee1-4f67-c3aa-354b4c601c43"
   },
   "outputs": [],
   "source": [
    "# sacar las features más importantes\n",
    "importances = model.feature_importances_\n",
    "feature_names = Xtrain_rf.columns\n",
    "feature_importance_series = pd.Series(importances, index=feature_names)\n",
    "\n",
    "feature_selected = feature_importance_series.sort_values(ascending=False)\n",
    "\n",
    "n_top = 10 # cantidad de variables a evaluar.\n",
    "top_overall_features = feature_selected.head(n_top).index.tolist()\n",
    "\n",
    "cluster_series_aligned = pd.Series(clusters, index=Xtrain_rf.index)\n",
    "\n",
    "cluster_median_values = {}\n",
    "\n",
    "for cluster in sorted(np.unique(clusters)):\n",
    "    cluster_indices = cluster_series_aligned[cluster_series_aligned == cluster].index\n",
    "    cluster_data = Xtrain_rf.loc[cluster_indices, top_overall_features]\n",
    "\n",
    "    # Usar el estadístico de su preferencia\n",
    "    values = cluster_data.median()\n",
    "    cluster_median_values[f'Cluster {cluster}'] = values\n",
    "\n",
    "top_overall_features_df = pd.DataFrame(cluster_median_values)\n",
    "display(top_overall_features_df)"
   ]
  },
  {
   "cell_type": "code",
   "execution_count": null,
   "metadata": {
    "colab": {
     "base_uri": "https://localhost:8080/",
     "height": 444
    },
    "executionInfo": {
     "elapsed": 32,
     "status": "ok",
     "timestamp": 1756861681586,
     "user": {
      "displayName": "Alejandro Bolaños",
      "userId": "15513030842131101305"
     },
     "user_tz": 180
    },
    "id": "pRlHmcCuGNJV",
    "outputId": "28a0cc33-ef1b-419d-f403-2f017cbd2d7d"
   },
   "outputs": [],
   "source": [
    "cluster_data"
   ]
  },
  {
   "cell_type": "markdown",
   "metadata": {
    "id": "nBiE6leAptAS"
   },
   "source": [
    "Otra de forma de explorar es graficar uno contra todos"
   ]
  },
  {
   "cell_type": "code",
   "execution_count": null,
   "metadata": {
    "colab": {
     "base_uri": "https://localhost:8080/",
     "height": 381
    },
    "executionInfo": {
     "elapsed": 33,
     "status": "ok",
     "timestamp": 1756861681618,
     "user": {
      "displayName": "Alejandro Bolaños",
      "userId": "15513030842131101305"
     },
     "user_tz": 180
    },
    "id": "InKni1zsqwTE",
    "outputId": "e3a8f5d2-8d6d-49b9-d874-0a4969b06b0c"
   },
   "outputs": [],
   "source": [
    "def compare_cluster_stats(data, clusters, variable_name, target_cluster):\n",
    "\n",
    "    cluster_series_aligned = pd.Series(clusters, index=data.index)\n",
    "\n",
    "    variable_data = data[variable_name]\n",
    "\n",
    "    target_cluster_indices = cluster_series_aligned[cluster_series_aligned == target_cluster].index\n",
    "    target_cluster_data = variable_data.loc[target_cluster_indices] # Keep NaNs for counting\n",
    "\n",
    "    rest_indices = cluster_series_aligned[cluster_series_aligned != target_cluster].index\n",
    "    rest_data = variable_data.loc[rest_indices] # Keep NaNs for counting\n",
    "\n",
    "    target_cluster_desc = target_cluster_data.dropna().describe()\n",
    "    rest_desc = rest_data.dropna().describe()\n",
    "\n",
    "    summary_df = pd.DataFrame({\n",
    "        f'Cluster {target_cluster}': target_cluster_desc,\n",
    "        f'Rest of Clusters': rest_desc\n",
    "    })\n",
    "\n",
    "    summary_df.loc['unique'] = [target_cluster_data.nunique(), rest_data.nunique()]\n",
    "    summary_df.loc['missing'] = [target_cluster_data.isnull().sum(), rest_data.isnull().sum()]\n",
    "\n",
    "    return summary_df\n",
    "\n",
    "print(f\"'mcaja_ahorro' - Cluster 0 vs. Rest\")\n",
    "compare_cluster_stats(Xtrain_rf, clusters, 'mcaja_ahorro', 0)"
   ]
  },
  {
   "cell_type": "markdown",
   "metadata": {
    "id": "eOc6CyrruMSK"
   },
   "source": [
    "Muy interesante... pero no hay una brújula que nos ayude a ver que variables comparar?\n",
    "\n",
    "Acá un salvavidas: Crea un modelo que busca separar los clusters del resto de los datos y nos devuelven las variables más importantes de esa separación"
   ]
  },
  {
   "cell_type": "code",
   "execution_count": null,
   "metadata": {
    "colab": {
     "base_uri": "https://localhost:8080/"
    },
    "executionInfo": {
     "elapsed": 16129,
     "status": "ok",
     "timestamp": 1756861697755,
     "user": {
      "displayName": "Alejandro Bolaños",
      "userId": "15513030842131101305"
     },
     "user_tz": 180
    },
    "id": "1rtEi1B_uLG3",
    "outputId": "52734b9a-8a73-479b-9f14-c9d3f69d8123"
   },
   "outputs": [],
   "source": [
    "important_features_by_cluster = {}\n",
    "\n",
    "for cluster in sorted(np.unique(clusters)):\n",
    "    print(f\"Training model for Cluster {cluster} vs. Rest...\")\n",
    "    y_binary = (cluster_series_aligned == cluster).astype(int)\n",
    "\n",
    "    model = RandomForestClassifier(n_estimators=100, random_state=17, class_weight='balanced') # Added class_weight for imbalanced data\n",
    "    model.fit(Xtrain_rf_imp, y_binary)\n",
    "\n",
    "    importances = model.feature_importances_\n",
    "    feature_names = Xtrain_rf.columns\n",
    "\n",
    "    indices = np.argsort(importances)[::-1]\n",
    "\n",
    "    important_features_by_cluster[cluster] = [feature_names[i] for i in indices]\n"
   ]
  },
  {
   "cell_type": "markdown",
   "metadata": {
    "id": "uA4_gFQzu3AG"
   },
   "source": [
    "Vemos las más importantes para un cluster"
   ]
  },
  {
   "cell_type": "code",
   "execution_count": null,
   "metadata": {
    "colab": {
     "base_uri": "https://localhost:8080/"
    },
    "executionInfo": {
     "elapsed": 12,
     "status": "ok",
     "timestamp": 1756861697770,
     "user": {
      "displayName": "Alejandro Bolaños",
      "userId": "15513030842131101305"
     },
     "user_tz": 180
    },
    "id": "P6V5T2f8u2NC",
    "outputId": "3d3ecdb5-212f-4930-a12b-060e1db5c45f"
   },
   "outputs": [],
   "source": [
    "print(important_features_by_cluster[0])"
   ]
  },
  {
   "cell_type": "markdown",
   "metadata": {
    "id": "GApcw8q4u9FK"
   },
   "source": [
    "Y luego miramos los estadísticos"
   ]
  },
  {
   "cell_type": "code",
   "execution_count": null,
   "metadata": {
    "colab": {
     "base_uri": "https://localhost:8080/",
     "height": 363
    },
    "executionInfo": {
     "elapsed": 37,
     "status": "ok",
     "timestamp": 1756861697808,
     "user": {
      "displayName": "Alejandro Bolaños",
      "userId": "15513030842131101305"
     },
     "user_tz": 180
    },
    "id": "3bFNVTOkvBLq",
    "outputId": "ddefad09-f601-44b7-d798-8225c5a74582"
   },
   "outputs": [],
   "source": [
    "compare_cluster_stats(Xtrain_rf, clusters, 'mpasivos_margen', 0)"
   ]
  },
  {
   "cell_type": "markdown",
   "metadata": {
    "id": "boaeupnAvETq"
   },
   "source": [
    "Es perfecto? **NO** pero es orientativo"
   ]
  },
  {
   "cell_type": "markdown",
   "metadata": {
    "id": "h5WHCJDw53Pa"
   },
   "source": [
    "Luego resta, analizar los estadísticos de los datos de cada cluster para las variables importantes, comparar sus distribuciones con histogramas, boxplots, pivot tables, etc.\n"
   ]
  },
  {
   "cell_type": "markdown",
   "metadata": {
    "id": "Th9-1pcqMZeG"
   },
   "source": [
    "Junto con el diccionaro de datos, de sentido a lo que ve a través del análisis multivariado de datos.\n",
    "\n",
    "Obviamente, esto es apenas mas que una semilla. Agregue las variables históricas, juegue con los **rf** y genere una segmentación pro, que encante a Miranda\n"
   ]
  }
 ],
 "metadata": {
  "colab": {
   "authorship_tag": "ABX9TyOdDpVsewlavVF3ocYSlANq",
   "mount_file_id": "1vLX5GJBVvYumKwJY4yjLt2eststrUBy6",
   "provenance": []
  },
  "kernelspec": {
   "display_name": "Python 3",
   "name": "python3"
  },
  "language_info": {
   "name": "python"
  }
 },
 "nbformat": 4,
 "nbformat_minor": 0
}
