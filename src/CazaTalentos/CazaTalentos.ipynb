{
  "nbformat": 4,
  "nbformat_minor": 0,
  "metadata": {
    "colab": {
      "provenance": []
    },
    "kernelspec": {
      "name": "ir",
      "display_name": "R"
    },
    "language_info": {
      "name": "R"
    }
  },
  "cells": [
    {
      "cell_type": "markdown",
      "source": [
        "# Cazatalentos\n",
        "## buscando a  “La verdadera mejor encestadora”"
      ],
      "metadata": {
        "id": "5NHQWdqh3Sro"
      }
    },
    {
      "cell_type": "markdown",
      "source": [
        "## 1.Introduccion\n",
        "Este notebook analiza de forma didáctica la razón por la que se produce el overfitting.\n",
        "\n",
        "Ver los cinco minutos de este video muy relacionado con lo que veremos\n",
        "[Veritasium El Éxito ¿es Suerte o Trabajo Duro?](https://storage.googleapis.com/open-courses/austral2025-af91/labo1r/veritasium_success_paradox.html)"
      ],
      "metadata": {
        "id": "q2mpBZS53jCQ"
      }
    },
    {
      "cell_type": "markdown",
      "source": [
        "### 1.1 Motivacion\n",
        "\n",
        "El siguiente desafío busca introducir el problema fundamental de la Ciencia de Datos que es el overfitting desde un ángulo distinto,  presentando los fenómenos del efecto del tamaño de la muestra,\n",
        "<br> el conocido problema de las múltiples comparaciones  y “la maldición del ganador”.\n",
        "<br>\n",
        "<br> Aunque anecdóticametne está basado en algo deportivo, se extiende fácilmente  a :\n",
        "*  la efectividad de acciones de marketing\n",
        "*  el testeo de medicamentos\n",
        "*  experimentos ciéntíficos https://www.ncbi.nlm.nih.gov/pmc/articles/PMC1182327/\n",
        "*  la comparación de modelos predictivos\n",
        "*  la elección del mejor corte en un nodo de un árbol de decisión, etc\n",
        "*  el examen único de **residencias médicas** de la República Argentina, y los incidentes presentados en el año 2025 https://www.infobae.com/salud/2025/08/08/examen-de-residencias-ninguno-de-los-117-medicos-que-se-presentaron-pudo-revalidar-su-nota-en-la-segunda-evaluacion/\n",
        "\n",
        "\n",
        "<br> Habrá un segundo documento de CazaTalentos para analizar los incidentes del Examen Unico de Residentes de 2025 de la Republica Argentina"
      ],
      "metadata": {
        "id": "BIwyaLbd3vAn"
      }
    },
    {
      "cell_type": "markdown",
      "source": [
        "### 1.2 Generalidades\n",
        "Vari@s cazatalent@s de la gran ciudad van recorriendo pueblos en búsqueda de las mejores jugadoras de basket para tiros libres en la Liga Femenina de Basket.\n",
        "<br>El procedimiento recomendado es el siguiente : un@ cazatalentos llega a un pueblo y va a la única cancha de basket del lugar donde la están esperando las adolescentes interesadas, las hace tirar tiros libres y elige a la mejor jugadora.\n",
        "<br>Posteriormente a la elección del mejor jugadora, si le parece a la entrenadora de la gran ciudad, se llevará a la jugadora a que demuestre que tan buena es.\n",
        "\n",
        "<br>A las jugadoras los podemos equiparar con modelos predictivos.\n"
      ],
      "metadata": {
        "id": "RDbj1N8U4Ain"
      }
    },
    {
      "cell_type": "markdown",
      "source": [
        "### 2 Definición del Problema\n",
        "\n",
        "¿Qué metodología de las que se plantearán es la que propone a la jugadora con mayor probabilidad de superar el umbral del 80% de aciertos en la nueva prueba que se hará en la gran ciudad?\n",
        "<br> Cada jugadora posee un “índice de enceste”, la cazatalentos no tiene forma de conocerlos; lo único que puede hacer la cazatalentos es hacer que las jugadoras hagan tiros libres, y medir los aciertos y no aciertos."
      ],
      "metadata": {
        "id": "-5pmca3q4NpX"
      }
    },
    {
      "cell_type": "markdown",
      "source": [
        "### 2.1  Caso fallido, una jugadora se quiere pasar de lista ...\n",
        "\n",
        "La cazatalentos llega a una pequeña localidad a la que le han dicho que hay dos adolescentes cuyas habilidades debe testear.\n",
        "<br> Una es super talentosa se llama Diana Taurasi  https://en.wikipedia.org/wiki/Diana_Taurasi, nosotros sabemos que tiene un “índice de enceste” del 0.85, es decir cada vez que hace un tiro libre su probabilidad de encestar es del 85%.   Si hace 100 tiros libres, en promedio encesta 85 veces,  a veces puede ser más, a veces menos, pero en promedio encesta 85 de 100.\n",
        "<br> La otra es un auténtico desastre, a quien llamaremos  Miss X, y su índice de enceste es de 0.10.  Esto quiere decir que si hace 100  tiros libres, en promedio encesta 10.\n",
        "<br> La cazatalentos NO tiene forma de conocer los valores de 0.85 y 0.10, solo puede hacerlas tirar y contar aciertos.\n",
        "\n",
        "<br>La cazatalentos llega al gimnasio,  y solo se encuentra Diana, con lo cual le indica que comience a tirar.  Al tiro 10, Diana lleva 8 encestes y 2 no-enceste.\n",
        "<br>En ese momento, llega con un andar cansino Miss X y las interrumpe :  ¿cuánto va Diana ? La cazatalentos le responde  8 de 10.  Miss X solicita permiso para tirar, tira una sola vez y acierta.\n",
        "<br>Ahí mismo dice : “paren las rotativas, yo soy la clara ganadora de este torneo,  mi indice de acierto es del  100% y el de Diana es del 80% ,  la matemática es clara”.\n",
        "<br>La cazatalentos monta en cólera y le dice :  pues usted joven solo ha realizado un tiro, ¿Si lo hubiera errado, aceptaría decir entonces que su indice de acierto es del 0%? Ciertamente no.\n",
        "<br>Pues ahora, usted deberá seguir tirando hasta completar sus 10 tiros libres, y recién ahí compararé.\n"
      ],
      "metadata": {
        "id": "nJj3sNJv4XYO"
      }
    },
    {
      "cell_type": "markdown",
      "source": [
        "### 2.2 Segundo Caso\n",
        "\n",
        "La cazatalentos tiene el siguiente algoritmo, hace que Diana Taurasi y Miss X hagan 10 tiros libres cada una, y elige a la ganadora de esos 10 tiros libres.\n",
        "¿Garantiza este método que por lo menos el 99% de las veces elige a Diana Taurasi?\n",
        "\n",
        "<br>¿La desastrosa Miss X puede llegar a encestar los 10 tiros libres?  <br>Efectivamente sí existe esa posibilidad, pero con una muy baja probabilidad, la probabilidad es de 0.10 ^10  =  1e-10\n",
        "<br>El símbolo de  ^  significa  \"elevado a la potencia de\"\n",
        "<br>\n",
        "<br>¿Cual es la probabilidad que Miss X tire una sola vez y acierte este tiro? <br>Simplemente 0.1 , una en diez, con lo cual ha tenido mucha suerte en su primer tiro, pero no la va a poder mantener !\n",
        "\n",
        "<br>¿La adolescente Diana Taurasi puede llegar a encestar los 10 tiros libres?  Efectivamente, su probabilidad es  0.85 ^10 = 0.1968744"
      ],
      "metadata": {
        "id": "zn2iG2Bw4wTm"
      }
    },
    {
      "cell_type": "markdown",
      "source": [
        "En el lenguaje R la instrucción  runif(10)  genera un vector con 10 números aleatorios con distribución uniforme en el intervalo [0,1], por ejemplo"
      ],
      "metadata": {
        "id": "ye8SFCwU6poc"
      }
    },
    {
      "cell_type": "code",
      "source": [
        "runif(10)"
      ],
      "metadata": {
        "id": "Q2s5D1po6t6d"
      },
      "execution_count": null,
      "outputs": []
    },
    {
      "cell_type": "markdown",
      "source": [
        "Ahora simulamos 10000 veces la estrategia de tirar 10 tiros libres y quedarse con la ganadora."
      ],
      "metadata": {
        "id": "VR6fbLmd6yR4"
      }
    },
    {
      "cell_type": "code",
      "source": [
        "missx_ganadora <- 0\n",
        "\n",
        "for( i  in 1:10000 )\n",
        "{\n",
        "  aciertos_taurasi <- sum( runif(10) < 0.85 )\n",
        "  aciertos_missx <- sum( runif(10) < 0.10 )\n",
        "\n",
        "  if( aciertos_missx > aciertos_taurasi )  missx_ganadora <- missx_ganadora +1\n",
        "}\n",
        "\n",
        "cat( \"Miss X gano un total de : \", missx_ganadora )"
      ],
      "metadata": {
        "id": "ZD8ZjxDp5tqt"
      },
      "execution_count": null,
      "outputs": []
    },
    {
      "cell_type": "markdown",
      "source": [
        "Lo que da la cantidad de 0,  o sea que en 10000 veces, siempre ganó Diana Taurasi, con lo cual la estrategia de quedarse con el mejor de 10 tiros ha funcionado, para este obvio caso donde hay apenas dos jugadoras y hay una diferencia abismal entre ellas.\n",
        "\n",
        "En este caso NO aparece el overfitting por ningún lado"
      ],
      "metadata": {
        "id": "gYSZOgTv64Ta"
      }
    },
    {
      "cell_type": "markdown",
      "source": [
        "### 2.3  Aparece el Overfitting\n",
        "\n",
        "El cazatalentos llega ahora a un pueblo donde hay 100 jugadores los que son mucho más parejos entre sí desde el punto de vista del ratio de enceste.\n",
        "\n",
        "Hay un jugador, que llamaremos jugador 1 que tiene un “índice de enceste” de  0.70\n",
        "Los 99 jugadores restantes que llamaremos “el pelotón”  tienen los índices de enceste  { 0.501, 0.0502, 0.503, …, 0.599  }\n",
        "Es decir el jugador 1 tiene 0.70 y el mejor jugador del pelotón tiene 0.599,  hay un poco más de 0.10 de diferencia.  La diferencia de 0.10 es significativa en basket.\n",
        "\n",
        "¿Qué sucede con el algoritmo del cazatalentos de hacer tirar 10 tiros libres a cada uno de los jugadores y elegir al que más encestes logró ?\n"
      ],
      "metadata": {
        "id": "onrG79vw7CCQ"
      }
    },
    {
      "cell_type": "code",
      "source": [
        "\n",
        "\n",
        "set.seed( 102191 )\n",
        "\n",
        "# calcula cuantos encestes logra una jugadora con indice de enceste prob\n",
        "# haciendo qyt tiros libres\n",
        "\n",
        "ftirar  <- function( prob, qty ){\n",
        "  return( sum( runif(qty) < prob ) )\n",
        "}\n",
        "\n",
        "\n",
        "# defino las jugadoras\n",
        "taurasi    <- 0.7\n",
        "peloton    <- ( 501:599 ) / 1000\n",
        "jugadoras  <- c( taurasi, peloton )\n",
        "\n",
        "\n",
        "\n",
        "\n",
        "\n",
        "# hago que las 100 jugadoras tiren 10 veces cada una\n",
        "mapply( ftirar, jugadoras, 10 )\n",
        "\n",
        "primera_ganadora  <- 0\n",
        "\n",
        "for( i in 1:10000 ){  # diez mil experimentos\n",
        "\n",
        "  vaciertos  <- mapply( ftirar, jugadoras, 10 )  # 10 tiros libres cada jugadora\n",
        "\n",
        "  mejor  <- which.max( vaciertos )\n",
        "  if( mejor == 1 )  primera_ganadora  <- primera_ganadora + 1\n",
        "}\n",
        "\n",
        "cat(\"\\n\")\n",
        "cat( \"En los diez mil experimentos, se detecto correctamente a la mejor jugadora la cantidad de veces:\", primera_ganadora )\n"
      ],
      "metadata": {
        "id": "rjh8LUah7NRy"
      },
      "execution_count": null,
      "outputs": []
    },
    {
      "cell_type": "markdown",
      "source": [
        "Aquí ya pasa algo asombroso, el overfitting en todo su esplendor.\n",
        "Si hago tirar 10 tiros libres a cada uno de las 100 jugadoras, apenas 1450 veces de las 10000 este método  devuelve a la verdadera mejor, que es la jugadora con un índice de enceste de 0.70\n",
        "\n",
        "Intuitivamente, lo que está sucediendo es que la inmensa mayoría de las veces, una de las 99 jugadoras del pelotón tiene mucha suerte y supera a la jugadora de 0.70, con lo cual se elige a una del pelotón y no a la verdadera mejor !  \n",
        "<br>El tener 99 jugadoras en el pelotón hace que al ser tantas hay varias que tienen mala suerte, pero también hay varias con muy buena suerte, y la que tuvo más suerte supera a la verdadera mejor !\n"
      ],
      "metadata": {
        "id": "Ctw9S6A17w4f"
      }
    },
    {
      "cell_type": "markdown",
      "source": [
        "### 2.4 Nueva ronda\n",
        "\n",
        "Ahora pasemos a ver aún algo más notable.\n",
        "Tenemos a nuestra jugadora de 0.70, y a las 99 jugadoras del pelotón.\n",
        "1.  Las hacemos tirar a cada una 10 tiros libres, y elegimos a la ganadora registrando cuántos aciertos tuvo\n",
        "2.  solo a esa ganadora la hacemos tirar una nueva ronda de 10 tiros libres\n",
        "3.  finalmente comparamos estos nuevos aciertos con los originales.\n"
      ],
      "metadata": {
        "id": "B0uks59u792r"
      }
    },
    {
      "cell_type": "code",
      "source": [
        "\n",
        "\n",
        "set.seed( 102191 )\n",
        "\n",
        "# calcula cuantos encestes logra una jugadora con indice de enceste prob\n",
        "# haciendo qyt tiros libres\n",
        "\n",
        "ftirar  <- function( prob, qty ){\n",
        "  return( sum( runif(qty) < prob ) )\n",
        "}\n",
        "\n",
        "\n",
        "# defino los jugadoras\n",
        "taurasi <-  0.7\n",
        "peloton    <-  ( 501:599 ) / 1000\n",
        "jugadoras  <-  c( taurasi, peloton )\n",
        "\n",
        "\n",
        "cat( \"Aciertos Ganadora\", \"\\t\", \"Nueva Ronda\", \"\\n\")\n",
        "\n",
        "for( i in 1:10 ){\n",
        "  vaciertos  <- mapply( ftirar, jugadoras, 10 )  # cada jugadora tira 10 tiros libres\n",
        "  mejor  <- which.max( vaciertos )\n",
        "  aciertos_torneo  <- vaciertos[ mejor ]\n",
        "\n",
        "  aciertos_segunda  <- ftirar( jugadoras[ mejor ], 10 )\n",
        "\n",
        "  cat( aciertos_torneo, \"\\t\\t\\t\", aciertos_segunda, \"\\n\" )\n",
        "}"
      ],
      "metadata": {
        "id": "3o6MUbsqUOPe"
      },
      "execution_count": null,
      "outputs": []
    },
    {
      "cell_type": "markdown",
      "source": [
        "Lo que se observa en este caso es “La maldición del ganador”,\n",
        "<br>la performance que la jugadora que logró más aciertos en la competencia general luego NO LA PUEDE MANTENER,\n",
        "<br>en todos los casos vemos que en la nueva ronda de diez tiene menos aciertos que en la primera ronda de diez.\n",
        "<br>La primera ronda  la jugadora que resultó ganadora fue debido a la suerte, y esa suerte ya no la acompaña para la segunda ronda de 10 tiros libres.\n",
        "\n",
        "Relacionado con las competencias Kaggle, una forma de pensar esto es  \"¿Cómo le va a ir al mejor modelo del Public Leaderboard en el Private?\" ,  esta es la razón por la que los puntajes que vemos en el Private son inferiores al Public.\n",
        "La primer ronda puede verse como quedarnos con el mejor modelo del Public Leaderboard, la nueva ronda es como le va a ese modelo en el Private Leaderboard.\n",
        "<br>Elegir el mejor modelo del Public, suele ser una pésima estrategia."
      ],
      "metadata": {
        "id": "fFOmnBma8Fuf"
      }
    },
    {
      "cell_type": "markdown",
      "source": [
        "### El overfitting en su plenitud\n",
        "\n",
        "¿Cuándo es más extremo el efecto de “La maldición del ganador” ?\n",
        "<br>Supongamos por un momento que ahora, en otro pueblo,  tenemos 100 jugadoras nuevas, todas con un “índice de enceste” de 0.70 ;  recordar que ese valor jamás es conocido por la cazatalentos.\n",
        "\n",
        "<br>Ahora nos ponemos más estrictos, y las hacemos tirar 100 veces a cada una, elegimos a la ganadora, y solo a esa ganadora la hacemos tirar 100 nuevos tiros libres.\n",
        "<br> Podemos pensarlo como que la cazatalentos se lleva a la mejor jugadora a la gran ciudad, le habla maravillas de ella a la entrenadora, y la entrenadora dice “probémosla a ver si es tan buena como decís, que haga 100 tiros libres aquí y ahora”"
      ],
      "metadata": {
        "id": "yvPC7A4x9fPl"
      }
    },
    {
      "cell_type": "code",
      "source": [
        "\n",
        "\n",
        "set.seed( 102191 )\n",
        "\n",
        "# calcula cuantos encestes logra una jugadora con indice de enceste prob\n",
        "# que hace qyt tiros libres\n",
        "\n",
        "ftirar  <- function( prob, qty ){\n",
        "  return( sum( runif(qty) < prob ) )\n",
        "}\n",
        "\n",
        "\n",
        "# defino los jugadoras\n",
        "jugadoras  <- rep( 0.7, 100 )\n",
        "\n",
        "\n",
        "\n",
        "\n",
        "cat( \"Aciertos Ganadora\", \"\\t\", \"Nueva Ronda\", \"\\n\")\n",
        "for( i in 1:10 ){\n",
        "  vaciertos  <- mapply( ftirar, jugadoras, 100 )  # cada jugadora tira 100 tiros libres\n",
        "  mejor  <- which.max( vaciertos )\n",
        "  aciertos_torneo  <- vaciertos[ mejor ]\n",
        "\n",
        "  aciertos_segunda  <- ftirar( jugadoras[ mejor ], 100 )\n",
        "\n",
        "  cat( aciertos_torneo, \"\\t\\t\\t\", aciertos_segunda, \"\\n\" )\n",
        "}"
      ],
      "metadata": {
        "id": "Ro2WAmmi9vGq"
      },
      "execution_count": null,
      "outputs": []
    },
    {
      "cell_type": "markdown",
      "source": [
        "Nuevamente vemos, que el puntaje alcanzado por la mejor jugadora cuando compitió contra las otras 99,  NO ES VUELTO A ALCANZAR  en la nueva ronda de 100 tiros libres que hace esa jugadora.\n",
        "<br>Este efecto es exactamente el mismo que vemos cuando alguien se empecina en lograr en el Leaderboard Público el mayor puntaje de la clase,  le va muy bien en el Público, pero se derrumba catastróficamente en el Privado.\n",
        "<br>Decimos que  “overfitió / sobreajustó el Leaderboard Publico”."
      ],
      "metadata": {
        "id": "XjDoJam6Bi30"
      }
    },
    {
      "cell_type": "markdown",
      "source": [
        "### 2.5 medida de la diferencia\n",
        "\n",
        "Ahora nos preguntamos, en este caso, en promedio, cuanto más aciertos tiene la ganadora (debido a la suerte)  en la primera ronda  con respecto a la segunda ?\n"
      ],
      "metadata": {
        "id": "y3VZbvqTBuPq"
      }
    },
    {
      "cell_type": "code",
      "source": [
        "\n",
        "\n",
        "set.seed( 102191 )\n",
        "\n",
        "# calcula cuantos encestes logra una jugadora con indice de enceste prob\n",
        "# que hace qyt tiros libres\n",
        "\n",
        "ftirar  <- function( prob, qty ){\n",
        "  return( sum( runif(qty) < prob ) )\n",
        "}\n",
        "\n",
        "\n",
        "# defino las jugadoras\n",
        "jugadoras  <- rep( 0.7, 100 )\n",
        "\n",
        "\n",
        "\n",
        "\n",
        "suma_diferencias <- 0\n",
        "\n",
        "for( i in 1:10000 ){\n",
        "  vaciertos  <- mapply( ftirar, jugadoras, 100 )  # cada jugador tira 100 tiros libres\n",
        "  mejor  <- which.max( vaciertos )\n",
        "  aciertos_torneo  <- vaciertos[ mejor ]\n",
        "\n",
        "  aciertos_segunda  <- ftirar( jugadoras[mejor], 100 )\n",
        "\n",
        "  suma_diferencias  <- suma_diferencias +  (aciertos_torneo - aciertos_segunda )\n",
        "}\n",
        "\n",
        "\n",
        "cat( \"Diferencia promedio:\",  suma_diferencias / 10000 )\n"
      ],
      "metadata": {
        "id": "c2i376B9BzHX"
      },
      "execution_count": null,
      "outputs": []
    },
    {
      "cell_type": "markdown",
      "source": [
        "Exactamente este mismo efecto se da en el marketing digital.  Si en un A/B testing se prueban cien alternativas y se elige a la que tiene más efectividad, se observará que en un nuevo experimento disminuirá el rendimiento de esa alternativa.\n",
        "\n",
        "También sucede si se prueban muchos medicamentos al mismo tiempo,   el que resulte más efectivo disminuirá su efectividad en la nueva prueba.\n",
        "\n",
        "Este problema es llamado “El problema de las múltiples comparaciones”"
      ],
      "metadata": {
        "id": "J8DD6d8qBzaF"
      }
    },
    {
      "cell_type": "markdown",
      "source": [
        "### 2.6 una sola jugadora MUY buena\n",
        "\n",
        "Sexto caso,  ¿cuándo se atenúa/desaparece  el overfitting?\n",
        "Supongamos 99 jugadoras con un índice de enceste de 0.60   y  ahora sumamos a la adolescente Diana Taurasi con su superlativo índice de enceste del 0.85\n",
        "Los hacemos tirar a todas 100 tiros libres, llevamos a la ganadora a la gran ciudad, y allí le contamos a la entrenadora de nuestra ganadora Diana Taurasi."
      ],
      "metadata": {
        "id": "tkt4OngiCI_O"
      }
    },
    {
      "cell_type": "code",
      "source": [
        "\n",
        "\n",
        "set.seed( 102191 )\n",
        "\n",
        "# calcula cuantos encestes logra una jugadora con indice de enceste prob\n",
        "# que hace qyt tiros libres\n",
        "\n",
        "ftirar  <- function( prob, qty ){\n",
        "  return( sum( runif(qty) < prob ) )\n",
        "}\n",
        "\n",
        "\n",
        "# defino las jugadoras\n",
        "taurasi    <- 0.85\n",
        "peloton   <- rep( 0.6, 99 )  # jugadoras identicas\n",
        "jugadoras <- c( taurasi, peloton )\n",
        "\n",
        "\n",
        "\n",
        "cat( \"Aciertos Ganadora\", \"\\t\", \"Nueva Ronda\", \"\\n\")\n",
        "\n",
        "for( i in 1:10 ){\n",
        "  vaciertos  <- mapply( ftirar, jugadoras, 100 )  # cada jugadora tira 100 tiros libres\n",
        "  mejor  <- which.max( vaciertos )\n",
        "  aciertos_torneo  <- vaciertos[ mejor ]\n",
        "\n",
        "  aciertos_segunda  <- ftirar( jugadoras[ mejor ], 100 )\n",
        "\n",
        "  cat(aciertos_torneo, \"\\t\\t\\t\", aciertos_segunda, \"\\n\" )\n",
        "}\n",
        "\n"
      ],
      "metadata": {
        "id": "o0N0WPw84JCR"
      },
      "execution_count": null,
      "outputs": []
    },
    {
      "cell_type": "markdown",
      "source": [
        "En este caso observamos dos cosas, en primer lugar SIEMPRE la ganadora del torneo fue Diana Taurasi, y en segundo  cuando tuvo que mostrar en la ciudad su performance, fue la misma que en el primer torneo.  \n",
        "<br>Es tan buena Taurasi que le ganó a la que tuvo más suerte del pelotón, el efecto suerte no está afectando a Taurasi porque está sola, y gana por su superioridad, no por la suerte."
      ],
      "metadata": {
        "id": "JEiveN8aCSFQ"
      }
    },
    {
      "cell_type": "markdown",
      "source": [
        "### 2.7 Efectos del tamaño de la ronda\n",
        "\n",
        "La cazatalentos llega ahora a un pueblo donde hay 100 jugadoras las que son mucho más parejas entre sí desde el punto de vista del ratio de enceste.\n",
        "Hay un jugadora, que llamaremos jugadora 1 que tiene un “índice de enceste” de  0.70 ,  es una jugadora buena pero dista mucho de ser Diana Taurasi, jamás estará en el \"WNBA Hall of Fame\".\n",
        "\n",
        "Las 99 jugadoras restantes que llamaremos “el pelotón”  tienen los índices de enceste  { 0.501, 0.0502, 0.503, …, 0.599  }  Es decir la jugadora 1 tiene 0.70 y la mejor jugadora del pelotón tiene 0.599,  o sea hay un poco más de 0.10 de diferencia.  La diferencia de 0.10 es significativa en basket.\n",
        "\n",
        "¿Cuántos tiros libres debe la cazatalentos pedirles que haga cada jugadora para que  si elige a la mejor jugadora tiene la certeza de llevarse a “la verdadero mejor” el 99% de los casos ?\n"
      ],
      "metadata": {
        "id": "BYnlNCcdC3Aa"
      }
    },
    {
      "cell_type": "code",
      "source": [
        "# intencionalmente la mejor jugadora va al final de la lista de jugadoras\n",
        "# porque la funcion which.max() de R hace trampa\n",
        "# si hay un empate ( dos máximos) se queda con la que esta primera en el vector\n",
        "\n",
        "\n",
        "set.seed( 102191 )\n",
        "\n",
        "# calcula cuantos encestes logra una jugadora con indice de enceste prob\n",
        "# que hace qyt tiros libres\n",
        "\n",
        "ftirar  <- function( prob, qty ){\n",
        "  return( sum( runif(qty) < prob ) )\n",
        "}\n",
        "\n",
        "\n",
        "# defino los jugadoras\n",
        "taurasi    <- 0.7\n",
        "peloton    <- ( 501:599 ) / 1000\n",
        "jugadoras  <- c( peloton, taurasi) # intencionalmente la mejor esta al final\n",
        "\n",
        "\n",
        "for( tiros_libres in c(10, 20, 50, 100, 200, 300, 400, 415, 500, 600, 700, 1000 ) ){\n",
        "\n",
        "  ultima_ganadora <- 0\n",
        "\n",
        "  for( i in 1:10000 ) { # diez mil experimentos\n",
        "\n",
        "    vaciertos  <- mapply( ftirar, jugadoras, tiros_libres )\n",
        "    mejor  <- which.max( vaciertos )\n",
        "\n",
        "    if( mejor == 100 )  ultima_ganadora  <- ultima_ganadora + 1\n",
        "  }\n",
        "\n",
        "  cat( tiros_libres, \"\\t\", ultima_ganadora/10000, \"\\n\" )\n",
        "}\n",
        "\n"
      ],
      "metadata": {
        "id": "9lAZ2JWjC_7S"
      },
      "execution_count": null,
      "outputs": []
    },
    {
      "cell_type": "markdown",
      "source": [
        "Haciendo tirar 415 tiros libres a cada una de los 100 jugadoras,\n",
        "<br> y quedándose con la ganadora de ese torneo,\n",
        "<br> en el 99.10%   ( 0.9910 )  de los casos se está segura que esa es \"la verdadera mejor\".\n"
      ],
      "metadata": {
        "id": "nusfuHtqDEF3"
      }
    },
    {
      "cell_type": "markdown",
      "source": [
        "## 3 Conclusiones\n",
        "\n",
        "El overfitting aparece cuando se comparan muchas jugadoras (modelos predictivos)  muy parecidas entre sí.  \n",
        "<br> En el modelado predictivo es la situación más común que se tengan modelos con similar poder predictivo ya que generalmente solo difieren apenas en valores de los hiperparámetros o algunas columnas nuevas con feature engineering.\n",
        "\n",
        "Las jugadoras no son determinísticas, sino probabilísticas, con lo cual al comparar muchas parecidas la ganadora es quien además de su talento tuvo más suerte en ese torneo.  La jugadora ganadora ganó por mera suerte, y  NO puede sostener esa suerte en un nuevo torneo, por lo que el puntaje del primer torneo es mentiroso, no se sostiene en el nuevo torneo.\n",
        "\n",
        "El overfitting se atenúa o puede llegar a desaparecer del todo, si en el torneo hay una jugadora ampliamente superior al resto. Esa jugadora SI mantiene su performance de un torneo al otro, ya que su puntaje en el primer torneo fue alto porque es realmente buena, porque no es el máximo de muchos parecidas a ella.\n",
        "\n",
        "La forma de combatir el overfitting es hacer torneos de muchos tiros libres.\n",
        "<br>Para estimar que tan buena es la jugadora ganadora de un torneo, hay que hacerla tirar nuevamente tiros libres.\n",
        "<br>El secreto está en hacer más de un torneo.\n"
      ],
      "metadata": {
        "id": "MJE_DbTMDI2x"
      }
    },
    {
      "cell_type": "markdown",
      "source": [
        "## 4 Desafio Cazatalentos Ordenamiento"
      ],
      "metadata": {
        "id": "on4_A7v8Fn8q"
      }
    },
    {
      "cell_type": "markdown",
      "source": [
        "### 4.1 Enunciado\n",
        "\n",
        "Se reúne la entrenadora  en la gran ciudad con algunas cazatalentos que visitaron regiones distintas.\n",
        "\n",
        "Entrenadora:  Bienvenidas a todas, veo que cada una de ustedes ha traído la estadística de su candidata. Sin embargo, yo debo ordenarlas de mejor a peor, y no me alcanza con que dos de ustedes me digan que que sus candidatas encestaron 80/100, necesito que me relaten exactamente el procedimiento que han seguido para elegir a la mejor jugadora.\n",
        "\n",
        "Cazatalentos 1:  Discúlpeme entrenadora, si dos de nosotras le presentamos casos que en distintos pueblos han encestado exactamente 80 de 100, probabilisticamente esas adolescentes son equivalentes. Es cierto que luego aquí en la gran ciudad el dia de la prueba una podrá encestar 77 de 100, la otra 83,  pero eso es la parte natural del random, ya sabemos que la distribución es binomial.  Ambas son equivalentes, no importa que pasó con el resto de las jugadoras de su pueblo.\n",
        "\n",
        "Entrenadora: Estimada “Cazatalentos 1”  tú estas equivocada, no consideras El Problema de las Multiples Comparaciones; elegir cuales de esas adolescentes vendrán a la gran ciudad a ser evaluadas es mi decisión. Comienza tú contando detalladamente el proceso que has seguido.\n",
        "4\n",
        "\n"
      ],
      "metadata": {
        "id": "6CRZMyXzDOj8"
      }
    },
    {
      "cell_type": "markdown",
      "source": [
        "**Cazatalentos 1**: Llegué a la localidad habían 100 adolescentes en el gimnasio, hice tirar a cada una 100 tiros, solo una obtuvo 80 aciertos, luego un par 79, otro par 78, y así descendían. La que logró 80 aciertos es mi candidata.\n"
      ],
      "metadata": {
        "id": "qrBHwlb-D8Aq"
      }
    },
    {
      "cell_type": "markdown",
      "source": [
        "**Cazatalentos 2:** Llegué a una pequeña ciudad y habían 200 adolescentes en el gimnasio, hice tirar a cada una 100 tiros, solo una obtuvo 80 aciertos, seis 79,  cinco 78, y así descendían. La que logró 80 aciertos es mi candidata."
      ],
      "metadata": {
        "id": "2aqYKT53EbOf"
      }
    },
    {
      "cell_type": "markdown",
      "source": [
        "**Cazatalentos 3:** Yo poseo 25 años de experiencia como cazatalentos y tengo muy buena intuición  para detectar el talento. Llegué a un pueblo donde habían 100 adolescentes, me senté en las gradas del gimnasio y las observé detenidamente mientras precalentaban sin tirar al aro.  A los 10 minutos, me paro, y señalo a una de ellas y le digo :  'tú, la número 13, a tirar 100 tiros; el resto gracias por haber venido pero se pueden ir cada una a su casa”. Y ahí al tirar esos 100 tiros logró 80 aciertos y esa es mi candidata."
      ],
      "metadata": {
        "id": "qVVDhqLLEdsG"
      }
    },
    {
      "cell_type": "markdown",
      "source": [
        "**Cazatalentos 4:** Llegué a minúsculo pueblo con un aro reglamentario en la pared de una escuela, habían solamente 2 adolescentes, hice tirar a cada una 100 tiros, una obtuvo 80 y la otra 75."
      ],
      "metadata": {
        "id": "fLGg_pXHElSG"
      }
    },
    {
      "cell_type": "markdown",
      "source": [
        "**Cazatalentos 5:** Le dice a la entrenadora : “fui a una localidad de 500 habitantes, había una sola adolescente interesada, la hice tirar 100 tiros libres, y encestó 80,  tengo una filmación con mi celular de los 100 tiros, sin edición ni cortes”\n",
        "En realidad, esa adolescente es la sobrina de la cazatalentos, la hizo tirar 10 rondas de 100 tiros cada una, grabó todas, pero tramposamente solo trae la grabación de la mejor ronda a la entrenadora.\n",
        "Los resultados obtenidos por su sobrina son\n",
        "\n",
        "\n",
        "| ronda | Tiros | Encestes |\n",
        "| ---: | ---: | ---: |\n",
        "| 1 | 100 | 68 |\n",
        "| 2 | 100 | 74 |\n",
        "| 3 | 100 | 78 |\n",
        "| 4 | 100 | 70 |\n",
        "| 5 | 100 | 68 |\n",
        "| 6 | 100 | 63 |\n",
        "| 7 | 100 | 80 |\n",
        "| 8 | 100 | 68 |\n",
        "| 9 | 100 | 67 |\n",
        "| 10 | 100 | 65 |\n",
        "\n",
        "\n",
        "(esta deshonestidad de la Cazatalentos 5 no debería parecerle extraña ni causarle gracia, es exactamente lo mismo que elegir como submit final el que le fue mejor en el Public Leaderboard,  algo muy común entre l@s alumn@s ...)\n",
        "<br>Por una persona espía en el pueblo, la entrenadora está al tanto de lo ocurrido y conoce la tabla anterior, usará dicha información para tomar la decisión, aunque no le dirá nada, por esta vez, a la cazatalentos."
      ],
      "metadata": {
        "id": "JGNSv31_EsZA"
      }
    },
    {
      "cell_type": "markdown",
      "source": [
        "**Cazatalentos 6:** Yo disiento con utilizar sesgos como lo hizo la Cazatalentos 3, creo que se deben dar oportunidades inesperadas. Camino al pueblo escuché en la radio los resultados de la quiniela matutina y el 43 fue el numero ganador.\n",
        "\n",
        "Llegué al gimnasio, habia 100 adolescentes, les explique que iba a utilizar criterios objetivos y subjetivos para elegir a la ganadora.  Las hice tirar 100 tiros a todas,  sin embargo ya tenía la decisión tomada de antemano, elegí a la numero 43, quien hizo 79 encestes de 100 tiros.\n",
        "Ni siquiera registré en mi tablet los encestes del resto, quería dar una oportunidad random a una de esas chicas."
      ],
      "metadata": {
        "id": "UvQMpoD6BZCB"
      }
    },
    {
      "cell_type": "markdown",
      "source": [
        "**Cazatalentos 7:** Llegué a la localidad habían 100 adolescentes en el gimnasio, todo perfectamente organizado por la dirección, hice tirar a cada una 100 tiros, solo una obtuvo 80 aciertos, luego un par 79, otro par 78, y así descendían. La que logró 80 aciertos era hasta ese momento mi candidata.\n",
        "<br> Estaba subiendo ya a mi automovil para retirarme, y llega corriendo una nueva adolescente. Me relata que vive en un pequeño paraje sin gimnasio a 60 kilómetros al norte, que tenía una cita con otra cazatalentos, la única adolescente de ese paraje, pero que por un terrible accidente de tránsito en un puente, la otra cazatalentos no pudo llegar a testearla, y le refirió que yo estaraía en este pueblo por lo que hacieno dedo llegó hasta aquí.\n",
        "<br> Con un llamado corroboré su historia, y como estaba con tiempo, reingresé al gimnasio y le hice tirar 100 tiros libres, de los cuales encestó 79.\n",
        "<br> Estoy presentando como mi candidata a esta adolescente de último momento de 79 encestes (y no la previa de 80)."
      ],
      "metadata": {
        "id": "mcBONyY9-KNE"
      }
    },
    {
      "cell_type": "markdown",
      "source": [
        "### 4.2 Desafio\n",
        "\n",
        "Podemos suponer que la supertalentosa Diana Taurasi con su “índice de enceste” del 0.85 es superior a todas las jugadoras evaluadas en los pueblos por las cazatalentos.\n",
        "\n",
        "Desafío : ¿Si usted fuera la entrenadora, como ordena el valor esperado de encestes en una ronda de 100 tiros libres  a cada una de las candidatas propuestas por las cinco cazatalentos ?\n",
        "\n",
        "\n",
        "donde   Ci  < Cj   sii   prob(  #Encestes Ci  <  #Encestes Cj    | 100 tiros cada uno )  >  0.5\n",
        "es decir que, haciendo 100 tiros libres,  más de la mitad de las veces,  Ci va a lograr menos encestes que Cj\n",
        "\n",
        "La entrenadora de la gran ciudad NO quiere traer a la elegida de cada cazatalentos y hacerlas tirar 100 tiros delante de ella para constatar cual logra más encestes en esa ronda. Ella quiere, con la información que le brindó cada cazatalentos sobre el procedimiento y los resultados, elegir la mejor encestadora.\n"
      ],
      "metadata": {
        "id": "PRWG_L4tF0Ip"
      }
    },
    {
      "cell_type": "markdown",
      "source": [
        "### 4.3  Reglas del Desafio\n",
        "\n",
        "\n",
        "*  Entrega\n",
        "      * la entrega se realiza con un solo mensaje en Zulip canal #CazaTalentos\n",
        "         * Ordenamiento,  por ejemplo     C3 <  C6 < C5 <  C7 < C1 < C4 < C2\n",
        "         * Explicacion\n",
        "      * Si necesitará apoyarse en scripts para alguna de las comparaciones\n",
        "          * link a carpeta en GitHub\n",
        "      * Podrá enviar varios mensajes, el único que tendrá valor será el último\n",
        "\n",
        "*  Será muy valioso el intercambio de ideas en Zulip channel  #CazaTalentos  topic  Intercambio de Ideas, este desafío suele ser muy polémico.\n",
        "\n",
        "*  La participación en este desafío es opcional.\n"
      ],
      "metadata": {
        "id": "WO9JHCzXF-9w"
      }
    }
  ]
}